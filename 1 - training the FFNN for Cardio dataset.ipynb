{
 "cells": [
  {
   "cell_type": "code",
   "execution_count": 27,
   "metadata": {},
   "outputs": [],
   "source": [
    "import pandas as pd\n",
    "import numpy as np"
   ]
  },
  {
   "cell_type": "code",
   "execution_count": 28,
   "metadata": {},
   "outputs": [],
   "source": [
    "dataset=pd.read_csv('data/cardio_dataset.csv').values"
   ]
  },
  {
   "cell_type": "code",
   "execution_count": 29,
   "metadata": {},
   "outputs": [],
   "source": [
    "data=dataset[:,0:7]\n",
    "target=dataset[:,7]"
   ]
  },
  {
   "cell_type": "code",
   "execution_count": 30,
   "metadata": {},
   "outputs": [],
   "source": [
    "from sklearn.preprocessing import MinMaxScaler\n",
    "\n",
    "target=np.reshape(target, (-1,1))\n",
    "\n",
    "scaler_data = MinMaxScaler(feature_range=(0,1))\n",
    "scaler_target = MinMaxScaler()\n",
    "\n",
    "data_scaled=scaler_data.fit_transform(data)\n",
    "target_scaled=scaler_target.fit_transform(target)"
   ]
  },
  {
   "cell_type": "code",
   "execution_count": 31,
   "metadata": {},
   "outputs": [],
   "source": [
    "from sklearn.model_selection import train_test_split\n",
    "\n",
    "train_data, test_data, train_target, test_target = train_test_split(data_scaled, target_scaled,test_size=0.2)"
   ]
  },
  {
   "cell_type": "code",
   "execution_count": 32,
   "metadata": {},
   "outputs": [
    {
     "name": "stdout",
     "output_type": "stream",
     "text": [
      "Model: \"sequential_1\"\n",
      "_________________________________________________________________\n",
      " Layer (type)                Output Shape              Param #   \n",
      "=================================================================\n",
      " dense_4 (Dense)             (None, 128)               1024      \n",
      "                                                                 \n",
      " dropout_2 (Dropout)         (None, 128)               0         \n",
      "                                                                 \n",
      " dense_5 (Dense)             (None, 64)                8256      \n",
      "                                                                 \n",
      " dropout_3 (Dropout)         (None, 64)                0         \n",
      "                                                                 \n",
      " dense_6 (Dense)             (None, 10)                650       \n",
      "                                                                 \n",
      " dense_7 (Dense)             (None, 1)                 11        \n",
      "                                                                 \n",
      "=================================================================\n",
      "Total params: 9,941\n",
      "Trainable params: 9,941\n",
      "Non-trainable params: 0\n",
      "_________________________________________________________________\n"
     ]
    }
   ],
   "source": [
    "from keras.models import Sequential\n",
    "from keras.layers import Dense,Dropout\n",
    "import numpy as np\n",
    "\n",
    "model = Sequential()\n",
    "model.add(Dense(128, input_dim=7, activation='sigmoid',kernel_initializer='normal'))\n",
    "model.add(Dropout(0.5))\n",
    "model.add(Dense(64, activation='sigmoid'))\n",
    "model.add(Dropout(0.5))\n",
    "model.add(Dense(10, activation='sigmoid'))\n",
    "model.add(Dense(1, activation='linear'))\n",
    "\n",
    "model.compile(optimizer='adam',loss='mse',metrics=['mse','mae'])\n",
    "\n",
    "model.summary()"
   ]
  },
  {
   "cell_type": "code",
   "execution_count": 33,
   "metadata": {},
   "outputs": [],
   "source": [
    "from sklearn.metrics import r2_score\n",
    "import keras\n",
    "\n",
    "class CustomCallback(keras.callbacks.Callback):\n",
    "    \n",
    "    def on_epoch_end(self,epoch,logs=None):\n",
    "        predicted_result=model.predict(test_data)\n",
    "        r2=r2_score(test_target,predicted_result)\n",
    "        print('epoch ',epoch,'- r2 score:',r2)\n",
    "        \n",
    "        \n"
   ]
  },
  {
   "cell_type": "markdown",
   "metadata": {},
   "source": [
    "[Full details at keras official site](https://www.tensorflow.org/guide/keras/custom_callback)"
   ]
  },
  {
   "cell_type": "code",
   "execution_count": 34,
   "metadata": {},
   "outputs": [],
   "source": [
    "from keras.callbacks import ModelCheckpoint\n",
    "\n",
    "checkpoint = ModelCheckpoint('models/model-{epoch:03d}.model',monitor='val_loss',save_best_only=True,mode='auto')"
   ]
  },
  {
   "cell_type": "code",
   "execution_count": 35,
   "metadata": {
    "scrolled": true
   },
   "outputs": [
    {
     "name": "stdout",
     "output_type": "stream",
     "text": [
      "Epoch 1/200\n",
      "143/167 [========================>.....] - ETA: 0s - loss: 0.1656 - mse: 0.1656 - mae: 0.2736"
     ]
    },
    {
     "name": "stderr",
     "output_type": "stream",
     "text": [
      "WARNING:absl:Found untraced functions such as _update_step_xla while saving (showing 1 of 1). These functions will not be directly callable after loading.\n"
     ]
    },
    {
     "name": "stdout",
     "output_type": "stream",
     "text": [
      "INFO:tensorflow:Assets written to: models\\model-001.model\\assets\n"
     ]
    },
    {
     "name": "stderr",
     "output_type": "stream",
     "text": [
      "INFO:tensorflow:Assets written to: models\\model-001.model\\assets\n"
     ]
    },
    {
     "name": "stdout",
     "output_type": "stream",
     "text": [
      "42/42 [==============================] - 0s 1ms/step\n",
      "epoch  0 - r2 score: -0.4417108802590255\n",
      "167/167 [==============================] - 3s 12ms/step - loss: 0.1493 - mse: 0.1493 - mae: 0.2592 - val_loss: 0.0310 - val_mse: 0.0310 - val_mae: 0.1127\n",
      "Epoch 2/200\n",
      "134/167 [=======================>......] - ETA: 0s - loss: 0.0439 - mse: 0.0439 - mae: 0.1595"
     ]
    },
    {
     "name": "stderr",
     "output_type": "stream",
     "text": [
      "WARNING:absl:Found untraced functions such as _update_step_xla while saving (showing 1 of 1). These functions will not be directly callable after loading.\n"
     ]
    },
    {
     "name": "stdout",
     "output_type": "stream",
     "text": [
      "INFO:tensorflow:Assets written to: models\\model-002.model\\assets\n"
     ]
    },
    {
     "name": "stderr",
     "output_type": "stream",
     "text": [
      "INFO:tensorflow:Assets written to: models\\model-002.model\\assets\n"
     ]
    },
    {
     "name": "stdout",
     "output_type": "stream",
     "text": [
      "42/42 [==============================] - 0s 1ms/step\n",
      "epoch  1 - r2 score: -0.1415783879823167\n",
      "167/167 [==============================] - 2s 13ms/step - loss: 0.0427 - mse: 0.0427 - mae: 0.1582 - val_loss: 0.0245 - val_mse: 0.0245 - val_mae: 0.1027\n",
      "Epoch 3/200\n",
      "165/167 [============================>.] - ETA: 0s - loss: 0.0349 - mse: 0.0349 - mae: 0.1416"
     ]
    },
    {
     "name": "stderr",
     "output_type": "stream",
     "text": [
      "WARNING:absl:Found untraced functions such as _update_step_xla while saving (showing 1 of 1). These functions will not be directly callable after loading.\n"
     ]
    },
    {
     "name": "stdout",
     "output_type": "stream",
     "text": [
      "INFO:tensorflow:Assets written to: models\\model-003.model\\assets\n"
     ]
    },
    {
     "name": "stderr",
     "output_type": "stream",
     "text": [
      "INFO:tensorflow:Assets written to: models\\model-003.model\\assets\n"
     ]
    },
    {
     "name": "stdout",
     "output_type": "stream",
     "text": [
      "42/42 [==============================] - 0s 1ms/step\n",
      "epoch  2 - r2 score: -0.07503901815356895\n",
      "167/167 [==============================] - 2s 13ms/step - loss: 0.0349 - mse: 0.0349 - mae: 0.1416 - val_loss: 0.0231 - val_mse: 0.0231 - val_mae: 0.1021\n",
      "Epoch 4/200\n",
      "139/167 [=======================>......] - ETA: 0s - loss: 0.0301 - mse: 0.0301 - mae: 0.1309"
     ]
    },
    {
     "name": "stderr",
     "output_type": "stream",
     "text": [
      "WARNING:absl:Found untraced functions such as _update_step_xla while saving (showing 1 of 1). These functions will not be directly callable after loading.\n"
     ]
    },
    {
     "name": "stdout",
     "output_type": "stream",
     "text": [
      "INFO:tensorflow:Assets written to: models\\model-004.model\\assets\n"
     ]
    },
    {
     "name": "stderr",
     "output_type": "stream",
     "text": [
      "INFO:tensorflow:Assets written to: models\\model-004.model\\assets\n"
     ]
    },
    {
     "name": "stdout",
     "output_type": "stream",
     "text": [
      "42/42 [==============================] - 0s 1ms/step\n",
      "epoch  3 - r2 score: 0.007128818186432295\n",
      "167/167 [==============================] - 2s 14ms/step - loss: 0.0296 - mse: 0.0296 - mae: 0.1296 - val_loss: 0.0213 - val_mse: 0.0213 - val_mae: 0.1040\n",
      "Epoch 5/200\n",
      "144/167 [========================>.....] - ETA: 0s - loss: 0.0268 - mse: 0.0268 - mae: 0.1240"
     ]
    },
    {
     "name": "stderr",
     "output_type": "stream",
     "text": [
      "WARNING:absl:Found untraced functions such as _update_step_xla while saving (showing 1 of 1). These functions will not be directly callable after loading.\n"
     ]
    },
    {
     "name": "stdout",
     "output_type": "stream",
     "text": [
      "INFO:tensorflow:Assets written to: models\\model-005.model\\assets\n"
     ]
    },
    {
     "name": "stderr",
     "output_type": "stream",
     "text": [
      "INFO:tensorflow:Assets written to: models\\model-005.model\\assets\n"
     ]
    },
    {
     "name": "stdout",
     "output_type": "stream",
     "text": [
      "42/42 [==============================] - 0s 925us/step\n",
      "epoch  4 - r2 score: 0.02083539378145205\n",
      "167/167 [==============================] - 2s 13ms/step - loss: 0.0268 - mse: 0.0268 - mae: 0.1237 - val_loss: 0.0210 - val_mse: 0.0210 - val_mae: 0.1050\n",
      "Epoch 6/200\n",
      "42/42 [==============================] - 0s 942us/steposs: 0.0258 - mse: 0.0258 - mae: 0.12\n",
      "epoch  5 - r2 score: 0.013573756920968738\n",
      "167/167 [==============================] - 0s 2ms/step - loss: 0.0255 - mse: 0.0255 - mae: 0.1220 - val_loss: 0.0212 - val_mse: 0.0212 - val_mae: 0.1045\n",
      "Epoch 7/200\n",
      "157/167 [===========================>..] - ETA: 0s - loss: 0.0245 - mse: 0.0245 - mae: 0.1185"
     ]
    },
    {
     "name": "stderr",
     "output_type": "stream",
     "text": [
      "WARNING:absl:Found untraced functions such as _update_step_xla while saving (showing 1 of 1). These functions will not be directly callable after loading.\n"
     ]
    },
    {
     "name": "stdout",
     "output_type": "stream",
     "text": [
      "INFO:tensorflow:Assets written to: models\\model-007.model\\assets\n"
     ]
    },
    {
     "name": "stderr",
     "output_type": "stream",
     "text": [
      "INFO:tensorflow:Assets written to: models\\model-007.model\\assets\n"
     ]
    },
    {
     "name": "stdout",
     "output_type": "stream",
     "text": [
      "42/42 [==============================] - 0s 1ms/step\n",
      "epoch  6 - r2 score: 0.04115919518630351\n",
      "167/167 [==============================] - 2s 14ms/step - loss: 0.0245 - mse: 0.0245 - mae: 0.1187 - val_loss: 0.0206 - val_mse: 0.0206 - val_mae: 0.1068\n",
      "Epoch 8/200\n",
      "141/167 [========================>.....] - ETA: 0s - loss: 0.0238 - mse: 0.0238 - mae: 0.1178"
     ]
    },
    {
     "name": "stderr",
     "output_type": "stream",
     "text": [
      "WARNING:absl:Found untraced functions such as _update_step_xla while saving (showing 1 of 1). These functions will not be directly callable after loading.\n"
     ]
    },
    {
     "name": "stdout",
     "output_type": "stream",
     "text": [
      "INFO:tensorflow:Assets written to: models\\model-008.model\\assets\n"
     ]
    },
    {
     "name": "stderr",
     "output_type": "stream",
     "text": [
      "INFO:tensorflow:Assets written to: models\\model-008.model\\assets\n"
     ]
    },
    {
     "name": "stdout",
     "output_type": "stream",
     "text": [
      "42/42 [==============================] - 0s 1ms/step\n",
      "epoch  7 - r2 score: 0.04934765011373432\n",
      "167/167 [==============================] - 2s 13ms/step - loss: 0.0242 - mse: 0.0242 - mae: 0.1184 - val_loss: 0.0204 - val_mse: 0.0204 - val_mae: 0.1067\n",
      "Epoch 9/200\n",
      "165/167 [============================>.] - ETA: 0s - loss: 0.0236 - mse: 0.0236 - mae: 0.1172"
     ]
    },
    {
     "name": "stderr",
     "output_type": "stream",
     "text": [
      "WARNING:absl:Found untraced functions such as _update_step_xla while saving (showing 1 of 1). These functions will not be directly callable after loading.\n"
     ]
    },
    {
     "name": "stdout",
     "output_type": "stream",
     "text": [
      "INFO:tensorflow:Assets written to: models\\model-009.model\\assets\n"
     ]
    },
    {
     "name": "stderr",
     "output_type": "stream",
     "text": [
      "INFO:tensorflow:Assets written to: models\\model-009.model\\assets\n"
     ]
    },
    {
     "name": "stdout",
     "output_type": "stream",
     "text": [
      "42/42 [==============================] - 0s 979us/step\n",
      "epoch  8 - r2 score: 0.0669405258289879\n",
      "167/167 [==============================] - 2s 14ms/step - loss: 0.0237 - mse: 0.0237 - mae: 0.1173 - val_loss: 0.0200 - val_mse: 0.0200 - val_mae: 0.1066\n",
      "Epoch 10/200\n",
      "148/167 [=========================>....] - ETA: 0s - loss: 0.0232 - mse: 0.0232 - mae: 0.1162"
     ]
    },
    {
     "name": "stderr",
     "output_type": "stream",
     "text": [
      "WARNING:absl:Found untraced functions such as _update_step_xla while saving (showing 1 of 1). These functions will not be directly callable after loading.\n"
     ]
    },
    {
     "name": "stdout",
     "output_type": "stream",
     "text": [
      "INFO:tensorflow:Assets written to: models\\model-010.model\\assets\n"
     ]
    },
    {
     "name": "stderr",
     "output_type": "stream",
     "text": [
      "INFO:tensorflow:Assets written to: models\\model-010.model\\assets\n"
     ]
    },
    {
     "name": "stdout",
     "output_type": "stream",
     "text": [
      "42/42 [==============================] - 0s 1ms/step\n",
      "epoch  9 - r2 score: 0.09281620460520601\n",
      "167/167 [==============================] - 2s 13ms/step - loss: 0.0231 - mse: 0.0231 - mae: 0.1161 - val_loss: 0.0195 - val_mse: 0.0195 - val_mae: 0.1031\n",
      "Epoch 11/200\n",
      "154/167 [==========================>...] - ETA: 0s - loss: 0.0219 - mse: 0.0219 - mae: 0.1115"
     ]
    },
    {
     "name": "stderr",
     "output_type": "stream",
     "text": [
      "WARNING:absl:Found untraced functions such as _update_step_xla while saving (showing 1 of 1). These functions will not be directly callable after loading.\n"
     ]
    },
    {
     "name": "stdout",
     "output_type": "stream",
     "text": [
      "INFO:tensorflow:Assets written to: models\\model-011.model\\assets\n"
     ]
    },
    {
     "name": "stderr",
     "output_type": "stream",
     "text": [
      "INFO:tensorflow:Assets written to: models\\model-011.model\\assets\n"
     ]
    },
    {
     "name": "stdout",
     "output_type": "stream",
     "text": [
      "42/42 [==============================] - 0s 1ms/step\n",
      "epoch  10 - r2 score: 0.17446452799178092\n",
      "167/167 [==============================] - 2s 14ms/step - loss: 0.0217 - mse: 0.0217 - mae: 0.1111 - val_loss: 0.0177 - val_mse: 0.0177 - val_mae: 0.0989\n",
      "Epoch 12/200\n",
      "164/167 [============================>.] - ETA: 0s - loss: 0.0200 - mse: 0.0200 - mae: 0.1063"
     ]
    },
    {
     "name": "stderr",
     "output_type": "stream",
     "text": [
      "WARNING:absl:Found untraced functions such as _update_step_xla while saving (showing 1 of 1). These functions will not be directly callable after loading.\n"
     ]
    },
    {
     "name": "stdout",
     "output_type": "stream",
     "text": [
      "INFO:tensorflow:Assets written to: models\\model-012.model\\assets\n"
     ]
    },
    {
     "name": "stderr",
     "output_type": "stream",
     "text": [
      "INFO:tensorflow:Assets written to: models\\model-012.model\\assets\n"
     ]
    },
    {
     "name": "stdout",
     "output_type": "stream",
     "text": [
      "42/42 [==============================] - 0s 845us/step\n",
      "epoch  11 - r2 score: 0.3084308818394659\n",
      "167/167 [==============================] - 2s 13ms/step - loss: 0.0199 - mse: 0.0199 - mae: 0.1062 - val_loss: 0.0148 - val_mse: 0.0148 - val_mae: 0.0871\n",
      "Epoch 13/200\n",
      "155/167 [==========================>...] - ETA: 0s - loss: 0.0169 - mse: 0.0169 - mae: 0.0964"
     ]
    },
    {
     "name": "stderr",
     "output_type": "stream",
     "text": [
      "WARNING:absl:Found untraced functions such as _update_step_xla while saving (showing 1 of 1). These functions will not be directly callable after loading.\n"
     ]
    },
    {
     "name": "stdout",
     "output_type": "stream",
     "text": [
      "INFO:tensorflow:Assets written to: models\\model-013.model\\assets\n"
     ]
    },
    {
     "name": "stderr",
     "output_type": "stream",
     "text": [
      "INFO:tensorflow:Assets written to: models\\model-013.model\\assets\n"
     ]
    },
    {
     "name": "stdout",
     "output_type": "stream",
     "text": [
      "42/42 [==============================] - 0s 1ms/step\n",
      "epoch  12 - r2 score: 0.48418014125110476\n",
      "167/167 [==============================] - 2s 13ms/step - loss: 0.0171 - mse: 0.0171 - mae: 0.0966 - val_loss: 0.0111 - val_mse: 0.0111 - val_mae: 0.0747\n",
      "Epoch 14/200\n",
      "164/167 [============================>.] - ETA: 0s - loss: 0.0150 - mse: 0.0150 - mae: 0.0903"
     ]
    },
    {
     "name": "stderr",
     "output_type": "stream",
     "text": [
      "WARNING:absl:Found untraced functions such as _update_step_xla while saving (showing 1 of 1). These functions will not be directly callable after loading.\n"
     ]
    },
    {
     "name": "stdout",
     "output_type": "stream",
     "text": [
      "INFO:tensorflow:Assets written to: models\\model-014.model\\assets\n"
     ]
    },
    {
     "name": "stderr",
     "output_type": "stream",
     "text": [
      "INFO:tensorflow:Assets written to: models\\model-014.model\\assets\n"
     ]
    },
    {
     "name": "stdout",
     "output_type": "stream",
     "text": [
      "42/42 [==============================] - 0s 1ms/step\n",
      "epoch  13 - r2 score: 0.5766972456939093\n",
      "167/167 [==============================] - 2s 13ms/step - loss: 0.0150 - mse: 0.0150 - mae: 0.0902 - val_loss: 0.0091 - val_mse: 0.0091 - val_mae: 0.0646\n",
      "Epoch 15/200\n",
      "114/167 [===================>..........] - ETA: 0s - loss: 0.0138 - mse: 0.0138 - mae: 0.0860"
     ]
    },
    {
     "name": "stderr",
     "output_type": "stream",
     "text": [
      "WARNING:absl:Found untraced functions such as _update_step_xla while saving (showing 1 of 1). These functions will not be directly callable after loading.\n"
     ]
    },
    {
     "name": "stdout",
     "output_type": "stream",
     "text": [
      "INFO:tensorflow:Assets written to: models\\model-015.model\\assets\n"
     ]
    },
    {
     "name": "stderr",
     "output_type": "stream",
     "text": [
      "INFO:tensorflow:Assets written to: models\\model-015.model\\assets\n"
     ]
    },
    {
     "name": "stdout",
     "output_type": "stream",
     "text": [
      "42/42 [==============================] - 0s 830us/step\n",
      "epoch  14 - r2 score: 0.6349325942144131\n",
      "167/167 [==============================] - 2s 13ms/step - loss: 0.0136 - mse: 0.0136 - mae: 0.0856 - val_loss: 0.0078 - val_mse: 0.0078 - val_mae: 0.0580\n",
      "Epoch 16/200\n",
      "163/167 [============================>.] - ETA: 0s - loss: 0.0122 - mse: 0.0122 - mae: 0.0799"
     ]
    },
    {
     "name": "stderr",
     "output_type": "stream",
     "text": [
      "WARNING:absl:Found untraced functions such as _update_step_xla while saving (showing 1 of 1). These functions will not be directly callable after loading.\n"
     ]
    },
    {
     "name": "stdout",
     "output_type": "stream",
     "text": [
      "INFO:tensorflow:Assets written to: models\\model-016.model\\assets\n"
     ]
    },
    {
     "name": "stderr",
     "output_type": "stream",
     "text": [
      "INFO:tensorflow:Assets written to: models\\model-016.model\\assets\n"
     ]
    },
    {
     "name": "stdout",
     "output_type": "stream",
     "text": [
      "42/42 [==============================] - 0s 889us/step\n",
      "epoch  15 - r2 score: 0.6794911230615439\n",
      "167/167 [==============================] - 3s 17ms/step - loss: 0.0121 - mse: 0.0121 - mae: 0.0798 - val_loss: 0.0069 - val_mse: 0.0069 - val_mae: 0.0553\n",
      "Epoch 17/200\n",
      "154/167 [==========================>...] - ETA: 0s - loss: 0.0112 - mse: 0.0112 - mae: 0.0757"
     ]
    },
    {
     "name": "stderr",
     "output_type": "stream",
     "text": [
      "WARNING:absl:Found untraced functions such as _update_step_xla while saving (showing 1 of 1). These functions will not be directly callable after loading.\n"
     ]
    },
    {
     "name": "stdout",
     "output_type": "stream",
     "text": [
      "INFO:tensorflow:Assets written to: models\\model-017.model\\assets\n"
     ]
    },
    {
     "name": "stderr",
     "output_type": "stream",
     "text": [
      "INFO:tensorflow:Assets written to: models\\model-017.model\\assets\n"
     ]
    },
    {
     "name": "stdout",
     "output_type": "stream",
     "text": [
      "42/42 [==============================] - 0s 761us/step\n",
      "epoch  16 - r2 score: 0.7043637359365216\n",
      "167/167 [==============================] - 2s 12ms/step - loss: 0.0112 - mse: 0.0112 - mae: 0.0757 - val_loss: 0.0063 - val_mse: 0.0063 - val_mae: 0.0545\n",
      "Epoch 18/200\n",
      "42/42 [==============================] - 0s 902us/steposs: 0.0108 - mse: 0.0108 - mae: 0.07\n",
      "epoch  17 - r2 score: 0.6935629690641851\n",
      "167/167 [==============================] - 0s 2ms/step - loss: 0.0108 - mse: 0.0108 - mae: 0.0736 - val_loss: 0.0066 - val_mse: 0.0066 - val_mae: 0.0518\n",
      "Epoch 19/200\n",
      "149/167 [=========================>....] - ETA: 0s - loss: 0.0094 - mse: 0.0094 - mae: 0.0685"
     ]
    },
    {
     "name": "stderr",
     "output_type": "stream",
     "text": [
      "WARNING:absl:Found untraced functions such as _update_step_xla while saving (showing 1 of 1). These functions will not be directly callable after loading.\n"
     ]
    },
    {
     "name": "stdout",
     "output_type": "stream",
     "text": [
      "INFO:tensorflow:Assets written to: models\\model-019.model\\assets\n"
     ]
    },
    {
     "name": "stderr",
     "output_type": "stream",
     "text": [
      "INFO:tensorflow:Assets written to: models\\model-019.model\\assets\n"
     ]
    },
    {
     "name": "stdout",
     "output_type": "stream",
     "text": [
      "42/42 [==============================] - 0s 381us/step\n",
      "epoch  18 - r2 score: 0.746311556270352\n",
      "167/167 [==============================] - 2s 14ms/step - loss: 0.0094 - mse: 0.0094 - mae: 0.0684 - val_loss: 0.0054 - val_mse: 0.0054 - val_mae: 0.0508\n",
      "Epoch 20/200\n",
      "42/42 [==============================] - 0s 829us/steposs: 0.0098 - mse: 0.0098 - mae: 0.06\n",
      "epoch  19 - r2 score: 0.7449990432400363\n",
      "167/167 [==============================] - 0s 2ms/step - loss: 0.0098 - mse: 0.0098 - mae: 0.0697 - val_loss: 0.0055 - val_mse: 0.0055 - val_mae: 0.0465\n",
      "Epoch 21/200\n",
      "42/42 [==============================] - 0s 761us/steposs: 0.0092 - mse: 0.0092 - mae: 0.06\n",
      "epoch  20 - r2 score: 0.7297254605570139\n",
      "167/167 [==============================] - 0s 2ms/step - loss: 0.0092 - mse: 0.0092 - mae: 0.0669 - val_loss: 0.0058 - val_mse: 0.0058 - val_mae: 0.0477\n",
      "Epoch 22/200\n",
      "150/167 [=========================>....] - ETA: 0s - loss: 0.0085 - mse: 0.0085 - mae: 0.0647"
     ]
    },
    {
     "name": "stderr",
     "output_type": "stream",
     "text": [
      "WARNING:absl:Found untraced functions such as _update_step_xla while saving (showing 1 of 1). These functions will not be directly callable after loading.\n"
     ]
    },
    {
     "name": "stdout",
     "output_type": "stream",
     "text": [
      "INFO:tensorflow:Assets written to: models\\model-022.model\\assets\n"
     ]
    },
    {
     "name": "stderr",
     "output_type": "stream",
     "text": [
      "INFO:tensorflow:Assets written to: models\\model-022.model\\assets\n"
     ]
    },
    {
     "name": "stdout",
     "output_type": "stream",
     "text": [
      "42/42 [==============================] - 0s 799us/step\n",
      "epoch  21 - r2 score: 0.7636503170022907\n",
      "167/167 [==============================] - 2s 11ms/step - loss: 0.0086 - mse: 0.0086 - mae: 0.0649 - val_loss: 0.0051 - val_mse: 0.0051 - val_mae: 0.0484\n",
      "Epoch 23/200\n",
      "140/167 [========================>.....] - ETA: 0s - loss: 0.0081 - mse: 0.0081 - mae: 0.0621"
     ]
    },
    {
     "name": "stderr",
     "output_type": "stream",
     "text": [
      "WARNING:absl:Found untraced functions such as _update_step_xla while saving (showing 1 of 1). These functions will not be directly callable after loading.\n"
     ]
    },
    {
     "name": "stdout",
     "output_type": "stream",
     "text": [
      "INFO:tensorflow:Assets written to: models\\model-023.model\\assets\n"
     ]
    },
    {
     "name": "stderr",
     "output_type": "stream",
     "text": [
      "INFO:tensorflow:Assets written to: models\\model-023.model\\assets\n"
     ]
    },
    {
     "name": "stdout",
     "output_type": "stream",
     "text": [
      "42/42 [==============================] - 0s 760us/step\n",
      "epoch  22 - r2 score: 0.767230026946015\n",
      "167/167 [==============================] - 2s 13ms/step - loss: 0.0082 - mse: 0.0082 - mae: 0.0625 - val_loss: 0.0050 - val_mse: 0.0050 - val_mae: 0.0473\n",
      "Epoch 24/200\n",
      "146/167 [=========================>....] - ETA: 0s - loss: 0.0077 - mse: 0.0077 - mae: 0.0609"
     ]
    },
    {
     "name": "stderr",
     "output_type": "stream",
     "text": [
      "WARNING:absl:Found untraced functions such as _update_step_xla while saving (showing 1 of 1). These functions will not be directly callable after loading.\n"
     ]
    },
    {
     "name": "stdout",
     "output_type": "stream",
     "text": [
      "INFO:tensorflow:Assets written to: models\\model-024.model\\assets\n"
     ]
    },
    {
     "name": "stderr",
     "output_type": "stream",
     "text": [
      "INFO:tensorflow:Assets written to: models\\model-024.model\\assets\n"
     ]
    },
    {
     "name": "stdout",
     "output_type": "stream",
     "text": [
      "42/42 [==============================] - 0s 761us/step\n",
      "epoch  23 - r2 score: 0.7758739549575693\n",
      "167/167 [==============================] - 2s 13ms/step - loss: 0.0079 - mse: 0.0079 - mae: 0.0612 - val_loss: 0.0048 - val_mse: 0.0048 - val_mae: 0.0463\n",
      "Epoch 25/200\n",
      "148/167 [=========================>....] - ETA: 0s - loss: 0.0076 - mse: 0.0076 - mae: 0.0602"
     ]
    },
    {
     "name": "stderr",
     "output_type": "stream",
     "text": [
      "WARNING:absl:Found untraced functions such as _update_step_xla while saving (showing 1 of 1). These functions will not be directly callable after loading.\n"
     ]
    },
    {
     "name": "stdout",
     "output_type": "stream",
     "text": [
      "INFO:tensorflow:Assets written to: models\\model-025.model\\assets\n"
     ]
    },
    {
     "name": "stderr",
     "output_type": "stream",
     "text": [
      "INFO:tensorflow:Assets written to: models\\model-025.model\\assets\n"
     ]
    },
    {
     "name": "stdout",
     "output_type": "stream",
     "text": [
      "42/42 [==============================] - 0s 762us/step\n",
      "epoch  24 - r2 score: 0.7788285995166477\n",
      "167/167 [==============================] - 2s 14ms/step - loss: 0.0076 - mse: 0.0076 - mae: 0.0603 - val_loss: 0.0047 - val_mse: 0.0047 - val_mae: 0.0440\n",
      "Epoch 26/200\n",
      "42/42 [==============================] - 0s 1ms/step loss: 0.0074 - mse: 0.0074 - mae: 0.05\n",
      "epoch  25 - r2 score: 0.7691375731686665\n",
      "167/167 [==============================] - 0s 2ms/step - loss: 0.0074 - mse: 0.0074 - mae: 0.0591 - val_loss: 0.0050 - val_mse: 0.0050 - val_mae: 0.0459\n",
      "Epoch 27/200\n",
      "143/167 [========================>.....] - ETA: 0s - loss: 0.0070 - mse: 0.0070 - mae: 0.0575"
     ]
    },
    {
     "name": "stderr",
     "output_type": "stream",
     "text": [
      "WARNING:absl:Found untraced functions such as _update_step_xla while saving (showing 1 of 1). These functions will not be directly callable after loading.\n"
     ]
    },
    {
     "name": "stdout",
     "output_type": "stream",
     "text": [
      "INFO:tensorflow:Assets written to: models\\model-027.model\\assets\n"
     ]
    },
    {
     "name": "stderr",
     "output_type": "stream",
     "text": [
      "INFO:tensorflow:Assets written to: models\\model-027.model\\assets\n"
     ]
    },
    {
     "name": "stdout",
     "output_type": "stream",
     "text": [
      "42/42 [==============================] - 0s 955us/step\n",
      "epoch  26 - r2 score: 0.7869474768527761\n",
      "167/167 [==============================] - 2s 13ms/step - loss: 0.0072 - mse: 0.0072 - mae: 0.0582 - val_loss: 0.0046 - val_mse: 0.0046 - val_mae: 0.0430\n",
      "Epoch 28/200\n",
      "42/42 [==============================] - 0s 865us/steposs: 0.0069 - mse: 0.0069 - mae: 0.05\n",
      "epoch  27 - r2 score: 0.7797067516792483\n",
      "167/167 [==============================] - 0s 2ms/step - loss: 0.0069 - mse: 0.0069 - mae: 0.0571 - val_loss: 0.0047 - val_mse: 0.0047 - val_mae: 0.0429\n",
      "Epoch 29/200\n",
      "42/42 [==============================] - 0s 732us/steposs: 0.0069 - mse: 0.0069 - mae: 0.05\n",
      "epoch  28 - r2 score: 0.7711156325634531\n",
      "167/167 [==============================] - 0s 2ms/step - loss: 0.0070 - mse: 0.0070 - mae: 0.0570 - val_loss: 0.0049 - val_mse: 0.0049 - val_mae: 0.0435\n",
      "Epoch 30/200\n",
      "156/167 [===========================>..] - ETA: 0s - loss: 0.0069 - mse: 0.0069 - mae: 0.0560"
     ]
    },
    {
     "name": "stderr",
     "output_type": "stream",
     "text": [
      "WARNING:absl:Found untraced functions such as _update_step_xla while saving (showing 1 of 1). These functions will not be directly callable after loading.\n"
     ]
    },
    {
     "name": "stdout",
     "output_type": "stream",
     "text": [
      "INFO:tensorflow:Assets written to: models\\model-030.model\\assets\n"
     ]
    },
    {
     "name": "stderr",
     "output_type": "stream",
     "text": [
      "INFO:tensorflow:Assets written to: models\\model-030.model\\assets\n"
     ]
    },
    {
     "name": "stdout",
     "output_type": "stream",
     "text": [
      "42/42 [==============================] - 0s 1ms/step\n",
      "epoch  29 - r2 score: 0.7887965912183533\n",
      "167/167 [==============================] - 2s 15ms/step - loss: 0.0068 - mse: 0.0068 - mae: 0.0560 - val_loss: 0.0045 - val_mse: 0.0045 - val_mae: 0.0433\n",
      "Epoch 31/200\n",
      "157/167 [===========================>..] - ETA: 0s - loss: 0.0066 - mse: 0.0066 - mae: 0.0547"
     ]
    },
    {
     "name": "stderr",
     "output_type": "stream",
     "text": [
      "WARNING:absl:Found untraced functions such as _update_step_xla while saving (showing 1 of 1). These functions will not be directly callable after loading.\n"
     ]
    },
    {
     "name": "stdout",
     "output_type": "stream",
     "text": [
      "INFO:tensorflow:Assets written to: models\\model-031.model\\assets\n"
     ]
    },
    {
     "name": "stderr",
     "output_type": "stream",
     "text": [
      "INFO:tensorflow:Assets written to: models\\model-031.model\\assets\n"
     ]
    },
    {
     "name": "stdout",
     "output_type": "stream",
     "text": [
      "42/42 [==============================] - 0s 1ms/step\n",
      "epoch  30 - r2 score: 0.7989560015811507\n",
      "167/167 [==============================] - 2s 12ms/step - loss: 0.0066 - mse: 0.0066 - mae: 0.0548 - val_loss: 0.0043 - val_mse: 0.0043 - val_mae: 0.0430\n",
      "Epoch 32/200\n",
      "42/42 [==============================] - 0s 1ms/step loss: 0.0064 - mse: 0.0064 - mae: 0.05\n",
      "epoch  31 - r2 score: 0.7986474856484467\n",
      "167/167 [==============================] - 0s 2ms/step - loss: 0.0064 - mse: 0.0064 - mae: 0.0546 - val_loss: 0.0043 - val_mse: 0.0043 - val_mae: 0.0445\n",
      "Epoch 33/200\n",
      "157/167 [===========================>..] - ETA: 0s - loss: 0.0062 - mse: 0.0062 - mae: 0.0536"
     ]
    },
    {
     "name": "stderr",
     "output_type": "stream",
     "text": [
      "WARNING:absl:Found untraced functions such as _update_step_xla while saving (showing 1 of 1). These functions will not be directly callable after loading.\n"
     ]
    },
    {
     "name": "stdout",
     "output_type": "stream",
     "text": [
      "INFO:tensorflow:Assets written to: models\\model-033.model\\assets\n"
     ]
    },
    {
     "name": "stderr",
     "output_type": "stream",
     "text": [
      "INFO:tensorflow:Assets written to: models\\model-033.model\\assets\n"
     ]
    },
    {
     "name": "stdout",
     "output_type": "stream",
     "text": [
      "42/42 [==============================] - 0s 921us/step\n",
      "epoch  32 - r2 score: 0.8011376344074128\n",
      "167/167 [==============================] - 2s 13ms/step - loss: 0.0063 - mse: 0.0063 - mae: 0.0540 - val_loss: 0.0043 - val_mse: 0.0043 - val_mae: 0.0421\n",
      "Epoch 34/200\n",
      "42/42 [==============================] - 0s 839us/steposs: 0.0064 - mse: 0.0064 - mae: 0.05\n",
      "epoch  33 - r2 score: 0.798050629367887\n",
      "167/167 [==============================] - 0s 2ms/step - loss: 0.0064 - mse: 0.0064 - mae: 0.0538 - val_loss: 0.0043 - val_mse: 0.0043 - val_mae: 0.0415\n",
      "Epoch 35/200\n",
      "42/42 [==============================] - 0s 1ms/step loss: 0.0059 - mse: 0.0059 - mae: 0.05\n",
      "epoch  34 - r2 score: 0.7889179313049588\n",
      "167/167 [==============================] - 0s 2ms/step - loss: 0.0062 - mse: 0.0062 - mae: 0.0530 - val_loss: 0.0045 - val_mse: 0.0045 - val_mae: 0.0420\n",
      "Epoch 36/200\n",
      "119/167 [====================>.........] - ETA: 0s - loss: 0.0062 - mse: 0.0062 - mae: 0.0527"
     ]
    },
    {
     "name": "stderr",
     "output_type": "stream",
     "text": [
      "WARNING:absl:Found untraced functions such as _update_step_xla while saving (showing 1 of 1). These functions will not be directly callable after loading.\n"
     ]
    },
    {
     "name": "stdout",
     "output_type": "stream",
     "text": [
      "INFO:tensorflow:Assets written to: models\\model-036.model\\assets\n"
     ]
    },
    {
     "name": "stderr",
     "output_type": "stream",
     "text": [
      "INFO:tensorflow:Assets written to: models\\model-036.model\\assets\n"
     ]
    },
    {
     "name": "stdout",
     "output_type": "stream",
     "text": [
      "42/42 [==============================] - 0s 874us/step\n",
      "epoch  35 - r2 score: 0.8082220649871512\n",
      "167/167 [==============================] - 3s 18ms/step - loss: 0.0062 - mse: 0.0062 - mae: 0.0527 - val_loss: 0.0041 - val_mse: 0.0041 - val_mae: 0.0400\n",
      "Epoch 37/200\n",
      "140/167 [========================>.....] - ETA: 0s - loss: 0.0060 - mse: 0.0060 - mae: 0.0519"
     ]
    },
    {
     "name": "stderr",
     "output_type": "stream",
     "text": [
      "WARNING:absl:Found untraced functions such as _update_step_xla while saving (showing 1 of 1). These functions will not be directly callable after loading.\n"
     ]
    },
    {
     "name": "stdout",
     "output_type": "stream",
     "text": [
      "INFO:tensorflow:Assets written to: models\\model-037.model\\assets\n"
     ]
    },
    {
     "name": "stderr",
     "output_type": "stream",
     "text": [
      "INFO:tensorflow:Assets written to: models\\model-037.model\\assets\n"
     ]
    },
    {
     "name": "stdout",
     "output_type": "stream",
     "text": [
      "42/42 [==============================] - 0s 894us/step\n",
      "epoch  36 - r2 score: 0.8127889889418536\n",
      "167/167 [==============================] - 3s 15ms/step - loss: 0.0060 - mse: 0.0060 - mae: 0.0517 - val_loss: 0.0040 - val_mse: 0.0040 - val_mae: 0.0410\n",
      "Epoch 38/200\n",
      "42/42 [==============================] - 0s 1ms/step loss: 0.0059 - mse: 0.0059 - mae: 0.05\n",
      "epoch  37 - r2 score: 0.8118267146430019\n",
      "167/167 [==============================] - 0s 2ms/step - loss: 0.0059 - mse: 0.0059 - mae: 0.0521 - val_loss: 0.0040 - val_mse: 0.0040 - val_mae: 0.0415\n",
      "Epoch 39/200\n",
      "42/42 [==============================] - 0s 852us/steposs: 0.0056 - mse: 0.0056 - mae: 0.04\n",
      "epoch  38 - r2 score: 0.8117095821983342\n",
      "167/167 [==============================] - 0s 2ms/step - loss: 0.0056 - mse: 0.0056 - mae: 0.0497 - val_loss: 0.0040 - val_mse: 0.0040 - val_mae: 0.0396\n",
      "Epoch 40/200\n",
      "156/167 [===========================>..] - ETA: 0s - loss: 0.0055 - mse: 0.0055 - mae: 0.0503"
     ]
    },
    {
     "name": "stderr",
     "output_type": "stream",
     "text": [
      "WARNING:absl:Found untraced functions such as _update_step_xla while saving (showing 1 of 1). These functions will not be directly callable after loading.\n"
     ]
    },
    {
     "name": "stdout",
     "output_type": "stream",
     "text": [
      "INFO:tensorflow:Assets written to: models\\model-040.model\\assets\n"
     ]
    },
    {
     "name": "stderr",
     "output_type": "stream",
     "text": [
      "INFO:tensorflow:Assets written to: models\\model-040.model\\assets\n"
     ]
    },
    {
     "name": "stdout",
     "output_type": "stream",
     "text": [
      "42/42 [==============================] - 0s 983us/step\n",
      "epoch  39 - r2 score: 0.8181944114205393\n",
      "167/167 [==============================] - 2s 11ms/step - loss: 0.0055 - mse: 0.0055 - mae: 0.0502 - val_loss: 0.0039 - val_mse: 0.0039 - val_mae: 0.0389\n",
      "Epoch 41/200\n",
      "42/42 [==============================] - 0s 863us/steposs: 0.0056 - mse: 0.0056 - mae: 0.04\n",
      "epoch  40 - r2 score: 0.8158941159056833\n",
      "167/167 [==============================] - 0s 2ms/step - loss: 0.0057 - mse: 0.0057 - mae: 0.0501 - val_loss: 0.0040 - val_mse: 0.0040 - val_mae: 0.0402\n",
      "Epoch 42/200\n",
      "42/42 [==============================] - 0s 988us/steposs: 0.0056 - mse: 0.0056 - mae: 0.04\n",
      "epoch  41 - r2 score: 0.816679464906038\n",
      "167/167 [==============================] - 0s 2ms/step - loss: 0.0056 - mse: 0.0056 - mae: 0.0500 - val_loss: 0.0039 - val_mse: 0.0039 - val_mae: 0.0384\n",
      "Epoch 43/200\n",
      "42/42 [==============================] - 0s 888us/steposs: 0.0055 - mse: 0.0055 - mae: 0.04\n",
      "epoch  42 - r2 score: 0.8146397545531718\n",
      "167/167 [==============================] - 0s 2ms/step - loss: 0.0055 - mse: 0.0055 - mae: 0.0496 - val_loss: 0.0040 - val_mse: 0.0040 - val_mae: 0.0402\n",
      "Epoch 44/200\n",
      "156/167 [===========================>..] - ETA: 0s - loss: 0.0053 - mse: 0.0053 - mae: 0.0481"
     ]
    },
    {
     "name": "stderr",
     "output_type": "stream",
     "text": [
      "WARNING:absl:Found untraced functions such as _update_step_xla while saving (showing 1 of 1). These functions will not be directly callable after loading.\n"
     ]
    },
    {
     "name": "stdout",
     "output_type": "stream",
     "text": [
      "INFO:tensorflow:Assets written to: models\\model-044.model\\assets\n"
     ]
    },
    {
     "name": "stderr",
     "output_type": "stream",
     "text": [
      "INFO:tensorflow:Assets written to: models\\model-044.model\\assets\n"
     ]
    },
    {
     "name": "stdout",
     "output_type": "stream",
     "text": [
      "42/42 [==============================] - 0s 1ms/step\n",
      "epoch  43 - r2 score: 0.8181975322706903\n",
      "167/167 [==============================] - 2s 13ms/step - loss: 0.0053 - mse: 0.0053 - mae: 0.0479 - val_loss: 0.0039 - val_mse: 0.0039 - val_mae: 0.0391\n",
      "Epoch 45/200\n",
      "42/42 [==============================] - 0s 1ms/step loss: 0.0055 - mse: 0.0055 - mae: 0.04\n",
      "epoch  44 - r2 score: 0.8132571838471714\n",
      "167/167 [==============================] - 0s 2ms/step - loss: 0.0055 - mse: 0.0055 - mae: 0.0494 - val_loss: 0.0040 - val_mse: 0.0040 - val_mae: 0.0415\n",
      "Epoch 46/200\n",
      "42/42 [==============================] - 0s 866us/steposs: 0.0051 - mse: 0.0051 - mae: 0.04\n",
      "epoch  45 - r2 score: 0.7813965706674431\n",
      "167/167 [==============================] - 0s 2ms/step - loss: 0.0053 - mse: 0.0053 - mae: 0.0477 - val_loss: 0.0047 - val_mse: 0.0047 - val_mae: 0.0531\n",
      "Epoch 47/200\n",
      "157/167 [===========================>..] - ETA: 0s - loss: 0.0055 - mse: 0.0055 - mae: 0.0499"
     ]
    },
    {
     "name": "stderr",
     "output_type": "stream",
     "text": [
      "WARNING:absl:Found untraced functions such as _update_step_xla while saving (showing 1 of 1). These functions will not be directly callable after loading.\n"
     ]
    },
    {
     "name": "stdout",
     "output_type": "stream",
     "text": [
      "INFO:tensorflow:Assets written to: models\\model-047.model\\assets\n"
     ]
    },
    {
     "name": "stderr",
     "output_type": "stream",
     "text": [
      "INFO:tensorflow:Assets written to: models\\model-047.model\\assets\n"
     ]
    },
    {
     "name": "stdout",
     "output_type": "stream",
     "text": [
      "42/42 [==============================] - 0s 986us/step\n",
      "epoch  46 - r2 score: 0.8197115819138584\n",
      "167/167 [==============================] - 2s 11ms/step - loss: 0.0055 - mse: 0.0055 - mae: 0.0496 - val_loss: 0.0039 - val_mse: 0.0039 - val_mae: 0.0401\n",
      "Epoch 48/200\n",
      "42/42 [==============================] - 0s 937us/steposs: 0.0052 - mse: 0.0052 - mae: 0.04\n",
      "epoch  47 - r2 score: 0.8090711564651593\n",
      "167/167 [==============================] - 0s 3ms/step - loss: 0.0052 - mse: 0.0052 - mae: 0.0481 - val_loss: 0.0041 - val_mse: 0.0041 - val_mae: 0.0449\n",
      "Epoch 49/200\n",
      "136/167 [=======================>......] - ETA: 0s - loss: 0.0052 - mse: 0.0052 - mae: 0.0483"
     ]
    },
    {
     "name": "stderr",
     "output_type": "stream",
     "text": [
      "WARNING:absl:Found untraced functions such as _update_step_xla while saving (showing 1 of 1). These functions will not be directly callable after loading.\n"
     ]
    },
    {
     "name": "stdout",
     "output_type": "stream",
     "text": [
      "INFO:tensorflow:Assets written to: models\\model-049.model\\assets\n"
     ]
    },
    {
     "name": "stderr",
     "output_type": "stream",
     "text": [
      "INFO:tensorflow:Assets written to: models\\model-049.model\\assets\n"
     ]
    },
    {
     "name": "stdout",
     "output_type": "stream",
     "text": [
      "42/42 [==============================] - 0s 762us/step\n",
      "epoch  48 - r2 score: 0.8201793694013678\n",
      "167/167 [==============================] - 2s 15ms/step - loss: 0.0052 - mse: 0.0052 - mae: 0.0482 - val_loss: 0.0039 - val_mse: 0.0039 - val_mae: 0.0384\n",
      "Epoch 50/200\n",
      "143/167 [========================>.....] - ETA: 0s - loss: 0.0049 - mse: 0.0049 - mae: 0.0466"
     ]
    },
    {
     "name": "stderr",
     "output_type": "stream",
     "text": [
      "WARNING:absl:Found untraced functions such as _update_step_xla while saving (showing 1 of 1). These functions will not be directly callable after loading.\n"
     ]
    },
    {
     "name": "stdout",
     "output_type": "stream",
     "text": [
      "INFO:tensorflow:Assets written to: models\\model-050.model\\assets\n"
     ]
    },
    {
     "name": "stderr",
     "output_type": "stream",
     "text": [
      "INFO:tensorflow:Assets written to: models\\model-050.model\\assets\n"
     ]
    },
    {
     "name": "stdout",
     "output_type": "stream",
     "text": [
      "42/42 [==============================] - 0s 983us/step\n",
      "epoch  49 - r2 score: 0.825673434732126\n",
      "167/167 [==============================] - 2s 14ms/step - loss: 0.0050 - mse: 0.0050 - mae: 0.0470 - val_loss: 0.0037 - val_mse: 0.0037 - val_mae: 0.0386\n",
      "Epoch 51/200\n",
      "164/167 [============================>.] - ETA: 0s - loss: 0.0050 - mse: 0.0050 - mae: 0.0467"
     ]
    },
    {
     "name": "stderr",
     "output_type": "stream",
     "text": [
      "WARNING:absl:Found untraced functions such as _update_step_xla while saving (showing 1 of 1). These functions will not be directly callable after loading.\n"
     ]
    },
    {
     "name": "stdout",
     "output_type": "stream",
     "text": [
      "INFO:tensorflow:Assets written to: models\\model-051.model\\assets\n"
     ]
    },
    {
     "name": "stderr",
     "output_type": "stream",
     "text": [
      "INFO:tensorflow:Assets written to: models\\model-051.model\\assets\n"
     ]
    },
    {
     "name": "stdout",
     "output_type": "stream",
     "text": [
      "42/42 [==============================] - 0s 845us/step\n",
      "epoch  50 - r2 score: 0.826073489918838\n",
      "167/167 [==============================] - 2s 14ms/step - loss: 0.0050 - mse: 0.0050 - mae: 0.0467 - val_loss: 0.0037 - val_mse: 0.0037 - val_mae: 0.0378\n",
      "Epoch 52/200\n",
      "42/42 [==============================] - 0s 854us/steposs: 0.0052 - mse: 0.0052 - mae: 0.04\n",
      "epoch  51 - r2 score: 0.8209594288578366\n",
      "167/167 [==============================] - 0s 2ms/step - loss: 0.0052 - mse: 0.0052 - mae: 0.0471 - val_loss: 0.0038 - val_mse: 0.0038 - val_mae: 0.0380\n",
      "Epoch 53/200\n",
      "42/42 [==============================] - 0s 807us/steposs: 0.0049 - mse: 0.0049 - mae: 0.04\n",
      "epoch  52 - r2 score: 0.8237003639821556\n",
      "167/167 [==============================] - 0s 2ms/step - loss: 0.0050 - mse: 0.0050 - mae: 0.0467 - val_loss: 0.0038 - val_mse: 0.0038 - val_mae: 0.0371\n",
      "Epoch 54/200\n",
      "42/42 [==============================] - 0s 836us/steposs: 0.0050 - mse: 0.0050 - mae: 0.04\n",
      "epoch  53 - r2 score: 0.8211349265374317\n",
      "167/167 [==============================] - 0s 2ms/step - loss: 0.0050 - mse: 0.0050 - mae: 0.0466 - val_loss: 0.0038 - val_mse: 0.0038 - val_mae: 0.0388\n",
      "Epoch 55/200\n",
      "42/42 [==============================] - 0s 1ms/step loss: 0.0051 - mse: 0.0051 - mae: 0.04\n",
      "epoch  54 - r2 score: 0.8254295700133527\n",
      "167/167 [==============================] - 0s 2ms/step - loss: 0.0050 - mse: 0.0050 - mae: 0.0464 - val_loss: 0.0037 - val_mse: 0.0037 - val_mae: 0.0372\n",
      "Epoch 56/200\n",
      "42/42 [==============================] - 0s 854us/steposs: 0.0052 - mse: 0.0052 - mae: 0.04\n",
      "epoch  55 - r2 score: 0.817078408724234\n",
      "167/167 [==============================] - 0s 2ms/step - loss: 0.0051 - mse: 0.0051 - mae: 0.0464 - val_loss: 0.0039 - val_mse: 0.0039 - val_mae: 0.0369\n",
      "Epoch 57/200\n",
      "42/42 [==============================] - 0s 780us/steposs: 0.0050 - mse: 0.0050 - mae: 0.04\n",
      "epoch  56 - r2 score: 0.8239286429073666\n",
      "167/167 [==============================] - 0s 2ms/step - loss: 0.0051 - mse: 0.0051 - mae: 0.0466 - val_loss: 0.0038 - val_mse: 0.0038 - val_mae: 0.0369\n",
      "Epoch 58/200\n",
      "42/42 [==============================] - 0s 1ms/step loss: 0.0047 - mse: 0.0047 - mae: 0.04\n",
      "epoch  57 - r2 score: 0.8259192703176962\n",
      "167/167 [==============================] - 0s 2ms/step - loss: 0.0048 - mse: 0.0048 - mae: 0.0453 - val_loss: 0.0037 - val_mse: 0.0037 - val_mae: 0.0381\n",
      "Epoch 59/200\n",
      "42/42 [==============================] - 0s 1ms/step loss: 0.0049 - mse: 0.0049 - mae: 0.04\n",
      "epoch  58 - r2 score: 0.8241812296851783\n",
      "167/167 [==============================] - 0s 2ms/step - loss: 0.0048 - mse: 0.0048 - mae: 0.0456 - val_loss: 0.0038 - val_mse: 0.0038 - val_mae: 0.0379\n",
      "Epoch 60/200\n",
      "42/42 [==============================] - 0s 1ms/step loss: 0.0049 - mse: 0.0049 - mae: 0.04\n",
      "epoch  59 - r2 score: 0.8235768271727673\n",
      "167/167 [==============================] - 0s 2ms/step - loss: 0.0048 - mse: 0.0048 - mae: 0.0455 - val_loss: 0.0038 - val_mse: 0.0038 - val_mae: 0.0366\n",
      "Epoch 61/200\n",
      "157/167 [===========================>..] - ETA: 0s - loss: 0.0049 - mse: 0.0049 - mae: 0.0456"
     ]
    },
    {
     "name": "stderr",
     "output_type": "stream",
     "text": [
      "WARNING:absl:Found untraced functions such as _update_step_xla while saving (showing 1 of 1). These functions will not be directly callable after loading.\n"
     ]
    },
    {
     "name": "stdout",
     "output_type": "stream",
     "text": [
      "INFO:tensorflow:Assets written to: models\\model-061.model\\assets\n"
     ]
    },
    {
     "name": "stderr",
     "output_type": "stream",
     "text": [
      "INFO:tensorflow:Assets written to: models\\model-061.model\\assets\n"
     ]
    },
    {
     "name": "stdout",
     "output_type": "stream",
     "text": [
      "42/42 [==============================] - 0s 932us/step\n",
      "epoch  60 - r2 score: 0.8281398151122534\n",
      "167/167 [==============================] - 3s 20ms/step - loss: 0.0049 - mse: 0.0049 - mae: 0.0457 - val_loss: 0.0037 - val_mse: 0.0037 - val_mae: 0.0390\n",
      "Epoch 62/200\n",
      "164/167 [============================>.] - ETA: 0s - loss: 0.0048 - mse: 0.0048 - mae: 0.0458"
     ]
    },
    {
     "name": "stderr",
     "output_type": "stream",
     "text": [
      "WARNING:absl:Found untraced functions such as _update_step_xla while saving (showing 1 of 1). These functions will not be directly callable after loading.\n"
     ]
    },
    {
     "name": "stdout",
     "output_type": "stream",
     "text": [
      "INFO:tensorflow:Assets written to: models\\model-062.model\\assets\n"
     ]
    },
    {
     "name": "stderr",
     "output_type": "stream",
     "text": [
      "INFO:tensorflow:Assets written to: models\\model-062.model\\assets\n"
     ]
    },
    {
     "name": "stdout",
     "output_type": "stream",
     "text": [
      "42/42 [==============================] - 0s 854us/step\n",
      "epoch  61 - r2 score: 0.8291896849907033\n",
      "167/167 [==============================] - 2s 12ms/step - loss: 0.0048 - mse: 0.0048 - mae: 0.0457 - val_loss: 0.0037 - val_mse: 0.0037 - val_mae: 0.0372\n",
      "Epoch 63/200\n",
      "151/167 [==========================>...] - ETA: 0s - loss: 0.0048 - mse: 0.0048 - mae: 0.0456"
     ]
    },
    {
     "name": "stderr",
     "output_type": "stream",
     "text": [
      "WARNING:absl:Found untraced functions such as _update_step_xla while saving (showing 1 of 1). These functions will not be directly callable after loading.\n"
     ]
    },
    {
     "name": "stdout",
     "output_type": "stream",
     "text": [
      "INFO:tensorflow:Assets written to: models\\model-063.model\\assets\n"
     ]
    },
    {
     "name": "stderr",
     "output_type": "stream",
     "text": [
      "INFO:tensorflow:Assets written to: models\\model-063.model\\assets\n"
     ]
    },
    {
     "name": "stdout",
     "output_type": "stream",
     "text": [
      "42/42 [==============================] - 0s 1ms/step\n",
      "epoch  62 - r2 score: 0.8292253062126929\n",
      "167/167 [==============================] - 4s 25ms/step - loss: 0.0047 - mse: 0.0047 - mae: 0.0452 - val_loss: 0.0037 - val_mse: 0.0037 - val_mae: 0.0382\n",
      "Epoch 64/200\n",
      "42/42 [==============================] - 0s 971us/steposs: 0.0048 - mse: 0.0048 - mae: 0.04\n",
      "epoch  63 - r2 score: 0.8257383557513884\n",
      "167/167 [==============================] - 0s 3ms/step - loss: 0.0048 - mse: 0.0048 - mae: 0.0450 - val_loss: 0.0037 - val_mse: 0.0037 - val_mae: 0.0405\n",
      "Epoch 65/200\n",
      "155/167 [==========================>...] - ETA: 0s - loss: 0.0047 - mse: 0.0047 - mae: 0.0446"
     ]
    },
    {
     "name": "stderr",
     "output_type": "stream",
     "text": [
      "WARNING:absl:Found untraced functions such as _update_step_xla while saving (showing 1 of 1). These functions will not be directly callable after loading.\n"
     ]
    },
    {
     "name": "stdout",
     "output_type": "stream",
     "text": [
      "INFO:tensorflow:Assets written to: models\\model-065.model\\assets\n"
     ]
    },
    {
     "name": "stderr",
     "output_type": "stream",
     "text": [
      "INFO:tensorflow:Assets written to: models\\model-065.model\\assets\n"
     ]
    },
    {
     "name": "stdout",
     "output_type": "stream",
     "text": [
      "42/42 [==============================] - 0s 937us/step\n",
      "epoch  64 - r2 score: 0.8304348187336604\n",
      "167/167 [==============================] - 3s 20ms/step - loss: 0.0047 - mse: 0.0047 - mae: 0.0446 - val_loss: 0.0036 - val_mse: 0.0036 - val_mae: 0.0386\n",
      "Epoch 66/200\n",
      "42/42 [==============================] - 0s 1ms/step loss: 0.0048 - mse: 0.0048 - mae: 0.04\n",
      "epoch  65 - r2 score: 0.8243515473851872\n",
      "167/167 [==============================] - 0s 2ms/step - loss: 0.0048 - mse: 0.0048 - mae: 0.0449 - val_loss: 0.0038 - val_mse: 0.0038 - val_mae: 0.0371\n",
      "Epoch 67/200\n",
      "42/42 [==============================] - 0s 852us/steposs: 0.0047 - mse: 0.0047 - mae: 0.04\n",
      "epoch  66 - r2 score: 0.8242021169889133\n",
      "167/167 [==============================] - 0s 2ms/step - loss: 0.0047 - mse: 0.0047 - mae: 0.0447 - val_loss: 0.0038 - val_mse: 0.0038 - val_mae: 0.0397\n",
      "Epoch 68/200\n",
      "42/42 [==============================] - 0s 1ms/step loss: 0.0048 - mse: 0.0048 - mae: 0.\n",
      "epoch  67 - r2 score: 0.826621139862542\n",
      "167/167 [==============================] - 0s 2ms/step - loss: 0.0048 - mse: 0.0048 - mae: 0.0450 - val_loss: 0.0037 - val_mse: 0.0037 - val_mae: 0.0374\n",
      "Epoch 69/200\n",
      "42/42 [==============================] - 0s 707us/steposs: 0.0047 - mse: 0.0047 - mae: 0.04\n",
      "epoch  68 - r2 score: 0.8291827846102812\n",
      "167/167 [==============================] - 0s 3ms/step - loss: 0.0046 - mse: 0.0046 - mae: 0.0440 - val_loss: 0.0037 - val_mse: 0.0037 - val_mae: 0.0398\n",
      "Epoch 70/200\n",
      "151/167 [==========================>...] - ETA: 0s - loss: 0.0048 - mse: 0.0048 - mae: 0.0451"
     ]
    },
    {
     "name": "stderr",
     "output_type": "stream",
     "text": [
      "WARNING:absl:Found untraced functions such as _update_step_xla while saving (showing 1 of 1). These functions will not be directly callable after loading.\n"
     ]
    },
    {
     "name": "stdout",
     "output_type": "stream",
     "text": [
      "INFO:tensorflow:Assets written to: models\\model-070.model\\assets\n"
     ]
    },
    {
     "name": "stderr",
     "output_type": "stream",
     "text": [
      "INFO:tensorflow:Assets written to: models\\model-070.model\\assets\n"
     ]
    },
    {
     "name": "stdout",
     "output_type": "stream",
     "text": [
      "42/42 [==============================] - 0s 537us/step\n",
      "epoch  69 - r2 score: 0.8309201787923143\n",
      "167/167 [==============================] - 2s 14ms/step - loss: 0.0048 - mse: 0.0048 - mae: 0.0450 - val_loss: 0.0036 - val_mse: 0.0036 - val_mae: 0.0381\n",
      "Epoch 71/200\n",
      "142/167 [========================>.....] - ETA: 0s - loss: 0.0046 - mse: 0.0046 - mae: 0.0435"
     ]
    },
    {
     "name": "stderr",
     "output_type": "stream",
     "text": [
      "WARNING:absl:Found untraced functions such as _update_step_xla while saving (showing 1 of 1). These functions will not be directly callable after loading.\n"
     ]
    },
    {
     "name": "stdout",
     "output_type": "stream",
     "text": [
      "INFO:tensorflow:Assets written to: models\\model-071.model\\assets\n"
     ]
    },
    {
     "name": "stderr",
     "output_type": "stream",
     "text": [
      "INFO:tensorflow:Assets written to: models\\model-071.model\\assets\n"
     ]
    },
    {
     "name": "stdout",
     "output_type": "stream",
     "text": [
      "42/42 [==============================] - 0s 1ms/step\n",
      "epoch  70 - r2 score: 0.8313242547602121\n",
      "167/167 [==============================] - 3s 15ms/step - loss: 0.0046 - mse: 0.0046 - mae: 0.0439 - val_loss: 0.0036 - val_mse: 0.0036 - val_mae: 0.0362\n",
      "Epoch 72/200\n",
      "42/42 [==============================] - 0s 997us/steposs: 0.0047 - mse: 0.0047 - mae: 0.04\n",
      "epoch  71 - r2 score: 0.8293126685527189\n",
      "167/167 [==============================] - 0s 2ms/step - loss: 0.0046 - mse: 0.0046 - mae: 0.0440 - val_loss: 0.0037 - val_mse: 0.0037 - val_mae: 0.0372\n",
      "Epoch 73/200\n",
      "142/167 [========================>.....] - ETA: 0s - loss: 0.0047 - mse: 0.0047 - mae: 0.0445"
     ]
    },
    {
     "name": "stderr",
     "output_type": "stream",
     "text": [
      "WARNING:absl:Found untraced functions such as _update_step_xla while saving (showing 1 of 1). These functions will not be directly callable after loading.\n"
     ]
    },
    {
     "name": "stdout",
     "output_type": "stream",
     "text": [
      "INFO:tensorflow:Assets written to: models\\model-073.model\\assets\n"
     ]
    },
    {
     "name": "stderr",
     "output_type": "stream",
     "text": [
      "INFO:tensorflow:Assets written to: models\\model-073.model\\assets\n"
     ]
    },
    {
     "name": "stdout",
     "output_type": "stream",
     "text": [
      "42/42 [==============================] - 0s 1ms/step\n",
      "epoch  72 - r2 score: 0.8326087575547785\n",
      "167/167 [==============================] - 4s 26ms/step - loss: 0.0046 - mse: 0.0046 - mae: 0.0441 - val_loss: 0.0036 - val_mse: 0.0036 - val_mae: 0.0363\n",
      "Epoch 74/200\n",
      "42/42 [==============================] - 0s 1ms/step loss: 0.0046 - mse: 0.0046 - mae: 0.04\n",
      "epoch  73 - r2 score: 0.8276992782248503\n",
      "167/167 [==============================] - 1s 4ms/step - loss: 0.0046 - mse: 0.0046 - mae: 0.0436 - val_loss: 0.0037 - val_mse: 0.0037 - val_mae: 0.0382\n",
      "Epoch 75/200\n",
      "42/42 [==============================] - 0s 997us/steposs: 0.0045 - mse: 0.0045 - mae: 0.04\n",
      "epoch  74 - r2 score: 0.8276054252508789\n",
      "167/167 [==============================] - 0s 2ms/step - loss: 0.0047 - mse: 0.0047 - mae: 0.0442 - val_loss: 0.0037 - val_mse: 0.0037 - val_mae: 0.0373\n",
      "Epoch 76/200\n",
      "42/42 [==============================] - 0s 762us/steposs: 0.0045 - mse: 0.0045 - mae: 0.04\n",
      "epoch  75 - r2 score: 0.8281031859494402\n",
      "167/167 [==============================] - 0s 2ms/step - loss: 0.0045 - mse: 0.0045 - mae: 0.0437 - val_loss: 0.0037 - val_mse: 0.0037 - val_mae: 0.0362\n",
      "Epoch 77/200\n",
      "42/42 [==============================] - 0s 1ms/step loss: 0.0043 - mse: 0.0043 - mae: 0.04\n",
      "epoch  76 - r2 score: 0.8275738279768099\n",
      "167/167 [==============================] - 0s 2ms/step - loss: 0.0044 - mse: 0.0044 - mae: 0.0428 - val_loss: 0.0037 - val_mse: 0.0037 - val_mae: 0.0361\n",
      "Epoch 78/200\n",
      "42/42 [==============================] - 0s 2ms/step loss: 0.0045 - mse: 0.0045 - mae: 0.\n",
      "epoch  77 - r2 score: 0.8324262329578973\n",
      "167/167 [==============================] - 0s 2ms/step - loss: 0.0045 - mse: 0.0045 - mae: 0.0432 - val_loss: 0.0036 - val_mse: 0.0036 - val_mae: 0.0373\n",
      "Epoch 79/200\n",
      "42/42 [==============================] - 0s 965us/steposs: 0.0045 - mse: 0.0045 - mae: 0.04\n",
      "epoch  78 - r2 score: 0.8313395009942337\n",
      "167/167 [==============================] - 0s 2ms/step - loss: 0.0045 - mse: 0.0045 - mae: 0.0433 - val_loss: 0.0036 - val_mse: 0.0036 - val_mae: 0.0361\n",
      "Epoch 80/200\n",
      "42/42 [==============================] - 0s 760us/steposs: 0.0044 - mse: 0.0044 - mae: 0.04\n",
      "epoch  79 - r2 score: 0.8278527610524831\n",
      "167/167 [==============================] - 0s 2ms/step - loss: 0.0045 - mse: 0.0045 - mae: 0.0432 - val_loss: 0.0037 - val_mse: 0.0037 - val_mae: 0.0402\n",
      "Epoch 81/200\n",
      "42/42 [==============================] - 0s 854us/steposs: 0.0045 - mse: 0.0045 - mae: 0.04\n",
      "epoch  80 - r2 score: 0.8299277821431988\n",
      "167/167 [==============================] - 0s 3ms/step - loss: 0.0045 - mse: 0.0045 - mae: 0.0432 - val_loss: 0.0037 - val_mse: 0.0037 - val_mae: 0.0359\n",
      "Epoch 82/200\n",
      "42/42 [==============================] - 0s 949us/steposs: 0.0045 - mse: 0.0045 - mae: 0.04\n",
      "epoch  81 - r2 score: 0.8279749486025851\n",
      "167/167 [==============================] - 0s 3ms/step - loss: 0.0045 - mse: 0.0045 - mae: 0.0433 - val_loss: 0.0037 - val_mse: 0.0037 - val_mae: 0.0389\n",
      "Epoch 83/200\n",
      "42/42 [==============================] - 0s 781us/steposs: 0.0046 - mse: 0.0046 - mae: 0.04\n",
      "epoch  82 - r2 score: 0.8324855101935524\n",
      "167/167 [==============================] - 1s 3ms/step - loss: 0.0046 - mse: 0.0046 - mae: 0.0438 - val_loss: 0.0036 - val_mse: 0.0036 - val_mae: 0.0361\n",
      "Epoch 84/200\n",
      "155/167 [==========================>...] - ETA: 0s - loss: 0.0044 - mse: 0.0044 - mae: 0.0431"
     ]
    },
    {
     "name": "stderr",
     "output_type": "stream",
     "text": [
      "WARNING:absl:Found untraced functions such as _update_step_xla while saving (showing 1 of 1). These functions will not be directly callable after loading.\n"
     ]
    },
    {
     "name": "stdout",
     "output_type": "stream",
     "text": [
      "INFO:tensorflow:Assets written to: models\\model-084.model\\assets\n"
     ]
    },
    {
     "name": "stderr",
     "output_type": "stream",
     "text": [
      "INFO:tensorflow:Assets written to: models\\model-084.model\\assets\n"
     ]
    },
    {
     "name": "stdout",
     "output_type": "stream",
     "text": [
      "42/42 [==============================] - 0s 854us/step\n",
      "epoch  83 - r2 score: 0.833871334844088\n",
      "167/167 [==============================] - 2s 14ms/step - loss: 0.0043 - mse: 0.0043 - mae: 0.0429 - val_loss: 0.0036 - val_mse: 0.0036 - val_mae: 0.0365\n",
      "Epoch 85/200\n",
      "42/42 [==============================] - 0s 912us/steposs: 0.0046 - mse: 0.0046 - mae: 0.04\n",
      "epoch  84 - r2 score: 0.8299260143309952\n",
      "167/167 [==============================] - 0s 3ms/step - loss: 0.0046 - mse: 0.0046 - mae: 0.0433 - val_loss: 0.0037 - val_mse: 0.0037 - val_mae: 0.0379\n",
      "Epoch 86/200\n",
      "146/167 [=========================>....] - ETA: 0s - loss: 0.0045 - mse: 0.0045 - mae: 0.0427"
     ]
    },
    {
     "name": "stderr",
     "output_type": "stream",
     "text": [
      "WARNING:absl:Found untraced functions such as _update_step_xla while saving (showing 1 of 1). These functions will not be directly callable after loading.\n"
     ]
    },
    {
     "name": "stdout",
     "output_type": "stream",
     "text": [
      "INFO:tensorflow:Assets written to: models\\model-086.model\\assets\n"
     ]
    },
    {
     "name": "stderr",
     "output_type": "stream",
     "text": [
      "INFO:tensorflow:Assets written to: models\\model-086.model\\assets\n"
     ]
    },
    {
     "name": "stdout",
     "output_type": "stream",
     "text": [
      "42/42 [==============================] - 0s 1ms/step\n",
      "epoch  85 - r2 score: 0.834265909673869\n",
      "167/167 [==============================] - 2s 13ms/step - loss: 0.0046 - mse: 0.0046 - mae: 0.0431 - val_loss: 0.0036 - val_mse: 0.0036 - val_mae: 0.0370\n",
      "Epoch 87/200\n",
      "42/42 [==============================] - 0s 926us/steposs: 0.0044 - mse: 0.0044 - mae: 0.04\n",
      "epoch  86 - r2 score: 0.8299399078143698\n",
      "167/167 [==============================] - 0s 2ms/step - loss: 0.0044 - mse: 0.0044 - mae: 0.0429 - val_loss: 0.0037 - val_mse: 0.0037 - val_mae: 0.0359\n",
      "Epoch 88/200\n",
      "42/42 [==============================] - 0s 2ms/step loss: 0.0044 - mse: 0.0044 - mae: 0.\n",
      "epoch  87 - r2 score: 0.8319515788747939\n",
      "167/167 [==============================] - 1s 4ms/step - loss: 0.0044 - mse: 0.0044 - mae: 0.0426 - val_loss: 0.0036 - val_mse: 0.0036 - val_mae: 0.0383\n",
      "Epoch 89/200\n",
      "154/167 [==========================>...] - ETA: 0s - loss: 0.0044 - mse: 0.0044 - mae: 0.0423"
     ]
    },
    {
     "name": "stderr",
     "output_type": "stream",
     "text": [
      "WARNING:absl:Found untraced functions such as _update_step_xla while saving (showing 1 of 1). These functions will not be directly callable after loading.\n"
     ]
    },
    {
     "name": "stdout",
     "output_type": "stream",
     "text": [
      "INFO:tensorflow:Assets written to: models\\model-089.model\\assets\n"
     ]
    },
    {
     "name": "stderr",
     "output_type": "stream",
     "text": [
      "INFO:tensorflow:Assets written to: models\\model-089.model\\assets\n"
     ]
    },
    {
     "name": "stdout",
     "output_type": "stream",
     "text": [
      "42/42 [==============================] - 0s 853us/step\n",
      "epoch  88 - r2 score: 0.8350195062860756\n",
      "167/167 [==============================] - 3s 21ms/step - loss: 0.0044 - mse: 0.0044 - mae: 0.0424 - val_loss: 0.0035 - val_mse: 0.0035 - val_mae: 0.0369\n",
      "Epoch 90/200\n",
      "42/42 [==============================] - 0s 1ms/step loss: 0.0044 - mse: 0.0044 - mae: 0.04\n",
      "epoch  89 - r2 score: 0.8348326937435919\n",
      "167/167 [==============================] - 0s 2ms/step - loss: 0.0043 - mse: 0.0043 - mae: 0.0425 - val_loss: 0.0035 - val_mse: 0.0035 - val_mae: 0.0362\n",
      "Epoch 91/200\n",
      "42/42 [==============================] - 0s 781us/steposs: 0.0044 - mse: 0.0044 - mae: 0.04\n",
      "epoch  90 - r2 score: 0.8312269557435551\n",
      "167/167 [==============================] - 0s 2ms/step - loss: 0.0043 - mse: 0.0043 - mae: 0.0422 - val_loss: 0.0036 - val_mse: 0.0036 - val_mae: 0.0355\n",
      "Epoch 92/200\n",
      "42/42 [==============================] - 0s 828us/steposs: 0.0045 - mse: 0.0045 - mae: 0.04\n",
      "epoch  91 - r2 score: 0.8338707933221181\n",
      "167/167 [==============================] - 0s 2ms/step - loss: 0.0045 - mse: 0.0045 - mae: 0.0430 - val_loss: 0.0036 - val_mse: 0.0036 - val_mae: 0.0361\n",
      "Epoch 93/200\n",
      "42/42 [==============================] - 0s 732us/steposs: 0.0044 - mse: 0.0044 - mae: 0.04\n",
      "epoch  92 - r2 score: 0.8205294297881782\n",
      "167/167 [==============================] - 0s 2ms/step - loss: 0.0044 - mse: 0.0044 - mae: 0.0429 - val_loss: 0.0039 - val_mse: 0.0039 - val_mae: 0.0431\n",
      "Epoch 94/200\n",
      "137/167 [=======================>......] - ETA: 0s - loss: 0.0045 - mse: 0.0045 - mae: 0.0432"
     ]
    },
    {
     "name": "stderr",
     "output_type": "stream",
     "text": [
      "WARNING:absl:Found untraced functions such as _update_step_xla while saving (showing 1 of 1). These functions will not be directly callable after loading.\n"
     ]
    },
    {
     "name": "stdout",
     "output_type": "stream",
     "text": [
      "INFO:tensorflow:Assets written to: models\\model-094.model\\assets\n"
     ]
    },
    {
     "name": "stderr",
     "output_type": "stream",
     "text": [
      "INFO:tensorflow:Assets written to: models\\model-094.model\\assets\n"
     ]
    },
    {
     "name": "stdout",
     "output_type": "stream",
     "text": [
      "42/42 [==============================] - 0s 849us/step\n",
      "epoch  93 - r2 score: 0.835588555249548\n",
      "167/167 [==============================] - 3s 17ms/step - loss: 0.0044 - mse: 0.0044 - mae: 0.0428 - val_loss: 0.0035 - val_mse: 0.0035 - val_mae: 0.0366\n",
      "Epoch 95/200\n",
      "42/42 [==============================] - 0s 854us/steposs: 0.0042 - mse: 0.0042 - mae: 0.04\n",
      "epoch  94 - r2 score: 0.8312853382234948\n",
      "167/167 [==============================] - 0s 3ms/step - loss: 0.0042 - mse: 0.0042 - mae: 0.0416 - val_loss: 0.0036 - val_mse: 0.0036 - val_mae: 0.0381\n",
      "Epoch 96/200\n",
      "42/42 [==============================] - 0s 951us/steposs: 0.0042 - mse: 0.0042 - mae: 0.04\n",
      "epoch  95 - r2 score: 0.8336004439938172\n",
      "167/167 [==============================] - 0s 3ms/step - loss: 0.0042 - mse: 0.0042 - mae: 0.0422 - val_loss: 0.0036 - val_mse: 0.0036 - val_mae: 0.0358\n",
      "Epoch 97/200\n",
      "42/42 [==============================] - 0s 975us/steposs: 0.0043 - mse: 0.0043 - mae: 0.04\n",
      "epoch  96 - r2 score: 0.8265354088775647\n",
      "167/167 [==============================] - 1s 3ms/step - loss: 0.0043 - mse: 0.0043 - mae: 0.0421 - val_loss: 0.0037 - val_mse: 0.0037 - val_mae: 0.0378\n",
      "Epoch 98/200\n",
      "42/42 [==============================] - 0s 805us/steposs: 0.0042 - mse: 0.0042 - mae: 0.04\n",
      "epoch  97 - r2 score: 0.8350680672406198\n",
      "167/167 [==============================] - 1s 3ms/step - loss: 0.0043 - mse: 0.0043 - mae: 0.0424 - val_loss: 0.0035 - val_mse: 0.0035 - val_mae: 0.0362\n",
      "Epoch 99/200\n",
      "42/42 [==============================] - 0s 854us/steposs: 0.0043 - mse: 0.0043 - mae: 0.04\n",
      "epoch  98 - r2 score: 0.8283549867145775\n",
      "167/167 [==============================] - 0s 3ms/step - loss: 0.0042 - mse: 0.0042 - mae: 0.0417 - val_loss: 0.0037 - val_mse: 0.0037 - val_mae: 0.0401\n",
      "Epoch 100/200\n",
      "42/42 [==============================] - 0s 2ms/step loss: 0.0043 - mse: 0.0043 - mae: 0.\n",
      "epoch  99 - r2 score: 0.8337083956819491\n",
      "167/167 [==============================] - 0s 3ms/step - loss: 0.0042 - mse: 0.0042 - mae: 0.0417 - val_loss: 0.0036 - val_mse: 0.0036 - val_mae: 0.0360\n",
      "Epoch 101/200\n",
      "42/42 [==============================] - 0s 927us/steposs: 0.0044 - mse: 0.0044 - mae: 0.04\n",
      "epoch  100 - r2 score: 0.8282506311990373\n",
      "167/167 [==============================] - 1s 3ms/step - loss: 0.0044 - mse: 0.0044 - mae: 0.0429 - val_loss: 0.0037 - val_mse: 0.0037 - val_mae: 0.0366\n",
      "Epoch 102/200\n",
      "42/42 [==============================] - 0s 707us/steposs: 0.0043 - mse: 0.0043 - mae: 0.04\n",
      "epoch  101 - r2 score: 0.833943524863324\n",
      "167/167 [==============================] - 0s 3ms/step - loss: 0.0043 - mse: 0.0043 - mae: 0.0422 - val_loss: 0.0036 - val_mse: 0.0036 - val_mae: 0.0366\n",
      "Epoch 103/200\n",
      "138/167 [=======================>......] - ETA: 0s - loss: 0.0040 - mse: 0.0040 - mae: 0.0410"
     ]
    },
    {
     "name": "stderr",
     "output_type": "stream",
     "text": [
      "WARNING:absl:Found untraced functions such as _update_step_xla while saving (showing 1 of 1). These functions will not be directly callable after loading.\n"
     ]
    },
    {
     "name": "stdout",
     "output_type": "stream",
     "text": [
      "INFO:tensorflow:Assets written to: models\\model-103.model\\assets\n"
     ]
    },
    {
     "name": "stderr",
     "output_type": "stream",
     "text": [
      "INFO:tensorflow:Assets written to: models\\model-103.model\\assets\n"
     ]
    },
    {
     "name": "stdout",
     "output_type": "stream",
     "text": [
      "42/42 [==============================] - 0s 1ms/step\n",
      "epoch  102 - r2 score: 0.8361503130534599\n",
      "167/167 [==============================] - 3s 19ms/step - loss: 0.0041 - mse: 0.0041 - mae: 0.0412 - val_loss: 0.0035 - val_mse: 0.0035 - val_mae: 0.0365\n",
      "Epoch 104/200\n",
      "42/42 [==============================] - 0s 829us/steposs: 0.0042 - mse: 0.0042 - mae: 0.04\n",
      "epoch  103 - r2 score: 0.8350565203423121\n",
      "167/167 [==============================] - 0s 2ms/step - loss: 0.0042 - mse: 0.0042 - mae: 0.0416 - val_loss: 0.0035 - val_mse: 0.0035 - val_mae: 0.0374\n",
      "Epoch 105/200\n",
      "42/42 [==============================] - 0s 783us/steposs: 0.0043 - mse: 0.0043 - mae: 0.04\n",
      "epoch  104 - r2 score: 0.8361164652225761\n",
      "167/167 [==============================] - 0s 3ms/step - loss: 0.0043 - mse: 0.0043 - mae: 0.0420 - val_loss: 0.0035 - val_mse: 0.0035 - val_mae: 0.0367\n",
      "Epoch 106/200\n",
      "42/42 [==============================] - 0s 888us/steposs: 0.0043 - mse: 0.0043 - mae: 0.04\n",
      "epoch  105 - r2 score: 0.8361158249930929\n",
      "167/167 [==============================] - 0s 2ms/step - loss: 0.0042 - mse: 0.0042 - mae: 0.0416 - val_loss: 0.0035 - val_mse: 0.0035 - val_mae: 0.0356\n",
      "Epoch 107/200\n",
      "42/42 [==============================] - 0s 732us/steposs: 0.0042 - mse: 0.0042 - mae: 0.04\n",
      "epoch  106 - r2 score: 0.8312148456792325\n",
      "167/167 [==============================] - 0s 3ms/step - loss: 0.0043 - mse: 0.0043 - mae: 0.0414 - val_loss: 0.0036 - val_mse: 0.0036 - val_mae: 0.0383\n",
      "Epoch 108/200\n",
      "42/42 [==============================] - 0s 928us/steposs: 0.0042 - mse: 0.0042 - mae: 0.04\n",
      "epoch  107 - r2 score: 0.8344543576421976\n",
      "167/167 [==============================] - 0s 2ms/step - loss: 0.0043 - mse: 0.0043 - mae: 0.0418 - val_loss: 0.0036 - val_mse: 0.0036 - val_mae: 0.0382\n",
      "Epoch 109/200\n",
      "156/167 [===========================>..] - ETA: 0s - loss: 0.0043 - mse: 0.0043 - mae: 0.0417"
     ]
    },
    {
     "name": "stderr",
     "output_type": "stream",
     "text": [
      "WARNING:absl:Found untraced functions such as _update_step_xla while saving (showing 1 of 1). These functions will not be directly callable after loading.\n"
     ]
    },
    {
     "name": "stdout",
     "output_type": "stream",
     "text": [
      "INFO:tensorflow:Assets written to: models\\model-109.model\\assets\n"
     ]
    },
    {
     "name": "stderr",
     "output_type": "stream",
     "text": [
      "INFO:tensorflow:Assets written to: models\\model-109.model\\assets\n"
     ]
    },
    {
     "name": "stdout",
     "output_type": "stream",
     "text": [
      "42/42 [==============================] - 0s 2ms/step\n",
      "epoch  108 - r2 score: 0.8363017433619038\n",
      "167/167 [==============================] - 3s 17ms/step - loss: 0.0042 - mse: 0.0042 - mae: 0.0415 - val_loss: 0.0035 - val_mse: 0.0035 - val_mae: 0.0361\n",
      "Epoch 110/200\n",
      "42/42 [==============================] - 0s 889us/steposs: 0.0044 - mse: 0.0044 - mae: 0.04\n",
      "epoch  109 - r2 score: 0.8343017893261891\n",
      "167/167 [==============================] - 0s 2ms/step - loss: 0.0044 - mse: 0.0044 - mae: 0.0421 - val_loss: 0.0036 - val_mse: 0.0036 - val_mae: 0.0368\n",
      "Epoch 111/200\n",
      "42/42 [==============================] - 0s 805us/steposs: 0.0041 - mse: 0.0041 - mae: 0.04\n",
      "epoch  110 - r2 score: 0.8348775980954161\n",
      "167/167 [==============================] - 0s 2ms/step - loss: 0.0042 - mse: 0.0042 - mae: 0.0417 - val_loss: 0.0035 - val_mse: 0.0035 - val_mae: 0.0371\n",
      "Epoch 112/200\n",
      "42/42 [==============================] - 0s 829us/steposs: 0.0041 - mse: 0.0041 - mae: 0.04\n",
      "epoch  111 - r2 score: 0.8334315991403061\n",
      "167/167 [==============================] - 0s 2ms/step - loss: 0.0042 - mse: 0.0042 - mae: 0.0414 - val_loss: 0.0036 - val_mse: 0.0036 - val_mae: 0.0392\n",
      "Epoch 113/200\n",
      "42/42 [==============================] - 0s 1ms/step loss: 0.0042 - mse: 0.0042 - mae: 0.\n",
      "epoch  112 - r2 score: 0.8358292688826031\n",
      "167/167 [==============================] - 1s 3ms/step - loss: 0.0042 - mse: 0.0042 - mae: 0.0415 - val_loss: 0.0035 - val_mse: 0.0035 - val_mae: 0.0368\n",
      "Epoch 114/200\n",
      "42/42 [==============================] - 0s 829us/steposs: 0.0043 - mse: 0.0043 - mae: 0.04\n",
      "epoch  113 - r2 score: 0.8359416892449547\n",
      "167/167 [==============================] - 1s 3ms/step - loss: 0.0043 - mse: 0.0043 - mae: 0.0422 - val_loss: 0.0035 - val_mse: 0.0035 - val_mae: 0.0356\n",
      "Epoch 115/200\n",
      "42/42 [==============================] - 0s 2ms/step loss: 0.0044 - mse: 0.0044 - mae: 0.\n",
      "epoch  114 - r2 score: 0.8357965585546541\n",
      "167/167 [==============================] - 1s 4ms/step - loss: 0.0043 - mse: 0.0043 - mae: 0.0420 - val_loss: 0.0035 - val_mse: 0.0035 - val_mae: 0.0370\n",
      "Epoch 116/200\n",
      "42/42 [==============================] - 0s 1ms/step loss: 0.0043 - mse: 0.0043 - mae: 0.04\n",
      "epoch  115 - r2 score: 0.8325856634201457\n",
      "167/167 [==============================] - 1s 4ms/step - loss: 0.0043 - mse: 0.0043 - mae: 0.0421 - val_loss: 0.0036 - val_mse: 0.0036 - val_mae: 0.0354\n",
      "Epoch 117/200\n",
      "42/42 [==============================] - 0s 854us/steposs: 0.0040 - mse: 0.0040 - mae: 0.04\n",
      "epoch  116 - r2 score: 0.8360062368034433\n",
      "167/167 [==============================] - 0s 3ms/step - loss: 0.0041 - mse: 0.0041 - mae: 0.0414 - val_loss: 0.0035 - val_mse: 0.0035 - val_mae: 0.0366\n",
      "Epoch 118/200\n",
      "42/42 [==============================] - 0s 877us/steposs: 0.0040 - mse: 0.0040 - mae: 0.04\n",
      "epoch  117 - r2 score: 0.834199385502727\n",
      "167/167 [==============================] - 0s 2ms/step - loss: 0.0041 - mse: 0.0041 - mae: 0.0408 - val_loss: 0.0036 - val_mse: 0.0036 - val_mae: 0.0377\n",
      "Epoch 119/200\n",
      "42/42 [==============================] - 0s 978us/steposs: 0.0040 - mse: 0.0040 - mae: 0.04\n",
      "epoch  118 - r2 score: 0.8344877356730966\n",
      "167/167 [==============================] - 0s 2ms/step - loss: 0.0041 - mse: 0.0041 - mae: 0.0408 - val_loss: 0.0036 - val_mse: 0.0036 - val_mae: 0.0369\n",
      "Epoch 120/200\n",
      "42/42 [==============================] - 0s 975us/steposs: 0.0040 - mse: 0.0040 - mae: 0.04\n",
      "epoch  119 - r2 score: 0.8350908714009591\n",
      "167/167 [==============================] - 0s 2ms/step - loss: 0.0041 - mse: 0.0041 - mae: 0.0410 - val_loss: 0.0035 - val_mse: 0.0035 - val_mae: 0.0371\n",
      "Epoch 121/200\n",
      "42/42 [==============================] - 0s 983us/steposs: 0.0042 - mse: 0.0042 - mae: 0.04\n",
      "epoch  120 - r2 score: 0.8285907274867369\n",
      "167/167 [==============================] - 0s 3ms/step - loss: 0.0043 - mse: 0.0043 - mae: 0.0417 - val_loss: 0.0037 - val_mse: 0.0037 - val_mae: 0.0354\n",
      "Epoch 122/200\n",
      "42/42 [==============================] - 0s 878us/steposs: 0.0041 - mse: 0.0041 - mae: 0.04\n",
      "epoch  121 - r2 score: 0.8355018506874897\n",
      "167/167 [==============================] - 0s 2ms/step - loss: 0.0041 - mse: 0.0041 - mae: 0.0413 - val_loss: 0.0035 - val_mse: 0.0035 - val_mae: 0.0366\n",
      "Epoch 123/200\n",
      "42/42 [==============================] - 0s 986us/steposs: 0.0040 - mse: 0.0040 - mae: 0.04\n",
      "epoch  122 - r2 score: 0.8359886462266627\n",
      "167/167 [==============================] - 0s 2ms/step - loss: 0.0040 - mse: 0.0040 - mae: 0.0406 - val_loss: 0.0035 - val_mse: 0.0035 - val_mae: 0.0373\n",
      "Epoch 124/200\n",
      "133/167 [======================>.......] - ETA: 0s - loss: 0.0041 - mse: 0.0041 - mae: 0.0409"
     ]
    },
    {
     "name": "stderr",
     "output_type": "stream",
     "text": [
      "WARNING:absl:Found untraced functions such as _update_step_xla while saving (showing 1 of 1). These functions will not be directly callable after loading.\n"
     ]
    },
    {
     "name": "stdout",
     "output_type": "stream",
     "text": [
      "INFO:tensorflow:Assets written to: models\\model-124.model\\assets\n"
     ]
    },
    {
     "name": "stderr",
     "output_type": "stream",
     "text": [
      "INFO:tensorflow:Assets written to: models\\model-124.model\\assets\n"
     ]
    },
    {
     "name": "stdout",
     "output_type": "stream",
     "text": [
      "42/42 [==============================] - 0s 854us/step\n",
      "epoch  123 - r2 score: 0.8365788988841768\n",
      "167/167 [==============================] - 3s 17ms/step - loss: 0.0041 - mse: 0.0041 - mae: 0.0414 - val_loss: 0.0035 - val_mse: 0.0035 - val_mae: 0.0368\n",
      "Epoch 125/200\n",
      "42/42 [==============================] - 0s 941us/steposs: 0.0043 - mse: 0.0043 - mae: 0.04\n",
      "epoch  124 - r2 score: 0.835692634842368\n",
      "167/167 [==============================] - 0s 2ms/step - loss: 0.0042 - mse: 0.0042 - mae: 0.0413 - val_loss: 0.0035 - val_mse: 0.0035 - val_mae: 0.0369\n",
      "Epoch 126/200\n",
      "42/42 [==============================] - 0s 707us/steposs: 0.0041 - mse: 0.0041 - mae: 0.04\n",
      "epoch  125 - r2 score: 0.8319038668228709\n",
      "167/167 [==============================] - 0s 2ms/step - loss: 0.0042 - mse: 0.0042 - mae: 0.0415 - val_loss: 0.0036 - val_mse: 0.0036 - val_mae: 0.0395\n",
      "Epoch 127/200\n",
      "42/42 [==============================] - 0s 805us/steposs: 0.0041 - mse: 0.0041 - mae: 0.04\n",
      "epoch  126 - r2 score: 0.8347666302285615\n",
      "167/167 [==============================] - 0s 2ms/step - loss: 0.0041 - mse: 0.0041 - mae: 0.0413 - val_loss: 0.0035 - val_mse: 0.0035 - val_mae: 0.0384\n",
      "Epoch 128/200\n",
      "167/167 [==============================] - ETA: 0s - loss: 0.0042 - mse: 0.0042 - mae: 0.0412"
     ]
    },
    {
     "name": "stderr",
     "output_type": "stream",
     "text": [
      "WARNING:absl:Found untraced functions such as _update_step_xla while saving (showing 1 of 1). These functions will not be directly callable after loading.\n"
     ]
    },
    {
     "name": "stdout",
     "output_type": "stream",
     "text": [
      "INFO:tensorflow:Assets written to: models\\model-128.model\\assets\n"
     ]
    },
    {
     "name": "stderr",
     "output_type": "stream",
     "text": [
      "INFO:tensorflow:Assets written to: models\\model-128.model\\assets\n"
     ]
    },
    {
     "name": "stdout",
     "output_type": "stream",
     "text": [
      "42/42 [==============================] - 0s 1ms/step\n",
      "epoch  127 - r2 score: 0.8372228756880391\n",
      "167/167 [==============================] - 2s 12ms/step - loss: 0.0042 - mse: 0.0042 - mae: 0.0412 - val_loss: 0.0035 - val_mse: 0.0035 - val_mae: 0.0355\n",
      "Epoch 129/200\n",
      "132/167 [======================>.......] - ETA: 0s - loss: 0.0042 - mse: 0.0042 - mae: 0.0411"
     ]
    },
    {
     "name": "stderr",
     "output_type": "stream",
     "text": [
      "WARNING:absl:Found untraced functions such as _update_step_xla while saving (showing 1 of 1). These functions will not be directly callable after loading.\n"
     ]
    },
    {
     "name": "stdout",
     "output_type": "stream",
     "text": [
      "INFO:tensorflow:Assets written to: models\\model-129.model\\assets\n"
     ]
    },
    {
     "name": "stderr",
     "output_type": "stream",
     "text": [
      "INFO:tensorflow:Assets written to: models\\model-129.model\\assets\n"
     ]
    },
    {
     "name": "stdout",
     "output_type": "stream",
     "text": [
      "42/42 [==============================] - 0s 867us/step\n",
      "epoch  128 - r2 score: 0.8374511105352488\n",
      "167/167 [==============================] - 2s 13ms/step - loss: 0.0041 - mse: 0.0041 - mae: 0.0411 - val_loss: 0.0035 - val_mse: 0.0035 - val_mae: 0.0355\n",
      "Epoch 130/200\n",
      "42/42 [==============================] - 0s 1ms/step loss: 0.0041 - mse: 0.0041 - mae: 0.04\n",
      "epoch  129 - r2 score: 0.8348711703044258\n",
      "167/167 [==============================] - 0s 2ms/step - loss: 0.0040 - mse: 0.0040 - mae: 0.0405 - val_loss: 0.0035 - val_mse: 0.0035 - val_mae: 0.0354\n",
      "Epoch 131/200\n",
      "130/167 [======================>.......] - ETA: 0s - loss: 0.0043 - mse: 0.0043 - mae: 0.0414"
     ]
    },
    {
     "name": "stderr",
     "output_type": "stream",
     "text": [
      "WARNING:absl:Found untraced functions such as _update_step_xla while saving (showing 1 of 1). These functions will not be directly callable after loading.\n"
     ]
    },
    {
     "name": "stdout",
     "output_type": "stream",
     "text": [
      "INFO:tensorflow:Assets written to: models\\model-131.model\\assets\n"
     ]
    },
    {
     "name": "stderr",
     "output_type": "stream",
     "text": [
      "INFO:tensorflow:Assets written to: models\\model-131.model\\assets\n"
     ]
    },
    {
     "name": "stdout",
     "output_type": "stream",
     "text": [
      "42/42 [==============================] - 0s 1ms/step\n",
      "epoch  130 - r2 score: 0.8375665055970631\n",
      "167/167 [==============================] - 2s 13ms/step - loss: 0.0043 - mse: 0.0043 - mae: 0.0416 - val_loss: 0.0035 - val_mse: 0.0035 - val_mae: 0.0356\n",
      "Epoch 132/200\n",
      "42/42 [==============================] - 0s 1ms/step loss: 0.0042 - mse: 0.0042 - mae: 0.04\n",
      "epoch  131 - r2 score: 0.83639292280271\n",
      "167/167 [==============================] - 0s 3ms/step - loss: 0.0041 - mse: 0.0041 - mae: 0.0412 - val_loss: 0.0035 - val_mse: 0.0035 - val_mae: 0.0354\n",
      "Epoch 133/200\n",
      "42/42 [==============================] - 0s 1ms/step loss: 0.0043 - mse: 0.0043 - mae: 0.04\n",
      "epoch  132 - r2 score: 0.8339626979114267\n",
      "167/167 [==============================] - 0s 3ms/step - loss: 0.0042 - mse: 0.0042 - mae: 0.0416 - val_loss: 0.0036 - val_mse: 0.0036 - val_mae: 0.0368\n",
      "Epoch 134/200\n",
      "42/42 [==============================] - 0s 2ms/step loss: 0.0042 - mse: 0.0042 - mae: 0.\n",
      "epoch  133 - r2 score: 0.8359197573171131\n",
      "167/167 [==============================] - 0s 3ms/step - loss: 0.0041 - mse: 0.0041 - mae: 0.0418 - val_loss: 0.0035 - val_mse: 0.0035 - val_mae: 0.0371\n",
      "Epoch 135/200\n",
      "42/42 [==============================] - 0s 861us/steposs: 0.0040 - mse: 0.0040 - mae: 0.04\n",
      "epoch  134 - r2 score: 0.836241245628317\n",
      "167/167 [==============================] - 0s 2ms/step - loss: 0.0041 - mse: 0.0041 - mae: 0.0409 - val_loss: 0.0035 - val_mse: 0.0035 - val_mae: 0.0355\n",
      "Epoch 136/200\n",
      "42/42 [==============================] - 0s 1ms/step loss: 0.0041 - mse: 0.0041 - mae: 0.\n",
      "epoch  135 - r2 score: 0.8315451852842037\n",
      "167/167 [==============================] - 0s 3ms/step - loss: 0.0041 - mse: 0.0041 - mae: 0.0405 - val_loss: 0.0036 - val_mse: 0.0036 - val_mae: 0.0389\n",
      "Epoch 137/200\n",
      "42/42 [==============================] - 0s 1ms/step loss: 0.0041 - mse: 0.0041 - mae: 0.04\n",
      "epoch  136 - r2 score: 0.833240924649612\n",
      "167/167 [==============================] - 0s 2ms/step - loss: 0.0040 - mse: 0.0040 - mae: 0.0405 - val_loss: 0.0036 - val_mse: 0.0036 - val_mae: 0.0390\n",
      "Epoch 138/200\n",
      "42/42 [==============================] - 0s 1ms/step loss: 0.0041 - mse: 0.0041 - mae: 0.04\n",
      "epoch  137 - r2 score: 0.8360959065363467\n",
      "167/167 [==============================] - 0s 2ms/step - loss: 0.0042 - mse: 0.0042 - mae: 0.0410 - val_loss: 0.0035 - val_mse: 0.0035 - val_mae: 0.0374\n",
      "Epoch 139/200\n",
      "42/42 [==============================] - 0s 762us/steposs: 0.0040 - mse: 0.0040 - mae: 0.04\n",
      "epoch  138 - r2 score: 0.8370543251035684\n",
      "167/167 [==============================] - 0s 2ms/step - loss: 0.0041 - mse: 0.0041 - mae: 0.0407 - val_loss: 0.0035 - val_mse: 0.0035 - val_mae: 0.0366\n",
      "Epoch 140/200\n",
      "42/42 [==============================] - 0s 763us/steposs: 0.0040 - mse: 0.0040 - mae: 0.04\n",
      "epoch  139 - r2 score: 0.8360243026561334\n",
      "167/167 [==============================] - 0s 2ms/step - loss: 0.0040 - mse: 0.0040 - mae: 0.0404 - val_loss: 0.0035 - val_mse: 0.0035 - val_mae: 0.0364\n",
      "Epoch 141/200\n",
      "42/42 [==============================] - 0s 762us/steposs: 0.0041 - mse: 0.0041 - mae: 0.04\n",
      "epoch  140 - r2 score: 0.835194685118362\n",
      "167/167 [==============================] - 0s 2ms/step - loss: 0.0040 - mse: 0.0040 - mae: 0.0403 - val_loss: 0.0035 - val_mse: 0.0035 - val_mae: 0.0384\n",
      "Epoch 142/200\n",
      "42/42 [==============================] - 0s 960us/steposs: 0.0041 - mse: 0.0041 - mae: 0.04\n",
      "epoch  141 - r2 score: 0.83609044748479\n",
      "167/167 [==============================] - 0s 2ms/step - loss: 0.0041 - mse: 0.0041 - mae: 0.0409 - val_loss: 0.0035 - val_mse: 0.0035 - val_mae: 0.0373\n",
      "Epoch 143/200\n",
      "42/42 [==============================] - 0s 831us/steposs: 0.0040 - mse: 0.0040 - mae: 0.04\n",
      "epoch  142 - r2 score: 0.8350701083564328\n",
      "167/167 [==============================] - 0s 2ms/step - loss: 0.0040 - mse: 0.0040 - mae: 0.0402 - val_loss: 0.0035 - val_mse: 0.0035 - val_mae: 0.0378\n",
      "Epoch 144/200\n",
      "42/42 [==============================] - 0s 761us/steposs: 0.0041 - mse: 0.0041 - mae: 0.04\n",
      "epoch  143 - r2 score: 0.8375060778308765\n",
      "167/167 [==============================] - 0s 2ms/step - loss: 0.0041 - mse: 0.0041 - mae: 0.0412 - val_loss: 0.0035 - val_mse: 0.0035 - val_mae: 0.0371\n",
      "Epoch 145/200\n",
      "42/42 [==============================] - 0s 781us/steposs: 0.0042 - mse: 0.0042 - mae: 0.04\n",
      "epoch  144 - r2 score: 0.8371150577264334\n",
      "167/167 [==============================] - 0s 2ms/step - loss: 0.0041 - mse: 0.0041 - mae: 0.0407 - val_loss: 0.0035 - val_mse: 0.0035 - val_mae: 0.0367\n",
      "Epoch 146/200\n",
      "42/42 [==============================] - 0s 1ms/step loss: 0.0041 - mse: 0.0041 - mae: 0.04\n",
      "epoch  145 - r2 score: 0.8356526989458559\n",
      "167/167 [==============================] - 0s 2ms/step - loss: 0.0040 - mse: 0.0040 - mae: 0.0401 - val_loss: 0.0035 - val_mse: 0.0035 - val_mae: 0.0361\n",
      "Epoch 147/200\n",
      "42/42 [==============================] - 0s 1ms/step loss: 0.0040 - mse: 0.0040 - mae: 0.04\n",
      "epoch  146 - r2 score: 0.8375002310346423\n",
      "167/167 [==============================] - 0s 2ms/step - loss: 0.0040 - mse: 0.0040 - mae: 0.0405 - val_loss: 0.0035 - val_mse: 0.0035 - val_mae: 0.0356\n",
      "Epoch 148/200\n",
      "42/42 [==============================] - 0s 760us/steposs: 0.0041 - mse: 0.0041 - mae: 0.04\n",
      "epoch  147 - r2 score: 0.8302684820533519\n",
      "167/167 [==============================] - 0s 2ms/step - loss: 0.0040 - mse: 0.0040 - mae: 0.0404 - val_loss: 0.0036 - val_mse: 0.0036 - val_mae: 0.0404\n",
      "Epoch 149/200\n",
      "42/42 [==============================] - 0s 1ms/step loss: 0.0043 - mse: 0.0043 - mae: 0.04\n",
      "epoch  148 - r2 score: 0.8361971042058073\n",
      "167/167 [==============================] - 0s 2ms/step - loss: 0.0042 - mse: 0.0042 - mae: 0.0414 - val_loss: 0.0035 - val_mse: 0.0035 - val_mae: 0.0373\n",
      "Epoch 150/200\n",
      "42/42 [==============================] - 0s 760us/steposs: 0.0040 - mse: 0.0040 - mae: 0.04\n",
      "epoch  149 - r2 score: 0.8352568213301428\n",
      "167/167 [==============================] - 0s 2ms/step - loss: 0.0041 - mse: 0.0041 - mae: 0.0407 - val_loss: 0.0035 - val_mse: 0.0035 - val_mae: 0.0377\n",
      "Epoch 151/200\n",
      "42/42 [==============================] - 0s 1ms/step loss: 0.0039 - mse: 0.0039 - mae: 0.03\n",
      "epoch  150 - r2 score: 0.8345028347899439\n",
      "167/167 [==============================] - 0s 2ms/step - loss: 0.0040 - mse: 0.0040 - mae: 0.0398 - val_loss: 0.0036 - val_mse: 0.0036 - val_mae: 0.0386\n",
      "Epoch 152/200\n",
      "150/167 [=========================>....] - ETA: 0s - loss: 0.0039 - mse: 0.0039 - mae: 0.0399"
     ]
    },
    {
     "name": "stderr",
     "output_type": "stream",
     "text": [
      "WARNING:absl:Found untraced functions such as _update_step_xla while saving (showing 1 of 1). These functions will not be directly callable after loading.\n"
     ]
    },
    {
     "name": "stdout",
     "output_type": "stream",
     "text": [
      "INFO:tensorflow:Assets written to: models\\model-152.model\\assets\n"
     ]
    },
    {
     "name": "stderr",
     "output_type": "stream",
     "text": [
      "INFO:tensorflow:Assets written to: models\\model-152.model\\assets\n"
     ]
    },
    {
     "name": "stdout",
     "output_type": "stream",
     "text": [
      "42/42 [==============================] - 0s 762us/step\n",
      "epoch  151 - r2 score: 0.8379228137055937\n",
      "167/167 [==============================] - 4s 24ms/step - loss: 0.0040 - mse: 0.0040 - mae: 0.0401 - val_loss: 0.0035 - val_mse: 0.0035 - val_mae: 0.0365\n",
      "Epoch 153/200\n",
      "42/42 [==============================] - 0s 762us/steposs: 0.0041 - mse: 0.0041 - mae: 0.04\n",
      "epoch  152 - r2 score: 0.8312938807041101\n",
      "167/167 [==============================] - 0s 2ms/step - loss: 0.0040 - mse: 0.0040 - mae: 0.0404 - val_loss: 0.0036 - val_mse: 0.0036 - val_mae: 0.0351\n",
      "Epoch 154/200\n",
      "42/42 [==============================] - 0s 1ms/step loss: 0.0041 - mse: 0.0041 - mae: 0.04\n",
      "epoch  153 - r2 score: 0.8372763768768888\n",
      "167/167 [==============================] - 0s 3ms/step - loss: 0.0040 - mse: 0.0040 - mae: 0.0402 - val_loss: 0.0035 - val_mse: 0.0035 - val_mae: 0.0356\n",
      "Epoch 155/200\n",
      "42/42 [==============================] - 0s 761us/steposs: 0.0038 - mse: 0.0038 - mae: 0.03\n",
      "epoch  154 - r2 score: 0.8301142468186042\n",
      "167/167 [==============================] - 0s 2ms/step - loss: 0.0039 - mse: 0.0039 - mae: 0.0398 - val_loss: 0.0036 - val_mse: 0.0036 - val_mae: 0.0403\n",
      "Epoch 156/200\n",
      "42/42 [==============================] - 0s 1ms/step loss: 0.0040 - mse: 0.0040 - mae: 0.04\n",
      "epoch  155 - r2 score: 0.8373023007889099\n",
      "167/167 [==============================] - 0s 3ms/step - loss: 0.0040 - mse: 0.0040 - mae: 0.0405 - val_loss: 0.0035 - val_mse: 0.0035 - val_mae: 0.0356\n",
      "Epoch 157/200\n",
      "42/42 [==============================] - 0s 1ms/step loss: 0.0042 - mse: 0.0042 - mae: 0.04\n",
      "epoch  156 - r2 score: 0.8348009821399014\n",
      "167/167 [==============================] - 0s 3ms/step - loss: 0.0041 - mse: 0.0041 - mae: 0.0405 - val_loss: 0.0035 - val_mse: 0.0035 - val_mae: 0.0359\n",
      "Epoch 158/200\n",
      "42/42 [==============================] - 0s 1ms/step loss: 0.0040 - mse: 0.0040 - mae: 0.04\n",
      "epoch  157 - r2 score: 0.8342205894931858\n",
      "167/167 [==============================] - 0s 3ms/step - loss: 0.0040 - mse: 0.0040 - mae: 0.0405 - val_loss: 0.0036 - val_mse: 0.0036 - val_mae: 0.0357\n",
      "Epoch 159/200\n",
      "161/167 [===========================>..] - ETA: 0s - loss: 0.0040 - mse: 0.0040 - mae: 0.0405"
     ]
    },
    {
     "name": "stderr",
     "output_type": "stream",
     "text": [
      "WARNING:absl:Found untraced functions such as _update_step_xla while saving (showing 1 of 1). These functions will not be directly callable after loading.\n"
     ]
    },
    {
     "name": "stdout",
     "output_type": "stream",
     "text": [
      "INFO:tensorflow:Assets written to: models\\model-159.model\\assets\n"
     ]
    },
    {
     "name": "stderr",
     "output_type": "stream",
     "text": [
      "INFO:tensorflow:Assets written to: models\\model-159.model\\assets\n"
     ]
    },
    {
     "name": "stdout",
     "output_type": "stream",
     "text": [
      "42/42 [==============================] - 0s 956us/step\n",
      "epoch  158 - r2 score: 0.8382351958813616\n",
      "167/167 [==============================] - 2s 14ms/step - loss: 0.0040 - mse: 0.0040 - mae: 0.0406 - val_loss: 0.0035 - val_mse: 0.0035 - val_mae: 0.0360\n",
      "Epoch 160/200\n",
      "42/42 [==============================] - 0s 1ms/step loss: 0.0041 - mse: 0.0041 - mae: 0.04\n",
      "epoch  159 - r2 score: 0.8365274442534746\n",
      "167/167 [==============================] - 0s 2ms/step - loss: 0.0041 - mse: 0.0041 - mae: 0.0406 - val_loss: 0.0035 - val_mse: 0.0035 - val_mae: 0.0365\n",
      "Epoch 161/200\n",
      "42/42 [==============================] - 0s 829us/steposs: 0.0040 - mse: 0.0040 - mae: 0.04\n",
      "epoch  160 - r2 score: 0.8369639772631233\n",
      "167/167 [==============================] - 0s 3ms/step - loss: 0.0040 - mse: 0.0040 - mae: 0.0405 - val_loss: 0.0035 - val_mse: 0.0035 - val_mae: 0.0358\n",
      "Epoch 162/200\n",
      "42/42 [==============================] - 0s 1ms/step loss: 0.0040 - mse: 0.0040 - mae: 0.04\n",
      "epoch  161 - r2 score: 0.8342603568764771\n",
      "167/167 [==============================] - 0s 2ms/step - loss: 0.0041 - mse: 0.0041 - mae: 0.0405 - val_loss: 0.0036 - val_mse: 0.0036 - val_mae: 0.0377\n",
      "Epoch 163/200\n",
      "146/167 [=========================>....] - ETA: 0s - loss: 0.0040 - mse: 0.0040 - mae: 0.0405"
     ]
    },
    {
     "name": "stderr",
     "output_type": "stream",
     "text": [
      "WARNING:absl:Found untraced functions such as _update_step_xla while saving (showing 1 of 1). These functions will not be directly callable after loading.\n"
     ]
    },
    {
     "name": "stdout",
     "output_type": "stream",
     "text": [
      "INFO:tensorflow:Assets written to: models\\model-163.model\\assets\n"
     ]
    },
    {
     "name": "stderr",
     "output_type": "stream",
     "text": [
      "INFO:tensorflow:Assets written to: models\\model-163.model\\assets\n"
     ]
    },
    {
     "name": "stdout",
     "output_type": "stream",
     "text": [
      "42/42 [==============================] - 0s 784us/step\n",
      "epoch  162 - r2 score: 0.8386581095707567\n",
      "167/167 [==============================] - 3s 19ms/step - loss: 0.0040 - mse: 0.0040 - mae: 0.0403 - val_loss: 0.0035 - val_mse: 0.0035 - val_mae: 0.0354\n",
      "Epoch 164/200\n",
      "42/42 [==============================] - 0s 802us/steposs: 0.0038 - mse: 0.0038 - mae: 0.03\n",
      "epoch  163 - r2 score: 0.836505987068581\n",
      "167/167 [==============================] - 0s 2ms/step - loss: 0.0039 - mse: 0.0039 - mae: 0.0396 - val_loss: 0.0035 - val_mse: 0.0035 - val_mae: 0.0369\n",
      "Epoch 165/200\n",
      "42/42 [==============================] - 0s 1ms/step loss: 0.0039 - mse: 0.0039 - mae: 0.04\n",
      "epoch  164 - r2 score: 0.8384364566553504\n",
      "167/167 [==============================] - 0s 2ms/step - loss: 0.0039 - mse: 0.0039 - mae: 0.0401 - val_loss: 0.0035 - val_mse: 0.0035 - val_mae: 0.0355\n",
      "Epoch 166/200\n",
      "42/42 [==============================] - 0s 1ms/step loss: 0.0039 - mse: 0.0039 - mae: 0.03\n",
      "epoch  165 - r2 score: 0.8381192101416245\n",
      "167/167 [==============================] - 0s 2ms/step - loss: 0.0039 - mse: 0.0039 - mae: 0.0396 - val_loss: 0.0035 - val_mse: 0.0035 - val_mae: 0.0361\n",
      "Epoch 167/200\n",
      "42/42 [==============================] - 0s 805us/steposs: 0.0040 - mse: 0.0040 - mae: 0.03\n",
      "epoch  166 - r2 score: 0.8367712339889147\n",
      "167/167 [==============================] - 0s 2ms/step - loss: 0.0039 - mse: 0.0039 - mae: 0.0395 - val_loss: 0.0035 - val_mse: 0.0035 - val_mae: 0.0360\n",
      "Epoch 168/200\n",
      "42/42 [==============================] - 0s 830us/steposs: 0.0040 - mse: 0.0040 - mae: 0.03\n",
      "epoch  167 - r2 score: 0.8341626025393274\n",
      "167/167 [==============================] - 0s 2ms/step - loss: 0.0040 - mse: 0.0040 - mae: 0.0394 - val_loss: 0.0036 - val_mse: 0.0036 - val_mae: 0.0391\n",
      "Epoch 169/200\n",
      "42/42 [==============================] - 0s 683us/steposs: 0.0039 - mse: 0.0039 - mae: 0.04\n",
      "epoch  168 - r2 score: 0.8386337064710111\n",
      "167/167 [==============================] - 0s 2ms/step - loss: 0.0038 - mse: 0.0038 - mae: 0.0396 - val_loss: 0.0035 - val_mse: 0.0035 - val_mae: 0.0364\n",
      "Epoch 170/200\n",
      "42/42 [==============================] - 0s 1ms/step loss: 0.0039 - mse: 0.0039 - mae: 0.03\n",
      "epoch  169 - r2 score: 0.8346745768896667\n",
      "167/167 [==============================] - 0s 2ms/step - loss: 0.0039 - mse: 0.0039 - mae: 0.0393 - val_loss: 0.0035 - val_mse: 0.0035 - val_mae: 0.0351\n",
      "Epoch 171/200\n",
      "160/167 [===========================>..] - ETA: 0s - loss: 0.0040 - mse: 0.0040 - mae: 0.0401"
     ]
    },
    {
     "name": "stderr",
     "output_type": "stream",
     "text": [
      "WARNING:absl:Found untraced functions such as _update_step_xla while saving (showing 1 of 1). These functions will not be directly callable after loading.\n"
     ]
    },
    {
     "name": "stdout",
     "output_type": "stream",
     "text": [
      "INFO:tensorflow:Assets written to: models\\model-171.model\\assets\n"
     ]
    },
    {
     "name": "stderr",
     "output_type": "stream",
     "text": [
      "INFO:tensorflow:Assets written to: models\\model-171.model\\assets\n"
     ]
    },
    {
     "name": "stdout",
     "output_type": "stream",
     "text": [
      "42/42 [==============================] - 0s 760us/step\n",
      "epoch  170 - r2 score: 0.8386769489701521\n",
      "167/167 [==============================] - 4s 21ms/step - loss: 0.0040 - mse: 0.0040 - mae: 0.0401 - val_loss: 0.0035 - val_mse: 0.0035 - val_mae: 0.0356\n",
      "Epoch 172/200\n",
      "42/42 [==============================] - 0s 805us/steposs: 0.0038 - mse: 0.0038 - mae: 0.03\n",
      "epoch  171 - r2 score: 0.8380766737307697\n",
      "167/167 [==============================] - 0s 2ms/step - loss: 0.0038 - mse: 0.0038 - mae: 0.0394 - val_loss: 0.0035 - val_mse: 0.0035 - val_mae: 0.0367\n",
      "Epoch 173/200\n",
      "136/167 [=======================>......] - ETA: 0s - loss: 0.0040 - mse: 0.0040 - mae: 0.0406"
     ]
    },
    {
     "name": "stderr",
     "output_type": "stream",
     "text": [
      "WARNING:absl:Found untraced functions such as _update_step_xla while saving (showing 1 of 1). These functions will not be directly callable after loading.\n"
     ]
    },
    {
     "name": "stdout",
     "output_type": "stream",
     "text": [
      "INFO:tensorflow:Assets written to: models\\model-173.model\\assets\n"
     ]
    },
    {
     "name": "stderr",
     "output_type": "stream",
     "text": [
      "INFO:tensorflow:Assets written to: models\\model-173.model\\assets\n"
     ]
    },
    {
     "name": "stdout",
     "output_type": "stream",
     "text": [
      "42/42 [==============================] - 0s 760us/step\n",
      "epoch  172 - r2 score: 0.8392753818564015\n",
      "167/167 [==============================] - 2s 12ms/step - loss: 0.0040 - mse: 0.0040 - mae: 0.0403 - val_loss: 0.0035 - val_mse: 0.0035 - val_mae: 0.0361\n",
      "Epoch 174/200\n",
      "42/42 [==============================] - 0s 2ms/step loss: 0.0040 - mse: 0.0040 - mae: 0.0397 \n",
      "epoch  173 - r2 score: 0.8355057073648231\n",
      "167/167 [==============================] - 1s 4ms/step - loss: 0.0040 - mse: 0.0040 - mae: 0.0399 - val_loss: 0.0035 - val_mse: 0.0035 - val_mae: 0.0389\n",
      "Epoch 175/200\n",
      "42/42 [==============================] - 0s 805us/steposs: 0.0040 - mse: 0.0040 - mae: 0.04\n",
      "epoch  174 - r2 score: 0.8354769036736274\n",
      "167/167 [==============================] - 0s 2ms/step - loss: 0.0040 - mse: 0.0040 - mae: 0.0405 - val_loss: 0.0035 - val_mse: 0.0035 - val_mae: 0.0347\n",
      "Epoch 176/200\n",
      "42/42 [==============================] - 0s 765us/steposs: 0.0039 - mse: 0.0039 - mae: 0.03\n",
      "epoch  175 - r2 score: 0.8351315284160059\n",
      "167/167 [==============================] - 0s 2ms/step - loss: 0.0039 - mse: 0.0039 - mae: 0.0399 - val_loss: 0.0035 - val_mse: 0.0035 - val_mae: 0.0384\n",
      "Epoch 177/200\n",
      "42/42 [==============================] - 0s 952us/steposs: 0.0040 - mse: 0.0040 - mae: 0.04\n",
      "epoch  176 - r2 score: 0.8370463751131136\n",
      "167/167 [==============================] - 0s 3ms/step - loss: 0.0040 - mse: 0.0040 - mae: 0.0402 - val_loss: 0.0035 - val_mse: 0.0035 - val_mae: 0.0373\n",
      "Epoch 178/200\n",
      "42/42 [==============================] - 0s 829us/steposs: 0.0039 - mse: 0.0039 - mae: 0.03\n",
      "epoch  177 - r2 score: 0.838075339048391\n",
      "167/167 [==============================] - 0s 3ms/step - loss: 0.0039 - mse: 0.0039 - mae: 0.0397 - val_loss: 0.0035 - val_mse: 0.0035 - val_mae: 0.0368\n",
      "Epoch 179/200\n",
      "42/42 [==============================] - 0s 1ms/step loss: 0.0040 - mse: 0.0040 - mae: 0.04\n",
      "epoch  178 - r2 score: 0.8353546153492215\n",
      "167/167 [==============================] - 0s 3ms/step - loss: 0.0039 - mse: 0.0039 - mae: 0.0399 - val_loss: 0.0035 - val_mse: 0.0035 - val_mae: 0.0383\n",
      "Epoch 180/200\n",
      "42/42 [==============================] - 0s 800us/steposs: 0.0038 - mse: 0.0038 - mae: 0.03\n",
      "epoch  179 - r2 score: 0.8242190012668469\n",
      "167/167 [==============================] - 0s 3ms/step - loss: 0.0040 - mse: 0.0040 - mae: 0.0398 - val_loss: 0.0038 - val_mse: 0.0038 - val_mae: 0.0418\n",
      "Epoch 181/200\n",
      "42/42 [==============================] - 0s 1ms/step loss: 0.0039 - mse: 0.0039 - mae: 0.03\n",
      "epoch  180 - r2 score: 0.8383590831067071\n",
      "167/167 [==============================] - 0s 2ms/step - loss: 0.0040 - mse: 0.0040 - mae: 0.0399 - val_loss: 0.0035 - val_mse: 0.0035 - val_mae: 0.0348\n",
      "Epoch 182/200\n",
      "42/42 [==============================] - 0s 837us/steposs: 0.0040 - mse: 0.0040 - mae: 0.04\n",
      "epoch  181 - r2 score: 0.8375199871898579\n",
      "167/167 [==============================] - 0s 3ms/step - loss: 0.0039 - mse: 0.0039 - mae: 0.0399 - val_loss: 0.0035 - val_mse: 0.0035 - val_mae: 0.0367\n",
      "Epoch 183/200\n",
      "42/42 [==============================] - 0s 864us/steposs: 0.0040 - mse: 0.0040 - mae: 0.04\n",
      "epoch  182 - r2 score: 0.8376794582246682\n",
      "167/167 [==============================] - 0s 2ms/step - loss: 0.0039 - mse: 0.0039 - mae: 0.0397 - val_loss: 0.0035 - val_mse: 0.0035 - val_mae: 0.0348\n",
      "Epoch 184/200\n",
      "42/42 [==============================] - 0s 760us/steposs: 0.0039 - mse: 0.0039 - mae: 0.04\n",
      "epoch  183 - r2 score: 0.8387923744660757\n",
      "167/167 [==============================] - 0s 2ms/step - loss: 0.0039 - mse: 0.0039 - mae: 0.0399 - val_loss: 0.0035 - val_mse: 0.0035 - val_mae: 0.0361\n",
      "Epoch 185/200\n",
      "42/42 [==============================] - 0s 950us/steposs: 0.0040 - mse: 0.0040 - mae: 0.04\n",
      "epoch  184 - r2 score: 0.8354200834069884\n",
      "167/167 [==============================] - 0s 2ms/step - loss: 0.0039 - mse: 0.0039 - mae: 0.0398 - val_loss: 0.0035 - val_mse: 0.0035 - val_mae: 0.0381\n",
      "Epoch 186/200\n",
      "42/42 [==============================] - 0s 1ms/step loss: 0.0040 - mse: 0.0040 - mae: 0.04\n",
      "epoch  185 - r2 score: 0.8371566219894429\n",
      "167/167 [==============================] - 0s 2ms/step - loss: 0.0039 - mse: 0.0039 - mae: 0.0395 - val_loss: 0.0035 - val_mse: 0.0035 - val_mae: 0.0371\n",
      "Epoch 187/200\n",
      "42/42 [==============================] - 0s 854us/steposs: 0.0038 - mse: 0.0038 - mae: 0.03\n",
      "epoch  186 - r2 score: 0.8390558227658667\n",
      "167/167 [==============================] - 0s 2ms/step - loss: 0.0038 - mse: 0.0038 - mae: 0.0393 - val_loss: 0.0035 - val_mse: 0.0035 - val_mae: 0.0351\n",
      "Epoch 188/200\n",
      "42/42 [==============================] - 0s 1ms/step loss: 0.0039 - mse: 0.0039 - mae: 0.\n",
      "epoch  187 - r2 score: 0.836511883381422\n",
      "167/167 [==============================] - 0s 3ms/step - loss: 0.0039 - mse: 0.0039 - mae: 0.0395 - val_loss: 0.0035 - val_mse: 0.0035 - val_mae: 0.0353\n",
      "Epoch 189/200\n",
      "42/42 [==============================] - 0s 1ms/step loss: 0.0039 - mse: 0.0039 - mae: 0.03\n",
      "epoch  188 - r2 score: 0.8351524865571963\n",
      "167/167 [==============================] - 1s 4ms/step - loss: 0.0039 - mse: 0.0039 - mae: 0.0395 - val_loss: 0.0035 - val_mse: 0.0035 - val_mae: 0.0351\n",
      "Epoch 190/200\n",
      "42/42 [==============================] - 0s 1ms/step loss: 0.0039 - mse: 0.0039 - mae: 0.03\n",
      "epoch  189 - r2 score: 0.8357634158490561\n",
      "167/167 [==============================] - 0s 2ms/step - loss: 0.0038 - mse: 0.0038 - mae: 0.0394 - val_loss: 0.0035 - val_mse: 0.0035 - val_mae: 0.0376\n",
      "Epoch 191/200\n",
      "42/42 [==============================] - 0s 762us/steposs: 0.0039 - mse: 0.0039 - mae: 0.03\n",
      "epoch  190 - r2 score: 0.8386631942033537\n",
      "167/167 [==============================] - 0s 2ms/step - loss: 0.0039 - mse: 0.0039 - mae: 0.0393 - val_loss: 0.0035 - val_mse: 0.0035 - val_mae: 0.0352\n",
      "Epoch 192/200\n",
      "42/42 [==============================] - 0s 1ms/step loss: 0.0040 - mse: 0.0040 - mae: 0.03\n",
      "epoch  191 - r2 score: 0.831697578303795\n",
      "167/167 [==============================] - 0s 2ms/step - loss: 0.0039 - mse: 0.0039 - mae: 0.0398 - val_loss: 0.0036 - val_mse: 0.0036 - val_mae: 0.0353\n",
      "Epoch 193/200\n",
      "42/42 [==============================] - 0s 1ms/step loss: 0.0040 - mse: 0.0040 - mae: 0.03\n",
      "epoch  192 - r2 score: 0.8370405519364312\n",
      "167/167 [==============================] - 0s 2ms/step - loss: 0.0039 - mse: 0.0039 - mae: 0.0397 - val_loss: 0.0035 - val_mse: 0.0035 - val_mae: 0.0352\n",
      "Epoch 194/200\n",
      "42/42 [==============================] - 0s 747us/steposs: 0.0040 - mse: 0.0040 - mae: 0.03\n",
      "epoch  193 - r2 score: 0.8380353947632269\n",
      "167/167 [==============================] - 0s 2ms/step - loss: 0.0039 - mse: 0.0039 - mae: 0.0395 - val_loss: 0.0035 - val_mse: 0.0035 - val_mae: 0.0356\n",
      "Epoch 195/200\n",
      "42/42 [==============================] - 0s 761us/steposs: 0.0040 - mse: 0.0040 - mae: 0.03\n",
      "epoch  194 - r2 score: 0.8300785238735624\n",
      "167/167 [==============================] - 0s 2ms/step - loss: 0.0040 - mse: 0.0040 - mae: 0.0396 - val_loss: 0.0036 - val_mse: 0.0036 - val_mae: 0.0401\n",
      "Epoch 196/200\n",
      "42/42 [==============================] - 0s 829us/steposs: 0.0039 - mse: 0.0039 - mae: 0.04\n",
      "epoch  195 - r2 score: 0.8360598749189115\n",
      "167/167 [==============================] - 0s 2ms/step - loss: 0.0039 - mse: 0.0039 - mae: 0.0404 - val_loss: 0.0035 - val_mse: 0.0035 - val_mae: 0.0358\n",
      "Epoch 197/200\n",
      "42/42 [==============================] - 0s 760us/steposs: 0.0037 - mse: 0.0037 - mae: 0.03\n",
      "epoch  196 - r2 score: 0.837792174082082\n",
      "167/167 [==============================] - 0s 2ms/step - loss: 0.0038 - mse: 0.0038 - mae: 0.0392 - val_loss: 0.0035 - val_mse: 0.0035 - val_mae: 0.0348\n",
      "Epoch 198/200\n",
      "42/42 [==============================] - 0s 1ms/step loss: 0.0039 - mse: 0.0039 - mae: 0.03\n",
      "epoch  197 - r2 score: 0.8387998880227987\n",
      "167/167 [==============================] - 0s 2ms/step - loss: 0.0039 - mse: 0.0039 - mae: 0.0390 - val_loss: 0.0035 - val_mse: 0.0035 - val_mae: 0.0350\n",
      "Epoch 199/200\n",
      "42/42 [==============================] - 0s 872us/steposs: 0.0039 - mse: 0.0039 - mae: 0.03\n",
      "epoch  198 - r2 score: 0.836508779509632\n",
      "167/167 [==============================] - 0s 2ms/step - loss: 0.0039 - mse: 0.0039 - mae: 0.0395 - val_loss: 0.0035 - val_mse: 0.0035 - val_mae: 0.0352\n",
      "Epoch 200/200\n",
      "42/42 [==============================] - 0s 1ms/step loss: 0.0039 - mse: 0.0039 - mae: 0.03\n",
      "epoch  199 - r2 score: 0.8366585053095659\n",
      "167/167 [==============================] - 0s 2ms/step - loss: 0.0039 - mse: 0.0039 - mae: 0.0398 - val_loss: 0.0035 - val_mse: 0.0035 - val_mae: 0.0379\n"
     ]
    }
   ],
   "source": [
    "history=model.fit(train_data,train_target,epochs=200,validation_data=(test_data,test_target),callbacks=[checkpoint,CustomCallback()])"
   ]
  },
  {
   "cell_type": "code",
   "execution_count": 36,
   "metadata": {},
   "outputs": [
    {
     "data": {
      "image/png": "[encoded data removed]",
      "text/plain": [
       "<Figure size 640x480 with 1 Axes>"
      ]
     },
     "metadata": {},
     "output_type": "display_data"
    }
   ],
   "source": [
    "from matplotlib import pyplot as plt\n",
    "\n",
    "plt.plot(model.history.history['loss'])\n",
    "plt.plot(model.history.history['val_loss'])\n",
    "plt.xlabel('# epochs')\n",
    "plt.ylabel('loss')\n",
    "plt.show()"
   ]
  },
  {
   "cell_type": "code",
   "execution_count": 37,
   "metadata": {},
   "outputs": [
    {
     "name": "stdout",
     "output_type": "stream",
     "text": [
      "actual: [[0.16295428 0.00234467 0.06916764 0.00586166 0.014068   0.00117233\n",
      "  0.13130129 0.007034   0.22039859 0.06565064]]\n",
      "predicted: [[0.47494435 0.05576926 0.46554703 0.12897177 0.6073725  0.14816576\n",
      "  0.17670536 0.13182126 0.02696898 0.09504017]]\n"
     ]
    }
   ],
   "source": [
    "print('actual:',test_target[:10].T)\n",
    "print('predicted:',predicted_result[:10].T)"
   ]
  },
  {
   "cell_type": "code",
   "execution_count": 38,
   "metadata": {},
   "outputs": [
    {
     "name": "stdout",
     "output_type": "stream",
     "text": [
      "actual inverse scaled: [[14.   0.3  6.   0.6  1.3  0.2 11.3  0.7 18.9  5.7]]\n",
      "predicted inverse scaled: [[40.612755   4.8571177 39.81116   11.101292  51.908875  12.73854\n",
      "  15.172967  11.344354   2.4004543  8.206926 ]]\n"
     ]
    }
   ],
   "source": [
    "print('actual inverse scaled:',scaler_target.inverse_transform(test_target[:10]).T)\n",
    "print('predicted inverse scaled:',scaler_target.inverse_transform(predicted_result[:10]).T)"
   ]
  },
  {
   "cell_type": "markdown",
   "metadata": {},
   "source": [
    "# Save all the models"
   ]
  },
  {
   "cell_type": "code",
   "execution_count": 19,
   "metadata": {},
   "outputs": [
    {
     "data": {
      "text/plain": [
       "['scaler_target.sav']"
      ]
     },
     "execution_count": 19,
     "metadata": {},
     "output_type": "execute_result"
    }
   ],
   "source": [
    "import joblib\n",
    "\n",
    "joblib.dump(scaler_data,'scaler_data.sav')\n",
    "joblib.dump(scaler_target,'scaler_target.sav')"
   ]
  },
  {
   "cell_type": "code",
   "execution_count": null,
   "metadata": {},
   "outputs": [],
   "source": []
  },
  {
   "cell_type": "code",
   "execution_count": 18,
   "metadata": {},
   "outputs": [
    {
     "name": "stdout",
     "output_type": "stream",
     "text": [
      "42/42 [==============================] - 0s 828us/step\n",
      "r2 score: 0.8550122389544291\n"
     ]
    }
   ],
   "source": [
    "from sklearn.metrics import r2_score\n",
    "\n",
    "predicted_result=model.predict(test_data)\n",
    "\n",
    "r2=r2_score(test_target,predicted_result)\n",
    "print('r2 score:',r2)"
   ]
  }
 ],
 "metadata": {
  "kernelspec": {
   "display_name": "Python 3",
   "language": "python",
   "name": "python3"
  },
  "language_info": {
   "codemirror_mode": {
    "name": "ipython",
    "version": 3
   },
   "file_extension": ".py",
   "mimetype": "text/x-python",
   "name": "python",
   "nbconvert_exporter": "python",
   "pygments_lexer": "ipython3",
   "version": "3.8.8"
  }
 },
 "nbformat": 4,
 "nbformat_minor": 2
}
