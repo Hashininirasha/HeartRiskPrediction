{
 "cells": [
  {
   "cell_type": "code",
   "execution_count": 1,
   "metadata": {},
   "outputs": [],
   "source": [
    "import pandas as pd\n",
    "import numpy as np"
   ]
  },
  {
   "cell_type": "code",
   "execution_count": 2,
   "metadata": {},
   "outputs": [],
   "source": [
    "dataset=pd.read_csv('data/cardio_dataset.csv').values"
   ]
  },
  {
   "cell_type": "code",
   "execution_count": 3,
   "metadata": {},
   "outputs": [],
   "source": [
    "data=dataset[:,0:7]\n",
    "target=dataset[:,7]"
   ]
  },
  {
   "cell_type": "code",
   "execution_count": 4,
   "metadata": {},
   "outputs": [],
   "source": [
    "from sklearn.preprocessing import MinMaxScaler\n",
    "\n",
    "target=np.reshape(target, (-1,1))\n",
    "\n",
    "scaler_data = MinMaxScaler(feature_range=(0,1))\n",
    "scaler_target = MinMaxScaler()\n",
    "\n",
    "data_scaled=scaler_data.fit_transform(data)\n",
    "target_scaled=scaler_target.fit_transform(target)"
   ]
  },
  {
   "cell_type": "code",
   "execution_count": 5,
   "metadata": {},
   "outputs": [],
   "source": [
    "from sklearn.model_selection import train_test_split\n",
    "\n",
    "train_data, test_data, train_target, test_target = train_test_split(data_scaled, target_scaled,test_size=0.2)"
   ]
  },
  {
   "cell_type": "code",
   "execution_count": 6,
   "metadata": {},
   "outputs": [
    {
     "name": "stdout",
     "output_type": "stream",
     "text": [
      "Model: \"sequential\"\n",
      "_________________________________________________________________\n",
      " Layer (type)                Output Shape              Param #   \n",
      "=================================================================\n",
      " dense (Dense)               (None, 128)               1024      \n",
      "                                                                 \n",
      " dropout (Dropout)           (None, 128)               0         \n",
      "                                                                 \n",
      " dense_1 (Dense)             (None, 64)                8256      \n",
      "                                                                 \n",
      " dropout_1 (Dropout)         (None, 64)                0         \n",
      "                                                                 \n",
      " dense_2 (Dense)             (None, 10)                650       \n",
      "                                                                 \n",
      " dense_3 (Dense)             (None, 1)                 11        \n",
      "                                                                 \n",
      "=================================================================\n",
      "Total params: 9,941\n",
      "Trainable params: 9,941\n",
      "Non-trainable params: 0\n",
      "_________________________________________________________________\n"
     ]
    }
   ],
   "source": [
    "from keras.models import Sequential\n",
    "from keras.layers import Dense,Dropout\n",
    "import numpy as np\n",
    "\n",
    "model = Sequential()\n",
    "model.add(Dense(128, input_dim=7, activation='sigmoid',kernel_initializer='normal'))\n",
    "model.add(Dropout(0.5))\n",
    "model.add(Dense(64, activation='sigmoid'))\n",
    "model.add(Dropout(0.5))\n",
    "model.add(Dense(10, activation='sigmoid'))\n",
    "model.add(Dense(1, activation='linear'))\n",
    "\n",
    "model.compile(optimizer='adam',loss='mse',metrics=['mse','mae'])\n",
    "\n",
    "model.summary()"
   ]
  },
  {
   "cell_type": "code",
   "execution_count": 31,
   "metadata": {},
   "outputs": [
    {
     "ename": "NameError",
     "evalue": "name 'predicted_result' is not defined",
     "output_type": "error",
     "traceback": [
      "\u001b[1;31m---------------------------------------------------------------------------\u001b[0m",
      "\u001b[1;31mNameError\u001b[0m                                 Traceback (most recent call last)",
      "Input \u001b[1;32mIn [31]\u001b[0m, in \u001b[0;36m<cell line: 11>\u001b[1;34m()\u001b[0m\n\u001b[0;32m      6\u001b[0m     \u001b[38;5;28;01mdef\u001b[39;00m \u001b[38;5;21mon_epoch_end\u001b[39m(\u001b[38;5;28mself\u001b[39m,epoch,logs\u001b[38;5;241m=\u001b[39m\u001b[38;5;28;01mNone\u001b[39;00m):\n\u001b[0;32m      9\u001b[0m         predicted_result\u001b[38;5;241m=\u001b[39mmodel\u001b[38;5;241m.\u001b[39mpredict(test_data)\n\u001b[1;32m---> 11\u001b[0m r2\u001b[38;5;241m=\u001b[39mr2_score(test_target,\u001b[43mpredicted_result\u001b[49m)\n\u001b[0;32m     12\u001b[0m \u001b[38;5;28mprint\u001b[39m(\u001b[38;5;124m'\u001b[39m\u001b[38;5;124mr2 score:\u001b[39m\u001b[38;5;124m'\u001b[39m,r2)\n",
      "\u001b[1;31mNameError\u001b[0m: name 'predicted_result' is not defined"
     ]
    }
   ],
   "source": [
    "from sklearn.metrics import r2_score\n",
    "import keras\n",
    "\n",
    "class CustomCallback(keras.callbacks.Callback):\n",
    "    \n",
    "    def on_epoch_end(self,epoch,logs=None):\n",
    "        predicted_result=model.predict(test_data)\n",
    "        r2=r2_score(test_target,predicted_result)\n",
    "        print('epoch ',epoch,'- r2 score:',r2)\n",
    "        \n",
    "        \n"
   ]
  },
  {
   "cell_type": "code",
   "execution_count": 32,
   "metadata": {},
   "outputs": [
    {
     "name": "stdout",
     "output_type": "stream",
     "text": [
      "42/42 [==============================] - 0s 951us/step\n",
      "r2 score: 0.8476873985186102\n"
     ]
    }
   ],
   "source": [
    "from sklearn.metrics import r2_score\n",
    "\n",
    "predicted_result=model.predict(test_data)\n",
    "\n",
    "r2=r2_score(test_target,predicted_result)\n",
    "print('r2 score:',r2)"
   ]
  },
  {
   "cell_type": "markdown",
   "metadata": {},
   "source": [
    "[Full details at keras official site](https://www.tensorflow.org/guide/keras/custom_callback)"
   ]
  },
  {
   "cell_type": "code",
   "execution_count": 13,
   "metadata": {},
   "outputs": [],
   "source": [
    "from keras.callbacks import ModelCheckpoint\n",
    "\n",
    "checkpoint = ModelCheckpoint('models/model-{epoch:03d}.model',monitor='val_loss',save_best_only=True,mode='auto')"
   ]
  },
  {
   "cell_type": "code",
   "execution_count": 9,
   "metadata": {
    "scrolled": true
   },
   "outputs": [
    {
     "name": "stdout",
     "output_type": "stream",
     "text": [
      "Epoch 1/200\n",
      "151/167 [==========================>...] - ETA: 0s - loss: 0.0285 - mse: 0.0285 - mae: 0.1289"
     ]
    },
    {
     "name": "stderr",
     "output_type": "stream",
     "text": [
      "WARNING:absl:Found untraced functions such as _update_step_xla while saving (showing 1 of 1). These functions will not be directly callable after loading.\n"
     ]
    },
    {
     "name": "stdout",
     "output_type": "stream",
     "text": [
      "INFO:tensorflow:Assets written to: models\\model-001.model\\assets\n"
     ]
    },
    {
     "name": "stderr",
     "output_type": "stream",
     "text": [
      "INFO:tensorflow:Assets written to: models\\model-001.model\\assets\n"
     ]
    },
    {
     "name": "stdout",
     "output_type": "stream",
     "text": [
      "42/42 [==============================] - 0s 1ms/step\n",
      "epoch  0 - r2 score: 0.023384675605886085\n",
      "167/167 [==============================] - 4s 17ms/step - loss: 0.0284 - mse: 0.0284 - mae: 0.1287 - val_loss: 0.0229 - val_mse: 0.0229 - val_mae: 0.1172\n",
      "Epoch 2/200\n",
      "165/167 [============================>.] - ETA: 0s - loss: 0.0238 - mse: 0.0238 - mae: 0.1179"
     ]
    },
    {
     "name": "stderr",
     "output_type": "stream",
     "text": [
      "WARNING:absl:Found untraced functions such as _update_step_xla while saving (showing 1 of 1). These functions will not be directly callable after loading.\n"
     ]
    },
    {
     "name": "stdout",
     "output_type": "stream",
     "text": [
      "INFO:tensorflow:Assets written to: models\\model-002.model\\assets\n"
     ]
    },
    {
     "name": "stderr",
     "output_type": "stream",
     "text": [
      "INFO:tensorflow:Assets written to: models\\model-002.model\\assets\n"
     ]
    },
    {
     "name": "stdout",
     "output_type": "stream",
     "text": [
      "42/42 [==============================] - 0s 1ms/step\n",
      "epoch  1 - r2 score: 0.043057113813540826\n",
      "167/167 [==============================] - 2s 11ms/step - loss: 0.0238 - mse: 0.0238 - mae: 0.1178 - val_loss: 0.0224 - val_mse: 0.0224 - val_mae: 0.1138\n",
      "Epoch 3/200\n",
      "155/167 [==========================>...] - ETA: 0s - loss: 0.0230 - mse: 0.0230 - mae: 0.1151"
     ]
    },
    {
     "name": "stderr",
     "output_type": "stream",
     "text": [
      "WARNING:absl:Found untraced functions such as _update_step_xla while saving (showing 1 of 1). These functions will not be directly callable after loading.\n"
     ]
    },
    {
     "name": "stdout",
     "output_type": "stream",
     "text": [
      "INFO:tensorflow:Assets written to: models\\model-003.model\\assets\n"
     ]
    },
    {
     "name": "stderr",
     "output_type": "stream",
     "text": [
      "INFO:tensorflow:Assets written to: models\\model-003.model\\assets\n"
     ]
    },
    {
     "name": "stdout",
     "output_type": "stream",
     "text": [
      "42/42 [==============================] - 0s 869us/step\n",
      "epoch  2 - r2 score: 0.10292296519543165\n",
      "167/167 [==============================] - 2s 11ms/step - loss: 0.0229 - mse: 0.0229 - mae: 0.1146 - val_loss: 0.0210 - val_mse: 0.0210 - val_mae: 0.1121\n",
      "Epoch 4/200\n",
      "132/167 [======================>.......] - ETA: 0s - loss: 0.0202 - mse: 0.0202 - mae: 0.1079"
     ]
    },
    {
     "name": "stderr",
     "output_type": "stream",
     "text": [
      "WARNING:absl:Found untraced functions such as _update_step_xla while saving (showing 1 of 1). These functions will not be directly callable after loading.\n"
     ]
    },
    {
     "name": "stdout",
     "output_type": "stream",
     "text": [
      "INFO:tensorflow:Assets written to: models\\model-004.model\\assets\n"
     ]
    },
    {
     "name": "stderr",
     "output_type": "stream",
     "text": [
      "INFO:tensorflow:Assets written to: models\\model-004.model\\assets\n"
     ]
    },
    {
     "name": "stdout",
     "output_type": "stream",
     "text": [
      "42/42 [==============================] - 0s 1ms/step\n",
      "epoch  3 - r2 score: 0.3022719799832483\n",
      "167/167 [==============================] - 2s 10ms/step - loss: 0.0203 - mse: 0.0203 - mae: 0.1075 - val_loss: 0.0164 - val_mse: 0.0164 - val_mae: 0.1045\n",
      "Epoch 5/200\n",
      "130/167 [======================>.......] - ETA: 0s - loss: 0.0164 - mse: 0.0164 - mae: 0.0938"
     ]
    },
    {
     "name": "stderr",
     "output_type": "stream",
     "text": [
      "WARNING:absl:Found untraced functions such as _update_step_xla while saving (showing 1 of 1). These functions will not be directly callable after loading.\n"
     ]
    },
    {
     "name": "stdout",
     "output_type": "stream",
     "text": [
      "INFO:tensorflow:Assets written to: models\\model-005.model\\assets\n"
     ]
    },
    {
     "name": "stderr",
     "output_type": "stream",
     "text": [
      "INFO:tensorflow:Assets written to: models\\model-005.model\\assets\n"
     ]
    },
    {
     "name": "stdout",
     "output_type": "stream",
     "text": [
      "42/42 [==============================] - 0s 795us/step\n",
      "epoch  4 - r2 score: 0.5711616693646069\n",
      "167/167 [==============================] - 2s 13ms/step - loss: 0.0161 - mse: 0.0161 - mae: 0.0929 - val_loss: 0.0100 - val_mse: 0.0100 - val_mae: 0.0757\n",
      "Epoch 6/200\n",
      "131/167 [======================>.......] - ETA: 0s - loss: 0.0127 - mse: 0.0127 - mae: 0.0822"
     ]
    },
    {
     "name": "stderr",
     "output_type": "stream",
     "text": [
      "WARNING:absl:Found untraced functions such as _update_step_xla while saving (showing 1 of 1). These functions will not be directly callable after loading.\n"
     ]
    },
    {
     "name": "stdout",
     "output_type": "stream",
     "text": [
      "INFO:tensorflow:Assets written to: models\\model-006.model\\assets\n"
     ]
    },
    {
     "name": "stderr",
     "output_type": "stream",
     "text": [
      "INFO:tensorflow:Assets written to: models\\model-006.model\\assets\n"
     ]
    },
    {
     "name": "stdout",
     "output_type": "stream",
     "text": [
      "42/42 [==============================] - 0s 1ms/step\n",
      "epoch  5 - r2 score: 0.6389883110468357\n",
      "167/167 [==============================] - 3s 18ms/step - loss: 0.0125 - mse: 0.0125 - mae: 0.0810 - val_loss: 0.0085 - val_mse: 0.0085 - val_mae: 0.0644\n",
      "Epoch 7/200\n",
      "132/167 [======================>.......] - ETA: 0s - loss: 0.0112 - mse: 0.0112 - mae: 0.0756"
     ]
    },
    {
     "name": "stderr",
     "output_type": "stream",
     "text": [
      "WARNING:absl:Found untraced functions such as _update_step_xla while saving (showing 1 of 1). These functions will not be directly callable after loading.\n"
     ]
    },
    {
     "name": "stdout",
     "output_type": "stream",
     "text": [
      "INFO:tensorflow:Assets written to: models\\model-007.model\\assets\n"
     ]
    },
    {
     "name": "stderr",
     "output_type": "stream",
     "text": [
      "INFO:tensorflow:Assets written to: models\\model-007.model\\assets\n"
     ]
    },
    {
     "name": "stdout",
     "output_type": "stream",
     "text": [
      "42/42 [==============================] - 0s 944us/step\n",
      "epoch  6 - r2 score: 0.6823786962384498\n",
      "167/167 [==============================] - 2s 11ms/step - loss: 0.0110 - mse: 0.0110 - mae: 0.0749 - val_loss: 0.0074 - val_mse: 0.0074 - val_mae: 0.0575\n",
      "Epoch 8/200\n",
      "134/167 [=======================>......] - ETA: 0s - loss: 0.0103 - mse: 0.0103 - mae: 0.0713"
     ]
    },
    {
     "name": "stderr",
     "output_type": "stream",
     "text": [
      "WARNING:absl:Found untraced functions such as _update_step_xla while saving (showing 1 of 1). These functions will not be directly callable after loading.\n"
     ]
    },
    {
     "name": "stdout",
     "output_type": "stream",
     "text": [
      "INFO:tensorflow:Assets written to: models\\model-008.model\\assets\n"
     ]
    },
    {
     "name": "stderr",
     "output_type": "stream",
     "text": [
      "INFO:tensorflow:Assets written to: models\\model-008.model\\assets\n"
     ]
    },
    {
     "name": "stdout",
     "output_type": "stream",
     "text": [
      "42/42 [==============================] - 0s 760us/step\n",
      "epoch  7 - r2 score: 0.7013162041306134\n",
      "167/167 [==============================] - 2s 11ms/step - loss: 0.0100 - mse: 0.0100 - mae: 0.0702 - val_loss: 0.0070 - val_mse: 0.0070 - val_mae: 0.0553\n",
      "Epoch 9/200\n",
      "152/167 [==========================>...] - ETA: 0s - loss: 0.0096 - mse: 0.0096 - mae: 0.0674"
     ]
    },
    {
     "name": "stderr",
     "output_type": "stream",
     "text": [
      "WARNING:absl:Found untraced functions such as _update_step_xla while saving (showing 1 of 1). These functions will not be directly callable after loading.\n"
     ]
    },
    {
     "name": "stdout",
     "output_type": "stream",
     "text": [
      "INFO:tensorflow:Assets written to: models\\model-009.model\\assets\n"
     ]
    },
    {
     "name": "stderr",
     "output_type": "stream",
     "text": [
      "INFO:tensorflow:Assets written to: models\\model-009.model\\assets\n"
     ]
    },
    {
     "name": "stdout",
     "output_type": "stream",
     "text": [
      "42/42 [==============================] - 0s 682us/step\n",
      "epoch  8 - r2 score: 0.7255368217376832\n",
      "167/167 [==============================] - 2s 11ms/step - loss: 0.0095 - mse: 0.0095 - mae: 0.0673 - val_loss: 0.0064 - val_mse: 0.0064 - val_mae: 0.0497\n",
      "Epoch 10/200\n",
      "127/167 [=====================>........] - ETA: 0s - loss: 0.0082 - mse: 0.0082 - mae: 0.0628"
     ]
    },
    {
     "name": "stderr",
     "output_type": "stream",
     "text": [
      "WARNING:absl:Found untraced functions such as _update_step_xla while saving (showing 1 of 1). These functions will not be directly callable after loading.\n"
     ]
    },
    {
     "name": "stdout",
     "output_type": "stream",
     "text": [
      "INFO:tensorflow:Assets written to: models\\model-010.model\\assets\n"
     ]
    },
    {
     "name": "stderr",
     "output_type": "stream",
     "text": [
      "INFO:tensorflow:Assets written to: models\\model-010.model\\assets\n"
     ]
    },
    {
     "name": "stdout",
     "output_type": "stream",
     "text": [
      "42/42 [==============================] - 0s 664us/step\n",
      "epoch  9 - r2 score: 0.7510410005862407\n",
      "167/167 [==============================] - 2s 11ms/step - loss: 0.0083 - mse: 0.0083 - mae: 0.0632 - val_loss: 0.0058 - val_mse: 0.0058 - val_mae: 0.0481\n",
      "Epoch 11/200\n",
      "161/167 [===========================>..] - ETA: 0s - loss: 0.0079 - mse: 0.0079 - mae: 0.0611"
     ]
    },
    {
     "name": "stderr",
     "output_type": "stream",
     "text": [
      "WARNING:absl:Found untraced functions such as _update_step_xla while saving (showing 1 of 1). These functions will not be directly callable after loading.\n"
     ]
    },
    {
     "name": "stdout",
     "output_type": "stream",
     "text": [
      "INFO:tensorflow:Assets written to: models\\model-011.model\\assets\n"
     ]
    },
    {
     "name": "stderr",
     "output_type": "stream",
     "text": [
      "INFO:tensorflow:Assets written to: models\\model-011.model\\assets\n"
     ]
    },
    {
     "name": "stdout",
     "output_type": "stream",
     "text": [
      "42/42 [==============================] - 0s 756us/step\n",
      "epoch  10 - r2 score: 0.7572978967101323\n",
      "167/167 [==============================] - 2s 14ms/step - loss: 0.0079 - mse: 0.0079 - mae: 0.0613 - val_loss: 0.0057 - val_mse: 0.0057 - val_mae: 0.0502\n",
      "Epoch 12/200\n",
      "145/167 [=========================>....] - ETA: 0s - loss: 0.0077 - mse: 0.0077 - mae: 0.0600"
     ]
    },
    {
     "name": "stderr",
     "output_type": "stream",
     "text": [
      "WARNING:absl:Found untraced functions such as _update_step_xla while saving (showing 1 of 1). These functions will not be directly callable after loading.\n"
     ]
    },
    {
     "name": "stdout",
     "output_type": "stream",
     "text": [
      "INFO:tensorflow:Assets written to: models\\model-012.model\\assets\n"
     ]
    },
    {
     "name": "stderr",
     "output_type": "stream",
     "text": [
      "INFO:tensorflow:Assets written to: models\\model-012.model\\assets\n"
     ]
    },
    {
     "name": "stdout",
     "output_type": "stream",
     "text": [
      "42/42 [==============================] - 0s 854us/step\n",
      "epoch  11 - r2 score: 0.7604839884018884\n",
      "167/167 [==============================] - 2s 13ms/step - loss: 0.0076 - mse: 0.0076 - mae: 0.0599 - val_loss: 0.0056 - val_mse: 0.0056 - val_mae: 0.0523\n",
      "Epoch 13/200\n",
      "164/167 [============================>.] - ETA: 0s - loss: 0.0073 - mse: 0.0073 - mae: 0.0580"
     ]
    },
    {
     "name": "stderr",
     "output_type": "stream",
     "text": [
      "WARNING:absl:Found untraced functions such as _update_step_xla while saving (showing 1 of 1). These functions will not be directly callable after loading.\n"
     ]
    },
    {
     "name": "stdout",
     "output_type": "stream",
     "text": [
      "INFO:tensorflow:Assets written to: models\\model-013.model\\assets\n"
     ]
    },
    {
     "name": "stderr",
     "output_type": "stream",
     "text": [
      "INFO:tensorflow:Assets written to: models\\model-013.model\\assets\n"
     ]
    },
    {
     "name": "stdout",
     "output_type": "stream",
     "text": [
      "42/42 [==============================] - 0s 476us/step\n",
      "epoch  12 - r2 score: 0.7669707442102213\n",
      "167/167 [==============================] - 2s 14ms/step - loss: 0.0073 - mse: 0.0073 - mae: 0.0580 - val_loss: 0.0055 - val_mse: 0.0055 - val_mae: 0.0427\n",
      "Epoch 14/200\n",
      "136/167 [=======================>......] - ETA: 0s - loss: 0.0071 - mse: 0.0071 - mae: 0.0570"
     ]
    },
    {
     "name": "stderr",
     "output_type": "stream",
     "text": [
      "WARNING:absl:Found untraced functions such as _update_step_xla while saving (showing 1 of 1). These functions will not be directly callable after loading.\n"
     ]
    },
    {
     "name": "stdout",
     "output_type": "stream",
     "text": [
      "INFO:tensorflow:Assets written to: models\\model-014.model\\assets\n"
     ]
    },
    {
     "name": "stderr",
     "output_type": "stream",
     "text": [
      "INFO:tensorflow:Assets written to: models\\model-014.model\\assets\n"
     ]
    },
    {
     "name": "stdout",
     "output_type": "stream",
     "text": [
      "42/42 [==============================] - 0s 762us/step\n",
      "epoch  13 - r2 score: 0.7866444001894586\n",
      "167/167 [==============================] - 2s 12ms/step - loss: 0.0070 - mse: 0.0070 - mae: 0.0567 - val_loss: 0.0050 - val_mse: 0.0050 - val_mae: 0.0419\n",
      "Epoch 15/200\n",
      "42/42 [==============================] - 0s 864us/steposs: 0.0069 - mse: 0.0069 - mae: 0.05\n",
      "epoch  14 - r2 score: 0.7812641929662905\n",
      "167/167 [==============================] - 0s 2ms/step - loss: 0.0069 - mse: 0.0069 - mae: 0.0559 - val_loss: 0.0051 - val_mse: 0.0051 - val_mae: 0.0423\n",
      "Epoch 16/200\n",
      "129/167 [======================>.......] - ETA: 0s - loss: 0.0067 - mse: 0.0067 - mae: 0.0554"
     ]
    },
    {
     "name": "stderr",
     "output_type": "stream",
     "text": [
      "WARNING:absl:Found untraced functions such as _update_step_xla while saving (showing 1 of 1). These functions will not be directly callable after loading.\n"
     ]
    },
    {
     "name": "stdout",
     "output_type": "stream",
     "text": [
      "INFO:tensorflow:Assets written to: models\\model-016.model\\assets\n"
     ]
    },
    {
     "name": "stderr",
     "output_type": "stream",
     "text": [
      "INFO:tensorflow:Assets written to: models\\model-016.model\\assets\n"
     ]
    },
    {
     "name": "stdout",
     "output_type": "stream",
     "text": [
      "42/42 [==============================] - 0s 761us/step\n",
      "epoch  15 - r2 score: 0.7900199676002506\n",
      "167/167 [==============================] - 2s 11ms/step - loss: 0.0069 - mse: 0.0069 - mae: 0.0560 - val_loss: 0.0049 - val_mse: 0.0049 - val_mae: 0.0433\n",
      "Epoch 17/200\n",
      "159/167 [===========================>..] - ETA: 0s - loss: 0.0064 - mse: 0.0064 - mae: 0.0541"
     ]
    },
    {
     "name": "stderr",
     "output_type": "stream",
     "text": [
      "WARNING:absl:Found untraced functions such as _update_step_xla while saving (showing 1 of 1). These functions will not be directly callable after loading.\n"
     ]
    },
    {
     "name": "stdout",
     "output_type": "stream",
     "text": [
      "INFO:tensorflow:Assets written to: models\\model-017.model\\assets\n"
     ]
    },
    {
     "name": "stderr",
     "output_type": "stream",
     "text": [
      "INFO:tensorflow:Assets written to: models\\model-017.model\\assets\n"
     ]
    },
    {
     "name": "stdout",
     "output_type": "stream",
     "text": [
      "42/42 [==============================] - 0s 762us/step\n",
      "epoch  16 - r2 score: 0.7956519120492909\n",
      "167/167 [==============================] - 2s 11ms/step - loss: 0.0064 - mse: 0.0064 - mae: 0.0542 - val_loss: 0.0048 - val_mse: 0.0048 - val_mae: 0.0456\n",
      "Epoch 18/200\n",
      "42/42 [==============================] - 0s 762us/steposs: 0.0064 - mse: 0.0064 - mae: 0.05\n",
      "epoch  17 - r2 score: 0.7795376053745038\n",
      "167/167 [==============================] - 0s 2ms/step - loss: 0.0064 - mse: 0.0064 - mae: 0.0535 - val_loss: 0.0052 - val_mse: 0.0052 - val_mae: 0.0406\n",
      "Epoch 19/200\n",
      "159/167 [===========================>..] - ETA: 0s - loss: 0.0061 - mse: 0.0061 - mae: 0.0522"
     ]
    },
    {
     "name": "stderr",
     "output_type": "stream",
     "text": [
      "WARNING:absl:Found untraced functions such as _update_step_xla while saving (showing 1 of 1). These functions will not be directly callable after loading.\n"
     ]
    },
    {
     "name": "stdout",
     "output_type": "stream",
     "text": [
      "INFO:tensorflow:Assets written to: models\\model-019.model\\assets\n"
     ]
    },
    {
     "name": "stderr",
     "output_type": "stream",
     "text": [
      "INFO:tensorflow:Assets written to: models\\model-019.model\\assets\n"
     ]
    },
    {
     "name": "stdout",
     "output_type": "stream",
     "text": [
      "42/42 [==============================] - 0s 1ms/step\n",
      "epoch  18 - r2 score: 0.8053148746763861\n",
      "167/167 [==============================] - 3s 18ms/step - loss: 0.0061 - mse: 0.0061 - mae: 0.0524 - val_loss: 0.0046 - val_mse: 0.0046 - val_mae: 0.0430\n",
      "Epoch 20/200\n",
      "42/42 [==============================] - 0s 1ms/step loss: 0.0060 - mse: 0.0060 - mae: 0.05\n",
      "epoch  19 - r2 score: 0.7962615237781732\n",
      "167/167 [==============================] - 0s 3ms/step - loss: 0.0059 - mse: 0.0059 - mae: 0.0513 - val_loss: 0.0048 - val_mse: 0.0048 - val_mae: 0.0420\n",
      "Epoch 21/200\n",
      "42/42 [==============================] - 0s 865us/steposs: 0.0060 - mse: 0.0060 - mae: 0.05\n",
      "epoch  20 - r2 score: 0.8033961379892715\n",
      "167/167 [==============================] - 0s 2ms/step - loss: 0.0060 - mse: 0.0060 - mae: 0.0517 - val_loss: 0.0046 - val_mse: 0.0046 - val_mae: 0.0462\n",
      "Epoch 22/200\n",
      "167/167 [==============================] - ETA: 0s - loss: 0.0060 - mse: 0.0060 - mae: 0.0522"
     ]
    },
    {
     "name": "stderr",
     "output_type": "stream",
     "text": [
      "WARNING:absl:Found untraced functions such as _update_step_xla while saving (showing 1 of 1). These functions will not be directly callable after loading.\n"
     ]
    },
    {
     "name": "stdout",
     "output_type": "stream",
     "text": [
      "INFO:tensorflow:Assets written to: models\\model-022.model\\assets\n"
     ]
    },
    {
     "name": "stderr",
     "output_type": "stream",
     "text": [
      "INFO:tensorflow:Assets written to: models\\model-022.model\\assets\n"
     ]
    },
    {
     "name": "stdout",
     "output_type": "stream",
     "text": [
      "42/42 [==============================] - 0s 878us/step\n",
      "epoch  21 - r2 score: 0.8086195279282985\n",
      "167/167 [==============================] - 2s 13ms/step - loss: 0.0060 - mse: 0.0060 - mae: 0.0522 - val_loss: 0.0045 - val_mse: 0.0045 - val_mae: 0.0401\n",
      "Epoch 23/200\n",
      "42/42 [==============================] - 0s 1ms/step loss: 0.0056 - mse: 0.0056 - mae: 0.05\n",
      "epoch  22 - r2 score: 0.80456331517309\n",
      "167/167 [==============================] - 0s 2ms/step - loss: 0.0056 - mse: 0.0056 - mae: 0.0503 - val_loss: 0.0046 - val_mse: 0.0046 - val_mae: 0.0395\n",
      "Epoch 24/200\n",
      "131/167 [======================>.......] - ETA: 0s - loss: 0.0060 - mse: 0.0060 - mae: 0.0512"
     ]
    },
    {
     "name": "stderr",
     "output_type": "stream",
     "text": [
      "WARNING:absl:Found untraced functions such as _update_step_xla while saving (showing 1 of 1). These functions will not be directly callable after loading.\n"
     ]
    },
    {
     "name": "stdout",
     "output_type": "stream",
     "text": [
      "INFO:tensorflow:Assets written to: models\\model-024.model\\assets\n"
     ]
    },
    {
     "name": "stderr",
     "output_type": "stream",
     "text": [
      "INFO:tensorflow:Assets written to: models\\model-024.model\\assets\n"
     ]
    },
    {
     "name": "stdout",
     "output_type": "stream",
     "text": [
      "42/42 [==============================] - 0s 1ms/step\n",
      "epoch  23 - r2 score: 0.8189552079200424\n",
      "167/167 [==============================] - 2s 14ms/step - loss: 0.0058 - mse: 0.0058 - mae: 0.0505 - val_loss: 0.0042 - val_mse: 0.0042 - val_mae: 0.0410\n",
      "Epoch 25/200\n",
      "42/42 [==============================] - 0s 902us/steposs: 0.0057 - mse: 0.0057 - mae: 0.04\n",
      "epoch  24 - r2 score: 0.8017877713797605\n",
      "167/167 [==============================] - 0s 2ms/step - loss: 0.0057 - mse: 0.0057 - mae: 0.0498 - val_loss: 0.0046 - val_mse: 0.0046 - val_mae: 0.0404\n",
      "Epoch 26/200\n",
      "42/42 [==============================] - 0s 965us/steposs: 0.0055 - mse: 0.0055 - mae: 0.04\n",
      "epoch  25 - r2 score: 0.8149181044227491\n",
      "167/167 [==============================] - 0s 2ms/step - loss: 0.0055 - mse: 0.0055 - mae: 0.0491 - val_loss: 0.0043 - val_mse: 0.0043 - val_mae: 0.0392\n",
      "Epoch 27/200\n",
      "42/42 [==============================] - 0s 989us/steposs: 0.0055 - mse: 0.0055 - mae: 0.04\n",
      "epoch  26 - r2 score: 0.8162880263152444\n",
      "167/167 [==============================] - 0s 2ms/step - loss: 0.0054 - mse: 0.0054 - mae: 0.0493 - val_loss: 0.0043 - val_mse: 0.0043 - val_mae: 0.0383\n",
      "Epoch 28/200\n",
      "42/42 [==============================] - 0s 1ms/step loss: 0.0052 - mse: 0.0052 - mae: 0.04\n",
      "epoch  27 - r2 score: 0.8137833504606168\n",
      "167/167 [==============================] - 0s 2ms/step - loss: 0.0052 - mse: 0.0052 - mae: 0.0482 - val_loss: 0.0044 - val_mse: 0.0044 - val_mae: 0.0379\n",
      "Epoch 29/200\n",
      "125/167 [=====================>........] - ETA: 0s - loss: 0.0054 - mse: 0.0054 - mae: 0.0482"
     ]
    },
    {
     "name": "stderr",
     "output_type": "stream",
     "text": [
      "WARNING:absl:Found untraced functions such as _update_step_xla while saving (showing 1 of 1). These functions will not be directly callable after loading.\n"
     ]
    },
    {
     "name": "stdout",
     "output_type": "stream",
     "text": [
      "INFO:tensorflow:Assets written to: models\\model-029.model\\assets\n"
     ]
    },
    {
     "name": "stderr",
     "output_type": "stream",
     "text": [
      "INFO:tensorflow:Assets written to: models\\model-029.model\\assets\n"
     ]
    },
    {
     "name": "stdout",
     "output_type": "stream",
     "text": [
      "42/42 [==============================] - 0s 884us/step\n",
      "epoch  28 - r2 score: 0.8245869031605242\n",
      "167/167 [==============================] - 2s 11ms/step - loss: 0.0054 - mse: 0.0054 - mae: 0.0485 - val_loss: 0.0041 - val_mse: 0.0041 - val_mae: 0.0388\n",
      "Epoch 30/200\n",
      "128/167 [=====================>........] - ETA: 0s - loss: 0.0054 - mse: 0.0054 - mae: 0.0483"
     ]
    },
    {
     "name": "stderr",
     "output_type": "stream",
     "text": [
      "WARNING:absl:Found untraced functions such as _update_step_xla while saving (showing 1 of 1). These functions will not be directly callable after loading.\n"
     ]
    },
    {
     "name": "stdout",
     "output_type": "stream",
     "text": [
      "INFO:tensorflow:Assets written to: models\\model-030.model\\assets\n"
     ]
    },
    {
     "name": "stderr",
     "output_type": "stream",
     "text": [
      "INFO:tensorflow:Assets written to: models\\model-030.model\\assets\n"
     ]
    },
    {
     "name": "stdout",
     "output_type": "stream",
     "text": [
      "42/42 [==============================] - 0s 1ms/step\n",
      "epoch  29 - r2 score: 0.8250622288572886\n",
      "167/167 [==============================] - 2s 13ms/step - loss: 0.0053 - mse: 0.0053 - mae: 0.0486 - val_loss: 0.0041 - val_mse: 0.0041 - val_mae: 0.0391\n",
      "Epoch 31/200\n",
      "42/42 [==============================] - 0s 1ms/step loss: 0.0057 - mse: 0.0057 - mae: 0.04\n",
      "epoch  30 - r2 score: 0.8096560819686499\n",
      "167/167 [==============================] - 0s 2ms/step - loss: 0.0054 - mse: 0.0054 - mae: 0.0486 - val_loss: 0.0045 - val_mse: 0.0045 - val_mae: 0.0403\n",
      "Epoch 32/200\n",
      "42/42 [==============================] - 0s 880us/steposs: 0.0054 - mse: 0.0054 - mae: 0.04\n",
      "epoch  31 - r2 score: 0.8189497042861581\n",
      "167/167 [==============================] - 0s 2ms/step - loss: 0.0053 - mse: 0.0053 - mae: 0.0480 - val_loss: 0.0042 - val_mse: 0.0042 - val_mae: 0.0394\n",
      "Epoch 33/200\n",
      "42/42 [==============================] - 0s 843us/steposs: 0.0053 - mse: 0.0053 - mae: 0.04\n",
      "epoch  32 - r2 score: 0.8162300036537782\n",
      "167/167 [==============================] - 0s 2ms/step - loss: 0.0053 - mse: 0.0053 - mae: 0.0480 - val_loss: 0.0043 - val_mse: 0.0043 - val_mae: 0.0376\n",
      "Epoch 34/200\n",
      "134/167 [=======================>......] - ETA: 0s - loss: 0.0050 - mse: 0.0050 - mae: 0.0466"
     ]
    },
    {
     "name": "stderr",
     "output_type": "stream",
     "text": [
      "WARNING:absl:Found untraced functions such as _update_step_xla while saving (showing 1 of 1). These functions will not be directly callable after loading.\n"
     ]
    },
    {
     "name": "stdout",
     "output_type": "stream",
     "text": [
      "INFO:tensorflow:Assets written to: models\\model-034.model\\assets\n"
     ]
    },
    {
     "name": "stderr",
     "output_type": "stream",
     "text": [
      "INFO:tensorflow:Assets written to: models\\model-034.model\\assets\n"
     ]
    },
    {
     "name": "stdout",
     "output_type": "stream",
     "text": [
      "42/42 [==============================] - 0s 994us/step\n",
      "epoch  33 - r2 score: 0.8263501624620925\n",
      "167/167 [==============================] - 2s 11ms/step - loss: 0.0052 - mse: 0.0052 - mae: 0.0472 - val_loss: 0.0041 - val_mse: 0.0041 - val_mae: 0.0379\n",
      "Epoch 35/200\n",
      "128/167 [=====================>........] - ETA: 0s - loss: 0.0053 - mse: 0.0053 - mae: 0.0479"
     ]
    },
    {
     "name": "stderr",
     "output_type": "stream",
     "text": [
      "WARNING:absl:Found untraced functions such as _update_step_xla while saving (showing 1 of 1). These functions will not be directly callable after loading.\n"
     ]
    },
    {
     "name": "stdout",
     "output_type": "stream",
     "text": [
      "INFO:tensorflow:Assets written to: models\\model-035.model\\assets\n"
     ]
    },
    {
     "name": "stderr",
     "output_type": "stream",
     "text": [
      "INFO:tensorflow:Assets written to: models\\model-035.model\\assets\n"
     ]
    },
    {
     "name": "stdout",
     "output_type": "stream",
     "text": [
      "42/42 [==============================] - 0s 837us/step\n",
      "epoch  34 - r2 score: 0.8271112255292055\n",
      "167/167 [==============================] - 2s 11ms/step - loss: 0.0053 - mse: 0.0053 - mae: 0.0476 - val_loss: 0.0041 - val_mse: 0.0041 - val_mae: 0.0383\n",
      "Epoch 36/200\n",
      "42/42 [==============================] - 0s 1ms/step loss: 0.0051 - mse: 0.0051 - mae: 0.\n",
      "epoch  35 - r2 score: 0.8144108997521667\n",
      "167/167 [==============================] - 0s 2ms/step - loss: 0.0050 - mse: 0.0050 - mae: 0.0468 - val_loss: 0.0043 - val_mse: 0.0043 - val_mae: 0.0376\n",
      "Epoch 37/200\n",
      "127/167 [=====================>........] - ETA: 0s - loss: 0.0053 - mse: 0.0053 - mae: 0.0473"
     ]
    },
    {
     "name": "stderr",
     "output_type": "stream",
     "text": [
      "WARNING:absl:Found untraced functions such as _update_step_xla while saving (showing 1 of 1). These functions will not be directly callable after loading.\n"
     ]
    },
    {
     "name": "stdout",
     "output_type": "stream",
     "text": [
      "INFO:tensorflow:Assets written to: models\\model-037.model\\assets\n"
     ]
    },
    {
     "name": "stderr",
     "output_type": "stream",
     "text": [
      "INFO:tensorflow:Assets written to: models\\model-037.model\\assets\n"
     ]
    },
    {
     "name": "stdout",
     "output_type": "stream",
     "text": [
      "42/42 [==============================] - 0s 950us/step\n",
      "epoch  36 - r2 score: 0.8286743365052939\n",
      "167/167 [==============================] - 2s 11ms/step - loss: 0.0051 - mse: 0.0051 - mae: 0.0467 - val_loss: 0.0040 - val_mse: 0.0040 - val_mae: 0.0391\n",
      "Epoch 38/200\n",
      "42/42 [==============================] - 0s 1ms/step loss: 0.0051 - mse: 0.0051 - mae: 0.04\n",
      "epoch  37 - r2 score: 0.8276118787490265\n",
      "167/167 [==============================] - 0s 2ms/step - loss: 0.0052 - mse: 0.0052 - mae: 0.0475 - val_loss: 0.0040 - val_mse: 0.0040 - val_mae: 0.0394\n",
      "Epoch 39/200\n",
      "42/42 [==============================] - 0s 1ms/step loss: 0.0051 - mse: 0.0051 - mae: 0.04\n",
      "epoch  38 - r2 score: 0.8231108550136554\n",
      "167/167 [==============================] - 0s 2ms/step - loss: 0.0051 - mse: 0.0051 - mae: 0.0474 - val_loss: 0.0041 - val_mse: 0.0041 - val_mae: 0.0378\n",
      "Epoch 40/200\n",
      "130/167 [======================>.......] - ETA: 0s - loss: 0.0053 - mse: 0.0053 - mae: 0.0476"
     ]
    },
    {
     "name": "stderr",
     "output_type": "stream",
     "text": [
      "WARNING:absl:Found untraced functions such as _update_step_xla while saving (showing 1 of 1). These functions will not be directly callable after loading.\n"
     ]
    },
    {
     "name": "stdout",
     "output_type": "stream",
     "text": [
      "INFO:tensorflow:Assets written to: models\\model-040.model\\assets\n"
     ]
    },
    {
     "name": "stderr",
     "output_type": "stream",
     "text": [
      "INFO:tensorflow:Assets written to: models\\model-040.model\\assets\n"
     ]
    },
    {
     "name": "stdout",
     "output_type": "stream",
     "text": [
      "42/42 [==============================] - 0s 1ms/step\n",
      "epoch  39 - r2 score: 0.829807314072972\n",
      "167/167 [==============================] - 2s 11ms/step - loss: 0.0051 - mse: 0.0051 - mae: 0.0470 - val_loss: 0.0040 - val_mse: 0.0040 - val_mae: 0.0369\n",
      "Epoch 41/200\n",
      "42/42 [==============================] - 0s 988us/steposs: 0.0054 - mse: 0.0054 - mae: 0.04\n",
      "epoch  40 - r2 score: 0.8217760237322971\n",
      "167/167 [==============================] - 0s 2ms/step - loss: 0.0052 - mse: 0.0052 - mae: 0.0472 - val_loss: 0.0042 - val_mse: 0.0042 - val_mae: 0.0384\n",
      "Epoch 42/200\n",
      "42/42 [==============================] - 0s 805us/steposs: 0.0050 - mse: 0.0050 - mae: 0.04\n",
      "epoch  41 - r2 score: 0.80848840564047\n",
      "167/167 [==============================] - 0s 2ms/step - loss: 0.0050 - mse: 0.0050 - mae: 0.0468 - val_loss: 0.0045 - val_mse: 0.0045 - val_mae: 0.0378\n",
      "Epoch 43/200\n",
      "128/167 [=====================>........] - ETA: 0s - loss: 0.0050 - mse: 0.0050 - mae: 0.0465"
     ]
    },
    {
     "name": "stderr",
     "output_type": "stream",
     "text": [
      "WARNING:absl:Found untraced functions such as _update_step_xla while saving (showing 1 of 1). These functions will not be directly callable after loading.\n"
     ]
    },
    {
     "name": "stdout",
     "output_type": "stream",
     "text": [
      "INFO:tensorflow:Assets written to: models\\model-043.model\\assets\n"
     ]
    },
    {
     "name": "stderr",
     "output_type": "stream",
     "text": [
      "INFO:tensorflow:Assets written to: models\\model-043.model\\assets\n"
     ]
    },
    {
     "name": "stdout",
     "output_type": "stream",
     "text": [
      "42/42 [==============================] - 0s 1ms/step\n",
      "epoch  42 - r2 score: 0.8311826795907675\n",
      "167/167 [==============================] - 2s 11ms/step - loss: 0.0049 - mse: 0.0049 - mae: 0.0459 - val_loss: 0.0040 - val_mse: 0.0040 - val_mae: 0.0379\n",
      "Epoch 44/200\n",
      "42/42 [==============================] - 0s 990us/steposs: 0.0050 - mse: 0.0050 - mae: 0.04\n",
      "epoch  43 - r2 score: 0.8215465374137704\n",
      "167/167 [==============================] - 0s 2ms/step - loss: 0.0049 - mse: 0.0049 - mae: 0.0457 - val_loss: 0.0042 - val_mse: 0.0042 - val_mae: 0.0407\n",
      "Epoch 45/200\n",
      "42/42 [==============================] - 0s 858us/steposs: 0.0049 - mse: 0.0049 - mae: 0.04\n",
      "epoch  44 - r2 score: 0.8303754497908928\n",
      "167/167 [==============================] - 0s 2ms/step - loss: 0.0049 - mse: 0.0049 - mae: 0.0457 - val_loss: 0.0040 - val_mse: 0.0040 - val_mae: 0.0391\n",
      "Epoch 46/200\n",
      "42/42 [==============================] - 0s 981us/steposs: 0.0048 - mse: 0.0048 - mae: 0.04\n",
      "epoch  45 - r2 score: 0.8274615011656442\n",
      "167/167 [==============================] - 0s 2ms/step - loss: 0.0048 - mse: 0.0048 - mae: 0.0456 - val_loss: 0.0040 - val_mse: 0.0040 - val_mae: 0.0384\n",
      "Epoch 47/200\n",
      "129/167 [======================>.......] - ETA: 0s - loss: 0.0049 - mse: 0.0049 - mae: 0.0454"
     ]
    },
    {
     "name": "stderr",
     "output_type": "stream",
     "text": [
      "WARNING:absl:Found untraced functions such as _update_step_xla while saving (showing 1 of 1). These functions will not be directly callable after loading.\n"
     ]
    },
    {
     "name": "stdout",
     "output_type": "stream",
     "text": [
      "INFO:tensorflow:Assets written to: models\\model-047.model\\assets\n"
     ]
    },
    {
     "name": "stderr",
     "output_type": "stream",
     "text": [
      "INFO:tensorflow:Assets written to: models\\model-047.model\\assets\n"
     ]
    },
    {
     "name": "stdout",
     "output_type": "stream",
     "text": [
      "42/42 [==============================] - 0s 859us/step\n",
      "epoch  46 - r2 score: 0.833187568880353\n",
      "167/167 [==============================] - 2s 12ms/step - loss: 0.0048 - mse: 0.0048 - mae: 0.0451 - val_loss: 0.0039 - val_mse: 0.0039 - val_mae: 0.0371\n",
      "Epoch 48/200\n",
      "130/167 [======================>.......] - ETA: 0s - loss: 0.0050 - mse: 0.0050 - mae: 0.0460"
     ]
    },
    {
     "name": "stderr",
     "output_type": "stream",
     "text": [
      "WARNING:absl:Found untraced functions such as _update_step_xla while saving (showing 1 of 1). These functions will not be directly callable after loading.\n"
     ]
    },
    {
     "name": "stdout",
     "output_type": "stream",
     "text": [
      "INFO:tensorflow:Assets written to: models\\model-048.model\\assets\n"
     ]
    },
    {
     "name": "stderr",
     "output_type": "stream",
     "text": [
      "INFO:tensorflow:Assets written to: models\\model-048.model\\assets\n"
     ]
    },
    {
     "name": "stdout",
     "output_type": "stream",
     "text": [
      "42/42 [==============================] - 0s 1ms/step\n",
      "epoch  47 - r2 score: 0.833488889522761\n",
      "167/167 [==============================] - 2s 11ms/step - loss: 0.0049 - mse: 0.0049 - mae: 0.0456 - val_loss: 0.0039 - val_mse: 0.0039 - val_mae: 0.0369\n",
      "Epoch 49/200\n",
      "42/42 [==============================] - 0s 1ms/step loss: 0.0048 - mse: 0.0048 - mae: 0.04\n",
      "epoch  48 - r2 score: 0.8282645105355758\n",
      "167/167 [==============================] - 0s 2ms/step - loss: 0.0048 - mse: 0.0048 - mae: 0.0452 - val_loss: 0.0040 - val_mse: 0.0040 - val_mae: 0.0363\n",
      "Epoch 50/200\n",
      "125/167 [=====================>........] - ETA: 0s - loss: 0.0046 - mse: 0.0046 - mae: 0.0452"
     ]
    },
    {
     "name": "stderr",
     "output_type": "stream",
     "text": [
      "WARNING:absl:Found untraced functions such as _update_step_xla while saving (showing 1 of 1). These functions will not be directly callable after loading.\n"
     ]
    },
    {
     "name": "stdout",
     "output_type": "stream",
     "text": [
      "INFO:tensorflow:Assets written to: models\\model-050.model\\assets\n"
     ]
    },
    {
     "name": "stderr",
     "output_type": "stream",
     "text": [
      "INFO:tensorflow:Assets written to: models\\model-050.model\\assets\n"
     ]
    },
    {
     "name": "stdout",
     "output_type": "stream",
     "text": [
      "42/42 [==============================] - 0s 1ms/step\n",
      "epoch  49 - r2 score: 0.8370822883201257\n",
      "167/167 [==============================] - 2s 11ms/step - loss: 0.0046 - mse: 0.0046 - mae: 0.0452 - val_loss: 0.0038 - val_mse: 0.0038 - val_mae: 0.0363\n",
      "Epoch 51/200\n",
      "42/42 [==============================] - 0s 1ms/step loss: 0.0049 - mse: 0.0049 - mae: 0.04\n",
      "epoch  50 - r2 score: 0.8312571760167267\n",
      "167/167 [==============================] - 0s 2ms/step - loss: 0.0049 - mse: 0.0049 - mae: 0.0461 - val_loss: 0.0040 - val_mse: 0.0040 - val_mae: 0.0405\n",
      "Epoch 52/200\n",
      "42/42 [==============================] - 0s 1ms/step loss: 0.0049 - mse: 0.0049 - mae: 0.04\n",
      "epoch  51 - r2 score: 0.8338162236970971\n",
      "167/167 [==============================] - 0s 2ms/step - loss: 0.0048 - mse: 0.0048 - mae: 0.0456 - val_loss: 0.0039 - val_mse: 0.0039 - val_mae: 0.0365\n",
      "Epoch 53/200\n",
      "42/42 [==============================] - 0s 1ms/step loss: 0.0047 - mse: 0.0047 - mae: 0.04\n",
      "epoch  52 - r2 score: 0.8253090379347058\n",
      "167/167 [==============================] - 0s 2ms/step - loss: 0.0047 - mse: 0.0047 - mae: 0.0446 - val_loss: 0.0041 - val_mse: 0.0041 - val_mae: 0.0380\n",
      "Epoch 54/200\n",
      "42/42 [==============================] - 0s 765us/steposs: 0.0047 - mse: 0.0047 - mae: 0.04\n",
      "epoch  53 - r2 score: 0.8312633103985415\n",
      "167/167 [==============================] - 0s 2ms/step - loss: 0.0047 - mse: 0.0047 - mae: 0.0447 - val_loss: 0.0040 - val_mse: 0.0040 - val_mae: 0.0409\n",
      "Epoch 55/200\n",
      "42/42 [==============================] - 0s 1ms/step loss: 0.0047 - mse: 0.0047 - mae: 0.04\n",
      "epoch  54 - r2 score: 0.8268840006754199\n",
      "167/167 [==============================] - 0s 2ms/step - loss: 0.0047 - mse: 0.0047 - mae: 0.0449 - val_loss: 0.0041 - val_mse: 0.0041 - val_mae: 0.0370\n",
      "Epoch 56/200\n",
      "42/42 [==============================] - 0s 1ms/step loss: 0.0048 - mse: 0.0048 - mae: 0.04\n",
      "epoch  55 - r2 score: 0.8232499843718253\n",
      "167/167 [==============================] - 0s 2ms/step - loss: 0.0047 - mse: 0.0047 - mae: 0.0449 - val_loss: 0.0041 - val_mse: 0.0041 - val_mae: 0.0385\n",
      "Epoch 57/200\n",
      "42/42 [==============================] - 0s 1ms/step loss: 0.0046 - mse: 0.0046 - mae: 0.04\n",
      "epoch  56 - r2 score: 0.8356552150746605\n",
      "167/167 [==============================] - 0s 2ms/step - loss: 0.0047 - mse: 0.0047 - mae: 0.0453 - val_loss: 0.0039 - val_mse: 0.0039 - val_mae: 0.0386\n",
      "Epoch 58/200\n",
      "42/42 [==============================] - 0s 1ms/step loss: 0.0046 - mse: 0.0046 - mae: 0.\n",
      "epoch  57 - r2 score: 0.8340715289147297\n",
      "167/167 [==============================] - 0s 2ms/step - loss: 0.0046 - mse: 0.0046 - mae: 0.0444 - val_loss: 0.0039 - val_mse: 0.0039 - val_mae: 0.0407\n",
      "Epoch 59/200\n",
      "42/42 [==============================] - 0s 1ms/step loss: 0.0047 - mse: 0.0047 - mae: 0.04\n",
      "epoch  58 - r2 score: 0.8333555271815798\n",
      "167/167 [==============================] - 0s 2ms/step - loss: 0.0048 - mse: 0.0048 - mae: 0.0449 - val_loss: 0.0039 - val_mse: 0.0039 - val_mae: 0.0386\n",
      "Epoch 60/200\n",
      "42/42 [==============================] - 0s 1ms/step loss: 0.0049 - mse: 0.0049 - mae: 0.\n",
      "epoch  59 - r2 score: 0.8330605697418023\n",
      "167/167 [==============================] - 0s 2ms/step - loss: 0.0047 - mse: 0.0047 - mae: 0.0448 - val_loss: 0.0039 - val_mse: 0.0039 - val_mae: 0.0359\n",
      "Epoch 61/200\n",
      "124/167 [=====================>........] - ETA: 0s - loss: 0.0043 - mse: 0.0043 - mae: 0.0434"
     ]
    },
    {
     "name": "stderr",
     "output_type": "stream",
     "text": [
      "WARNING:absl:Found untraced functions such as _update_step_xla while saving (showing 1 of 1). These functions will not be directly callable after loading.\n"
     ]
    },
    {
     "name": "stdout",
     "output_type": "stream",
     "text": [
      "INFO:tensorflow:Assets written to: models\\model-061.model\\assets\n"
     ]
    },
    {
     "name": "stderr",
     "output_type": "stream",
     "text": [
      "INFO:tensorflow:Assets written to: models\\model-061.model\\assets\n"
     ]
    },
    {
     "name": "stdout",
     "output_type": "stream",
     "text": [
      "42/42 [==============================] - 0s 1ms/step\n",
      "epoch  60 - r2 score: 0.8384756760559021\n",
      "167/167 [==============================] - 2s 12ms/step - loss: 0.0046 - mse: 0.0046 - mae: 0.0440 - val_loss: 0.0038 - val_mse: 0.0038 - val_mae: 0.0363\n",
      "Epoch 62/200\n",
      "42/42 [==============================] - 0s 1ms/step loss: 0.0044 - mse: 0.0044 - mae: 0.04\n",
      "epoch  61 - r2 score: 0.8298273558048942\n",
      "167/167 [==============================] - 0s 2ms/step - loss: 0.0046 - mse: 0.0046 - mae: 0.0444 - val_loss: 0.0040 - val_mse: 0.0040 - val_mae: 0.0428\n",
      "Epoch 63/200\n",
      "42/42 [==============================] - 0s 987us/steposs: 0.0045 - mse: 0.0045 - mae: 0.04\n",
      "epoch  62 - r2 score: 0.8281555376650501\n",
      "167/167 [==============================] - 0s 2ms/step - loss: 0.0046 - mse: 0.0046 - mae: 0.0445 - val_loss: 0.0040 - val_mse: 0.0040 - val_mae: 0.0369\n",
      "Epoch 64/200\n",
      "42/42 [==============================] - 0s 734us/steposs: 0.0046 - mse: 0.0046 - mae: 0.04\n",
      "epoch  63 - r2 score: 0.8338183538113142\n",
      "167/167 [==============================] - 0s 2ms/step - loss: 0.0047 - mse: 0.0047 - mae: 0.0448 - val_loss: 0.0039 - val_mse: 0.0039 - val_mae: 0.0389\n",
      "Epoch 65/200\n",
      "42/42 [==============================] - 0s 1ms/step loss: 0.0044 - mse: 0.0044 - mae: 0.04\n",
      "epoch  64 - r2 score: 0.8334590238907374\n",
      "167/167 [==============================] - 0s 2ms/step - loss: 0.0045 - mse: 0.0045 - mae: 0.0441 - val_loss: 0.0039 - val_mse: 0.0039 - val_mae: 0.0360\n",
      "Epoch 66/200\n",
      "42/42 [==============================] - 0s 973us/steposs: 0.0045 - mse: 0.0045 - mae: 0.04\n",
      "epoch  65 - r2 score: 0.8343903951112677\n",
      "167/167 [==============================] - 0s 2ms/step - loss: 0.0046 - mse: 0.0046 - mae: 0.0446 - val_loss: 0.0039 - val_mse: 0.0039 - val_mae: 0.0399\n",
      "Epoch 67/200\n",
      "42/42 [==============================] - 0s 833us/steposs: 0.0044 - mse: 0.0044 - mae: 0.04\n",
      "epoch  66 - r2 score: 0.8259856273361851\n",
      "167/167 [==============================] - 0s 2ms/step - loss: 0.0044 - mse: 0.0044 - mae: 0.0435 - val_loss: 0.0041 - val_mse: 0.0041 - val_mae: 0.0409\n",
      "Epoch 68/200\n",
      "42/42 [==============================] - 0s 970us/steposs: 0.0044 - mse: 0.0044 - mae: 0.04\n",
      "epoch  67 - r2 score: 0.8362906894289074\n",
      "167/167 [==============================] - 0s 2ms/step - loss: 0.0045 - mse: 0.0045 - mae: 0.0437 - val_loss: 0.0038 - val_mse: 0.0038 - val_mae: 0.0380\n",
      "Epoch 69/200\n",
      "130/167 [======================>.......] - ETA: 0s - loss: 0.0044 - mse: 0.0044 - mae: 0.0433"
     ]
    },
    {
     "name": "stderr",
     "output_type": "stream",
     "text": [
      "WARNING:absl:Found untraced functions such as _update_step_xla while saving (showing 1 of 1). These functions will not be directly callable after loading.\n"
     ]
    },
    {
     "name": "stdout",
     "output_type": "stream",
     "text": [
      "INFO:tensorflow:Assets written to: models\\model-069.model\\assets\n"
     ]
    },
    {
     "name": "stderr",
     "output_type": "stream",
     "text": [
      "INFO:tensorflow:Assets written to: models\\model-069.model\\assets\n"
     ]
    },
    {
     "name": "stdout",
     "output_type": "stream",
     "text": [
      "42/42 [==============================] - 0s 853us/step\n",
      "epoch  68 - r2 score: 0.8385616037894976\n",
      "167/167 [==============================] - 2s 12ms/step - loss: 0.0044 - mse: 0.0044 - mae: 0.0433 - val_loss: 0.0038 - val_mse: 0.0038 - val_mae: 0.0358\n",
      "Epoch 70/200\n",
      "42/42 [==============================] - 0s 933us/steposs: 0.0043 - mse: 0.0043 - mae: 0.04\n",
      "epoch  69 - r2 score: 0.8322205255889589\n",
      "167/167 [==============================] - 0s 2ms/step - loss: 0.0044 - mse: 0.0044 - mae: 0.0429 - val_loss: 0.0039 - val_mse: 0.0039 - val_mae: 0.0363\n",
      "Epoch 71/200\n",
      "42/42 [==============================] - 0s 750us/steposs: 0.0045 - mse: 0.0045 - mae: 0.04\n",
      "epoch  70 - r2 score: 0.8335324555660324\n",
      "167/167 [==============================] - 0s 2ms/step - loss: 0.0045 - mse: 0.0045 - mae: 0.0437 - val_loss: 0.0039 - val_mse: 0.0039 - val_mae: 0.0358\n",
      "Epoch 72/200\n",
      "132/167 [======================>.......] - ETA: 0s - loss: 0.0046 - mse: 0.0046 - mae: 0.0438"
     ]
    },
    {
     "name": "stderr",
     "output_type": "stream",
     "text": [
      "WARNING:absl:Found untraced functions such as _update_step_xla while saving (showing 1 of 1). These functions will not be directly callable after loading.\n"
     ]
    },
    {
     "name": "stdout",
     "output_type": "stream",
     "text": [
      "INFO:tensorflow:Assets written to: models\\model-072.model\\assets\n"
     ]
    },
    {
     "name": "stderr",
     "output_type": "stream",
     "text": [
      "INFO:tensorflow:Assets written to: models\\model-072.model\\assets\n"
     ]
    },
    {
     "name": "stdout",
     "output_type": "stream",
     "text": [
      "42/42 [==============================] - 0s 1ms/step\n",
      "epoch  71 - r2 score: 0.8403503387408657\n",
      "167/167 [==============================] - 2s 11ms/step - loss: 0.0046 - mse: 0.0046 - mae: 0.0441 - val_loss: 0.0037 - val_mse: 0.0037 - val_mae: 0.0381\n",
      "Epoch 73/200\n",
      "42/42 [==============================] - 0s 939us/steposs: 0.0046 - mse: 0.0046 - mae: 0.04\n",
      "epoch  72 - r2 score: 0.8327500007347592\n",
      "167/167 [==============================] - 0s 2ms/step - loss: 0.0046 - mse: 0.0046 - mae: 0.0448 - val_loss: 0.0039 - val_mse: 0.0039 - val_mae: 0.0379\n",
      "Epoch 74/200\n",
      "42/42 [==============================] - 0s 956us/steposs: 0.0043 - mse: 0.0043 - mae: 0.04\n",
      "epoch  73 - r2 score: 0.8401862724891407\n",
      "167/167 [==============================] - 0s 2ms/step - loss: 0.0045 - mse: 0.0045 - mae: 0.0433 - val_loss: 0.0037 - val_mse: 0.0037 - val_mae: 0.0364\n",
      "Epoch 75/200\n",
      "42/42 [==============================] - 0s 1ms/step loss: 0.0044 - mse: 0.0044 - mae: 0.04\n",
      "epoch  74 - r2 score: 0.8393870772536055\n",
      "167/167 [==============================] - 0s 2ms/step - loss: 0.0045 - mse: 0.0045 - mae: 0.0433 - val_loss: 0.0038 - val_mse: 0.0038 - val_mae: 0.0387\n",
      "Epoch 76/200\n",
      "42/42 [==============================] - 0s 914us/steposs: 0.0044 - mse: 0.0044 - mae: 0.04\n",
      "epoch  75 - r2 score: 0.8342453267031432\n",
      "167/167 [==============================] - 0s 2ms/step - loss: 0.0045 - mse: 0.0045 - mae: 0.0437 - val_loss: 0.0039 - val_mse: 0.0039 - val_mae: 0.0365\n",
      "Epoch 77/200\n",
      "42/42 [==============================] - 0s 1ms/step loss: 0.0043 - mse: 0.0043 - mae: 0.04\n",
      "epoch  76 - r2 score: 0.8355810617131199\n",
      "167/167 [==============================] - 0s 2ms/step - loss: 0.0044 - mse: 0.0044 - mae: 0.0430 - val_loss: 0.0039 - val_mse: 0.0039 - val_mae: 0.0396\n",
      "Epoch 78/200\n",
      "42/42 [==============================] - 0s 1ms/step loss: 0.0044 - mse: 0.0044 - mae: 0.04\n",
      "epoch  77 - r2 score: 0.8264475511885708\n",
      "167/167 [==============================] - 0s 2ms/step - loss: 0.0044 - mse: 0.0044 - mae: 0.0432 - val_loss: 0.0041 - val_mse: 0.0041 - val_mae: 0.0455\n",
      "Epoch 79/200\n",
      "42/42 [==============================] - 0s 831us/steposs: 0.0043 - mse: 0.0043 - mae: 0.04\n",
      "epoch  78 - r2 score: 0.8340106870152504\n",
      "167/167 [==============================] - 0s 2ms/step - loss: 0.0044 - mse: 0.0044 - mae: 0.0435 - val_loss: 0.0039 - val_mse: 0.0039 - val_mae: 0.0361\n",
      "Epoch 80/200\n",
      "134/167 [=======================>......] - ETA: 0s - loss: 0.0043 - mse: 0.0043 - mae: 0.0424"
     ]
    },
    {
     "name": "stderr",
     "output_type": "stream",
     "text": [
      "WARNING:absl:Found untraced functions such as _update_step_xla while saving (showing 1 of 1). These functions will not be directly callable after loading.\n"
     ]
    },
    {
     "name": "stdout",
     "output_type": "stream",
     "text": [
      "INFO:tensorflow:Assets written to: models\\model-080.model\\assets\n"
     ]
    },
    {
     "name": "stderr",
     "output_type": "stream",
     "text": [
      "INFO:tensorflow:Assets written to: models\\model-080.model\\assets\n"
     ]
    },
    {
     "name": "stdout",
     "output_type": "stream",
     "text": [
      "42/42 [==============================] - 0s 880us/step\n",
      "epoch  79 - r2 score: 0.8419320649608901\n",
      "167/167 [==============================] - 2s 11ms/step - loss: 0.0045 - mse: 0.0045 - mae: 0.0431 - val_loss: 0.0037 - val_mse: 0.0037 - val_mae: 0.0366\n",
      "Epoch 81/200\n",
      "42/42 [==============================] - 0s 1ms/step loss: 0.0045 - mse: 0.0045 - mae: 0.04\n",
      "epoch  80 - r2 score: 0.8266545717488996\n",
      "167/167 [==============================] - 0s 2ms/step - loss: 0.0044 - mse: 0.0044 - mae: 0.0425 - val_loss: 0.0041 - val_mse: 0.0041 - val_mae: 0.0387\n",
      "Epoch 82/200\n",
      "42/42 [==============================] - 0s 1ms/step loss: 0.0045 - mse: 0.0045 - mae: 0.04\n",
      "epoch  81 - r2 score: 0.8410389369267612\n",
      "167/167 [==============================] - 0s 2ms/step - loss: 0.0045 - mse: 0.0045 - mae: 0.0434 - val_loss: 0.0037 - val_mse: 0.0037 - val_mae: 0.0364\n",
      "Epoch 83/200\n",
      "42/42 [==============================] - 0s 1ms/step loss: 0.0042 - mse: 0.0042 - mae: 0.04\n",
      "epoch  82 - r2 score: 0.8373488250139454\n",
      "167/167 [==============================] - 0s 2ms/step - loss: 0.0043 - mse: 0.0043 - mae: 0.0427 - val_loss: 0.0038 - val_mse: 0.0038 - val_mae: 0.0379\n",
      "Epoch 84/200\n",
      "42/42 [==============================] - 0s 1ms/step loss: 0.0043 - mse: 0.0043 - mae: 0.04\n",
      "epoch  83 - r2 score: 0.8415065615891741\n",
      "167/167 [==============================] - 0s 2ms/step - loss: 0.0043 - mse: 0.0043 - mae: 0.0425 - val_loss: 0.0037 - val_mse: 0.0037 - val_mae: 0.0373\n",
      "Epoch 85/200\n",
      "42/42 [==============================] - 0s 952us/steposs: 0.0045 - mse: 0.0045 - mae: 0.04\n",
      "epoch  84 - r2 score: 0.8324412688212515\n",
      "167/167 [==============================] - 0s 2ms/step - loss: 0.0044 - mse: 0.0044 - mae: 0.0430 - val_loss: 0.0039 - val_mse: 0.0039 - val_mae: 0.0406\n",
      "Epoch 86/200\n",
      "42/42 [==============================] - 0s 1ms/step loss: 0.0042 - mse: 0.0042 - mae: 0.04\n",
      "epoch  85 - r2 score: 0.8360702589065291\n",
      "167/167 [==============================] - 0s 2ms/step - loss: 0.0044 - mse: 0.0044 - mae: 0.0430 - val_loss: 0.0038 - val_mse: 0.0038 - val_mae: 0.0367\n",
      "Epoch 87/200\n",
      "42/42 [==============================] - 0s 973us/steposs: 0.0045 - mse: 0.0045 - mae: 0.04\n",
      "epoch  86 - r2 score: 0.8380983110838275\n",
      "167/167 [==============================] - 0s 2ms/step - loss: 0.0044 - mse: 0.0044 - mae: 0.0428 - val_loss: 0.0038 - val_mse: 0.0038 - val_mae: 0.0383\n",
      "Epoch 88/200\n",
      "42/42 [==============================] - 0s 1ms/step loss: 0.0044 - mse: 0.0044 - mae: 0.04\n",
      "epoch  87 - r2 score: 0.8348389594190986\n",
      "167/167 [==============================] - 0s 2ms/step - loss: 0.0044 - mse: 0.0044 - mae: 0.0427 - val_loss: 0.0039 - val_mse: 0.0039 - val_mae: 0.0395\n",
      "Epoch 89/200\n",
      "131/167 [======================>.......] - ETA: 0s - loss: 0.0043 - mse: 0.0043 - mae: 0.0428"
     ]
    },
    {
     "name": "stderr",
     "output_type": "stream",
     "text": [
      "WARNING:absl:Found untraced functions such as _update_step_xla while saving (showing 1 of 1). These functions will not be directly callable after loading.\n"
     ]
    },
    {
     "name": "stdout",
     "output_type": "stream",
     "text": [
      "INFO:tensorflow:Assets written to: models\\model-089.model\\assets\n"
     ]
    },
    {
     "name": "stderr",
     "output_type": "stream",
     "text": [
      "INFO:tensorflow:Assets written to: models\\model-089.model\\assets\n"
     ]
    },
    {
     "name": "stdout",
     "output_type": "stream",
     "text": [
      "42/42 [==============================] - 0s 1ms/step\n",
      "epoch  88 - r2 score: 0.842800484968467\n",
      "167/167 [==============================] - 2s 12ms/step - loss: 0.0043 - mse: 0.0043 - mae: 0.0428 - val_loss: 0.0037 - val_mse: 0.0037 - val_mae: 0.0362\n",
      "Epoch 90/200\n",
      "42/42 [==============================] - 0s 1ms/step loss: 0.0043 - mse: 0.0043 - mae: 0.\n",
      "epoch  89 - r2 score: 0.8377488893259518\n",
      "167/167 [==============================] - 0s 2ms/step - loss: 0.0044 - mse: 0.0044 - mae: 0.0429 - val_loss: 0.0038 - val_mse: 0.0038 - val_mae: 0.0407\n",
      "Epoch 91/200\n",
      "125/167 [=====================>........] - ETA: 0s - loss: 0.0042 - mse: 0.0042 - mae: 0.0421"
     ]
    },
    {
     "name": "stderr",
     "output_type": "stream",
     "text": [
      "WARNING:absl:Found untraced functions such as _update_step_xla while saving (showing 1 of 1). These functions will not be directly callable after loading.\n"
     ]
    },
    {
     "name": "stdout",
     "output_type": "stream",
     "text": [
      "INFO:tensorflow:Assets written to: models\\model-091.model\\assets\n"
     ]
    },
    {
     "name": "stderr",
     "output_type": "stream",
     "text": [
      "INFO:tensorflow:Assets written to: models\\model-091.model\\assets\n"
     ]
    },
    {
     "name": "stdout",
     "output_type": "stream",
     "text": [
      "42/42 [==============================] - 0s 1ms/step\n",
      "epoch  90 - r2 score: 0.8441408935443172\n",
      "167/167 [==============================] - 2s 12ms/step - loss: 0.0043 - mse: 0.0043 - mae: 0.0421 - val_loss: 0.0037 - val_mse: 0.0037 - val_mae: 0.0363\n",
      "Epoch 92/200\n",
      "42/42 [==============================] - 0s 875us/steposs: 0.0042 - mse: 0.0042 - mae: 0.04\n",
      "epoch  91 - r2 score: 0.8388112929422654\n",
      "167/167 [==============================] - 0s 2ms/step - loss: 0.0043 - mse: 0.0043 - mae: 0.0421 - val_loss: 0.0038 - val_mse: 0.0038 - val_mae: 0.0355\n",
      "Epoch 93/200\n",
      "42/42 [==============================] - 0s 987us/steposs: 0.0042 - mse: 0.0042 - mae: 0.04\n",
      "epoch  92 - r2 score: 0.8359279622417659\n",
      "167/167 [==============================] - 0s 2ms/step - loss: 0.0042 - mse: 0.0042 - mae: 0.0421 - val_loss: 0.0038 - val_mse: 0.0038 - val_mae: 0.0372\n",
      "Epoch 94/200\n",
      "42/42 [==============================] - 0s 1ms/step loss: 0.0043 - mse: 0.0043 - mae: 0.04\n",
      "epoch  93 - r2 score: 0.8426819902094622\n",
      "167/167 [==============================] - 0s 2ms/step - loss: 0.0043 - mse: 0.0043 - mae: 0.0424 - val_loss: 0.0037 - val_mse: 0.0037 - val_mae: 0.0355\n",
      "Epoch 95/200\n",
      "42/42 [==============================] - 0s 937us/steposs: 0.0041 - mse: 0.0041 - mae: 0.04\n",
      "epoch  94 - r2 score: 0.8329595904376819\n",
      "167/167 [==============================] - 0s 2ms/step - loss: 0.0043 - mse: 0.0043 - mae: 0.0423 - val_loss: 0.0039 - val_mse: 0.0039 - val_mae: 0.0393\n",
      "Epoch 96/200\n",
      "42/42 [==============================] - 0s 928us/steposs: 0.0041 - mse: 0.0041 - mae: 0.04\n",
      "epoch  95 - r2 score: 0.8416772333207114\n",
      "167/167 [==============================] - 0s 2ms/step - loss: 0.0043 - mse: 0.0043 - mae: 0.0421 - val_loss: 0.0037 - val_mse: 0.0037 - val_mae: 0.0355\n",
      "Epoch 97/200\n",
      "42/42 [==============================] - 0s 1ms/step loss: 0.0043 - mse: 0.0043 - mae: 0.04\n",
      "epoch  96 - r2 score: 0.8416070126266357\n",
      "167/167 [==============================] - 0s 2ms/step - loss: 0.0041 - mse: 0.0041 - mae: 0.0413 - val_loss: 0.0037 - val_mse: 0.0037 - val_mae: 0.0380\n",
      "Epoch 98/200\n",
      "42/42 [==============================] - 0s 549us/steposs: 0.0043 - mse: 0.0043 - mae: 0.04\n",
      "epoch  97 - r2 score: 0.8388303273262558\n",
      "167/167 [==============================] - 0s 2ms/step - loss: 0.0043 - mse: 0.0043 - mae: 0.0424 - val_loss: 0.0038 - val_mse: 0.0038 - val_mae: 0.0380\n",
      "Epoch 99/200\n",
      "42/42 [==============================] - 0s 845us/steposs: 0.0044 - mse: 0.0044 - mae: 0.04\n",
      "epoch  98 - r2 score: 0.8384623959150157\n",
      "167/167 [==============================] - 0s 2ms/step - loss: 0.0042 - mse: 0.0042 - mae: 0.0421 - val_loss: 0.0038 - val_mse: 0.0038 - val_mae: 0.0370\n",
      "Epoch 100/200\n",
      "42/42 [==============================] - 0s 1ms/step loss: 0.0043 - mse: 0.0043 - mae: 0.04\n",
      "epoch  99 - r2 score: 0.8410904131865247\n",
      "167/167 [==============================] - 0s 2ms/step - loss: 0.0042 - mse: 0.0042 - mae: 0.0420 - val_loss: 0.0037 - val_mse: 0.0037 - val_mae: 0.0358\n",
      "Epoch 101/200\n",
      "42/42 [==============================] - 0s 976us/steposs: 0.0044 - mse: 0.0044 - mae: 0.04\n",
      "epoch  100 - r2 score: 0.8365563034039155\n",
      "167/167 [==============================] - 0s 2ms/step - loss: 0.0043 - mse: 0.0043 - mae: 0.0418 - val_loss: 0.0038 - val_mse: 0.0038 - val_mae: 0.0392\n",
      "Epoch 102/200\n",
      "42/42 [==============================] - 0s 1ms/step loss: 0.0043 - mse: 0.0043 - mae: 0.04\n",
      "epoch  101 - r2 score: 0.8406820362482463\n",
      "167/167 [==============================] - 0s 2ms/step - loss: 0.0043 - mse: 0.0043 - mae: 0.0423 - val_loss: 0.0037 - val_mse: 0.0037 - val_mae: 0.0382\n",
      "Epoch 103/200\n",
      "133/167 [======================>.......] - ETA: 0s - loss: 0.0041 - mse: 0.0041 - mae: 0.0414"
     ]
    },
    {
     "name": "stderr",
     "output_type": "stream",
     "text": [
      "WARNING:absl:Found untraced functions such as _update_step_xla while saving (showing 1 of 1). These functions will not be directly callable after loading.\n"
     ]
    },
    {
     "name": "stdout",
     "output_type": "stream",
     "text": [
      "INFO:tensorflow:Assets written to: models\\model-103.model\\assets\n"
     ]
    },
    {
     "name": "stderr",
     "output_type": "stream",
     "text": [
      "INFO:tensorflow:Assets written to: models\\model-103.model\\assets\n"
     ]
    },
    {
     "name": "stdout",
     "output_type": "stream",
     "text": [
      "42/42 [==============================] - 0s 1ms/step\n",
      "epoch  102 - r2 score: 0.8452147984073647\n",
      "167/167 [==============================] - 2s 13ms/step - loss: 0.0042 - mse: 0.0042 - mae: 0.0416 - val_loss: 0.0036 - val_mse: 0.0036 - val_mae: 0.0362\n",
      "Epoch 104/200\n",
      "42/42 [==============================] - 0s 898us/steposs: 0.0041 - mse: 0.0041 - mae: 0.04\n",
      "epoch  103 - r2 score: 0.8414047179519725\n",
      "167/167 [==============================] - 0s 2ms/step - loss: 0.0042 - mse: 0.0042 - mae: 0.0418 - val_loss: 0.0037 - val_mse: 0.0037 - val_mae: 0.0375\n",
      "Epoch 105/200\n",
      "42/42 [==============================] - 0s 961us/steposs: 0.0042 - mse: 0.0042 - mae: 0.04\n",
      "epoch  104 - r2 score: 0.844703997110869\n",
      "167/167 [==============================] - 0s 2ms/step - loss: 0.0043 - mse: 0.0043 - mae: 0.0426 - val_loss: 0.0036 - val_mse: 0.0036 - val_mae: 0.0357\n",
      "Epoch 106/200\n",
      "42/42 [==============================] - 0s 972us/steposs: 0.0043 - mse: 0.0043 - mae: 0.04\n",
      "epoch  105 - r2 score: 0.8423155246150429\n",
      "167/167 [==============================] - 0s 2ms/step - loss: 0.0043 - mse: 0.0043 - mae: 0.0423 - val_loss: 0.0037 - val_mse: 0.0037 - val_mae: 0.0380\n",
      "Epoch 107/200\n",
      "132/167 [======================>.......] - ETA: 0s - loss: 0.0041 - mse: 0.0041 - mae: 0.0417"
     ]
    },
    {
     "name": "stderr",
     "output_type": "stream",
     "text": [
      "WARNING:absl:Found untraced functions such as _update_step_xla while saving (showing 1 of 1). These functions will not be directly callable after loading.\n"
     ]
    },
    {
     "name": "stdout",
     "output_type": "stream",
     "text": [
      "INFO:tensorflow:Assets written to: models\\model-107.model\\assets\n"
     ]
    },
    {
     "name": "stderr",
     "output_type": "stream",
     "text": [
      "INFO:tensorflow:Assets written to: models\\model-107.model\\assets\n"
     ]
    },
    {
     "name": "stdout",
     "output_type": "stream",
     "text": [
      "42/42 [==============================] - 0s 906us/step\n",
      "epoch  106 - r2 score: 0.8455783518084857\n",
      "167/167 [==============================] - 2s 11ms/step - loss: 0.0041 - mse: 0.0041 - mae: 0.0415 - val_loss: 0.0036 - val_mse: 0.0036 - val_mae: 0.0353\n",
      "Epoch 108/200\n",
      "42/42 [==============================] - 0s 1ms/step loss: 0.0042 - mse: 0.0042 - mae: 0.04\n",
      "epoch  107 - r2 score: 0.8425687136753252\n",
      "167/167 [==============================] - 0s 2ms/step - loss: 0.0042 - mse: 0.0042 - mae: 0.0415 - val_loss: 0.0037 - val_mse: 0.0037 - val_mae: 0.0378\n",
      "Epoch 109/200\n",
      "42/42 [==============================] - 0s 1ms/step loss: 0.0043 - mse: 0.0043 - mae: 0.04\n",
      "epoch  108 - r2 score: 0.8377822455580031\n",
      "167/167 [==============================] - 0s 2ms/step - loss: 0.0043 - mse: 0.0043 - mae: 0.0419 - val_loss: 0.0038 - val_mse: 0.0038 - val_mae: 0.0357\n",
      "Epoch 110/200\n",
      "42/42 [==============================] - 0s 1ms/step loss: 0.0043 - mse: 0.0043 - mae: 0.04\n",
      "epoch  109 - r2 score: 0.841776287620762\n",
      "167/167 [==============================] - 0s 2ms/step - loss: 0.0042 - mse: 0.0042 - mae: 0.0415 - val_loss: 0.0037 - val_mse: 0.0037 - val_mae: 0.0380\n",
      "Epoch 111/200\n",
      "42/42 [==============================] - 0s 880us/steposs: 0.0042 - mse: 0.0042 - mae: 0.04\n",
      "epoch  110 - r2 score: 0.8369550195779925\n",
      "167/167 [==============================] - 0s 2ms/step - loss: 0.0042 - mse: 0.0042 - mae: 0.0415 - val_loss: 0.0038 - val_mse: 0.0038 - val_mae: 0.0381\n",
      "Epoch 112/200\n",
      "42/42 [==============================] - 0s 839us/steposs: 0.0042 - mse: 0.0042 - mae: 0.04\n",
      "epoch  111 - r2 score: 0.8401416369920096\n",
      "167/167 [==============================] - 0s 2ms/step - loss: 0.0042 - mse: 0.0042 - mae: 0.0419 - val_loss: 0.0037 - val_mse: 0.0037 - val_mae: 0.0352\n",
      "Epoch 113/200\n",
      "42/42 [==============================] - 0s 1ms/step loss: 0.0041 - mse: 0.0041 - mae: 0.04\n",
      "epoch  112 - r2 score: 0.844768871239463\n",
      "167/167 [==============================] - 0s 2ms/step - loss: 0.0040 - mse: 0.0040 - mae: 0.0412 - val_loss: 0.0036 - val_mse: 0.0036 - val_mae: 0.0357\n",
      "Epoch 114/200\n",
      "42/42 [==============================] - 0s 873us/steposs: 0.0042 - mse: 0.0042 - mae: 0.04\n",
      "epoch  113 - r2 score: 0.8346073535223159\n",
      "167/167 [==============================] - 0s 2ms/step - loss: 0.0043 - mse: 0.0043 - mae: 0.0420 - val_loss: 0.0039 - val_mse: 0.0039 - val_mae: 0.0383\n",
      "Epoch 115/200\n",
      "131/167 [======================>.......] - ETA: 0s - loss: 0.0042 - mse: 0.0042 - mae: 0.0418"
     ]
    },
    {
     "name": "stderr",
     "output_type": "stream",
     "text": [
      "WARNING:absl:Found untraced functions such as _update_step_xla while saving (showing 1 of 1). These functions will not be directly callable after loading.\n"
     ]
    },
    {
     "name": "stdout",
     "output_type": "stream",
     "text": [
      "INFO:tensorflow:Assets written to: models\\model-115.model\\assets\n"
     ]
    },
    {
     "name": "stderr",
     "output_type": "stream",
     "text": [
      "INFO:tensorflow:Assets written to: models\\model-115.model\\assets\n"
     ]
    },
    {
     "name": "stdout",
     "output_type": "stream",
     "text": [
      "42/42 [==============================] - 0s 1ms/step\n",
      "epoch  114 - r2 score: 0.8464589254823562\n",
      "167/167 [==============================] - 2s 13ms/step - loss: 0.0042 - mse: 0.0042 - mae: 0.0415 - val_loss: 0.0036 - val_mse: 0.0036 - val_mae: 0.0354\n",
      "Epoch 116/200\n",
      "42/42 [==============================] - 0s 1ms/step loss: 0.0042 - mse: 0.0042 - mae: 0.04\n",
      "epoch  115 - r2 score: 0.8412056338245176\n",
      "167/167 [==============================] - 0s 2ms/step - loss: 0.0042 - mse: 0.0042 - mae: 0.0415 - val_loss: 0.0037 - val_mse: 0.0037 - val_mae: 0.0391\n",
      "Epoch 117/200\n",
      "42/42 [==============================] - 0s 946us/steposs: 0.0042 - mse: 0.0042 - mae: 0.04\n",
      "epoch  116 - r2 score: 0.8449955498892564\n",
      "167/167 [==============================] - 0s 2ms/step - loss: 0.0041 - mse: 0.0041 - mae: 0.0411 - val_loss: 0.0036 - val_mse: 0.0036 - val_mae: 0.0355\n",
      "Epoch 118/200\n",
      "42/42 [==============================] - 0s 1ms/step loss: 0.0041 - mse: 0.0041 - mae: 0.04\n",
      "epoch  117 - r2 score: 0.8426507240932876\n",
      "167/167 [==============================] - 0s 2ms/step - loss: 0.0042 - mse: 0.0042 - mae: 0.0415 - val_loss: 0.0037 - val_mse: 0.0037 - val_mae: 0.0358\n",
      "Epoch 119/200\n",
      "42/42 [==============================] - 0s 893us/steposs: 0.0041 - mse: 0.0041 - mae: 0.04\n",
      "epoch  118 - r2 score: 0.8451329350906329\n",
      "167/167 [==============================] - 0s 2ms/step - loss: 0.0042 - mse: 0.0042 - mae: 0.0413 - val_loss: 0.0036 - val_mse: 0.0036 - val_mae: 0.0372\n",
      "Epoch 120/200\n",
      "42/42 [==============================] - 0s 1ms/step loss: 0.0038 - mse: 0.0038 - mae: 0.04\n",
      "epoch  119 - r2 score: 0.8451951258110321\n",
      "167/167 [==============================] - 0s 2ms/step - loss: 0.0040 - mse: 0.0040 - mae: 0.0410 - val_loss: 0.0036 - val_mse: 0.0036 - val_mae: 0.0363\n",
      "Epoch 121/200\n",
      "42/42 [==============================] - 0s 629us/steposs: 0.0039 - mse: 0.0039 - mae: 0.04\n",
      "epoch  120 - r2 score: 0.8418832056102648\n",
      "167/167 [==============================] - 0s 2ms/step - loss: 0.0041 - mse: 0.0041 - mae: 0.0410 - val_loss: 0.0037 - val_mse: 0.0037 - val_mae: 0.0388\n",
      "Epoch 122/200\n",
      "42/42 [==============================] - 0s 1ms/step loss: 0.0039 - mse: 0.0039 - mae: 0.04\n",
      "epoch  121 - r2 score: 0.8417478747107435\n",
      "167/167 [==============================] - 0s 2ms/step - loss: 0.0040 - mse: 0.0040 - mae: 0.0410 - val_loss: 0.0037 - val_mse: 0.0037 - val_mae: 0.0365\n",
      "Epoch 123/200\n",
      "42/42 [==============================] - 0s 894us/steposs: 0.0040 - mse: 0.0040 - mae: 0.04\n",
      "epoch  122 - r2 score: 0.838607623531955\n",
      "167/167 [==============================] - 0s 2ms/step - loss: 0.0041 - mse: 0.0041 - mae: 0.0412 - val_loss: 0.0038 - val_mse: 0.0038 - val_mae: 0.0352\n",
      "Epoch 124/200\n",
      "131/167 [======================>.......] - ETA: 0s - loss: 0.0041 - mse: 0.0041 - mae: 0.0415"
     ]
    },
    {
     "name": "stderr",
     "output_type": "stream",
     "text": [
      "WARNING:absl:Found untraced functions such as _update_step_xla while saving (showing 1 of 1). These functions will not be directly callable after loading.\n"
     ]
    },
    {
     "name": "stdout",
     "output_type": "stream",
     "text": [
      "INFO:tensorflow:Assets written to: models\\model-124.model\\assets\n"
     ]
    },
    {
     "name": "stderr",
     "output_type": "stream",
     "text": [
      "INFO:tensorflow:Assets written to: models\\model-124.model\\assets\n"
     ]
    },
    {
     "name": "stdout",
     "output_type": "stream",
     "text": [
      "42/42 [==============================] - 0s 1ms/step\n",
      "epoch  123 - r2 score: 0.8466091461504583\n",
      "167/167 [==============================] - 2s 11ms/step - loss: 0.0041 - mse: 0.0041 - mae: 0.0416 - val_loss: 0.0036 - val_mse: 0.0036 - val_mae: 0.0349\n",
      "Epoch 125/200\n",
      "42/42 [==============================] - 0s 988us/steposs: 0.0041 - mse: 0.0041 - mae: 0.04\n",
      "epoch  124 - r2 score: 0.8459339333830994\n",
      "167/167 [==============================] - 0s 2ms/step - loss: 0.0041 - mse: 0.0041 - mae: 0.0408 - val_loss: 0.0036 - val_mse: 0.0036 - val_mae: 0.0357\n",
      "Epoch 126/200\n",
      "42/42 [==============================] - 0s 874us/steposs: 0.0041 - mse: 0.0041 - mae: 0.04\n",
      "epoch  125 - r2 score: 0.8444413863669193\n",
      "167/167 [==============================] - 0s 2ms/step - loss: 0.0040 - mse: 0.0040 - mae: 0.0410 - val_loss: 0.0036 - val_mse: 0.0036 - val_mae: 0.0382\n",
      "Epoch 127/200\n",
      "42/42 [==============================] - 0s 883us/steposs: 0.0043 - mse: 0.0043 - mae: 0.04\n",
      "epoch  126 - r2 score: 0.8427769074942583\n",
      "167/167 [==============================] - 0s 2ms/step - loss: 0.0042 - mse: 0.0042 - mae: 0.0410 - val_loss: 0.0037 - val_mse: 0.0037 - val_mae: 0.0377\n",
      "Epoch 128/200\n",
      "42/42 [==============================] - 0s 982us/steposs: 0.0041 - mse: 0.0041 - mae: 0.04\n",
      "epoch  127 - r2 score: 0.8463345227219099\n",
      "167/167 [==============================] - 0s 2ms/step - loss: 0.0041 - mse: 0.0041 - mae: 0.0412 - val_loss: 0.0036 - val_mse: 0.0036 - val_mae: 0.0364\n",
      "Epoch 129/200\n",
      "42/42 [==============================] - 0s 1ms/step loss: 0.0041 - mse: 0.0041 - mae: 0.04\n",
      "epoch  128 - r2 score: 0.8431197312337008\n",
      "167/167 [==============================] - 0s 2ms/step - loss: 0.0041 - mse: 0.0041 - mae: 0.0413 - val_loss: 0.0037 - val_mse: 0.0037 - val_mae: 0.0357\n",
      "Epoch 130/200\n",
      "42/42 [==============================] - 0s 949us/steposs: 0.0042 - mse: 0.0042 - mae: 0.04\n",
      "epoch  129 - r2 score: 0.8423551672294578\n",
      "167/167 [==============================] - 0s 2ms/step - loss: 0.0041 - mse: 0.0041 - mae: 0.0416 - val_loss: 0.0037 - val_mse: 0.0037 - val_mae: 0.0370\n",
      "Epoch 131/200\n",
      "42/42 [==============================] - 0s 960us/steposs: 0.0040 - mse: 0.0040 - mae: 0.04\n",
      "epoch  130 - r2 score: 0.8442484420663621\n",
      "167/167 [==============================] - 0s 2ms/step - loss: 0.0041 - mse: 0.0041 - mae: 0.0417 - val_loss: 0.0036 - val_mse: 0.0036 - val_mae: 0.0378\n",
      "Epoch 132/200\n",
      "42/42 [==============================] - 0s 1ms/step loss: 0.0041 - mse: 0.0041 - mae: 0.04\n",
      "epoch  131 - r2 score: 0.845747722195074\n",
      "167/167 [==============================] - 0s 2ms/step - loss: 0.0040 - mse: 0.0040 - mae: 0.0407 - val_loss: 0.0036 - val_mse: 0.0036 - val_mae: 0.0373\n",
      "Epoch 133/200\n",
      "42/42 [==============================] - 0s 1ms/step loss: 0.0042 - mse: 0.0042 - mae: 0.04\n",
      "epoch  132 - r2 score: 0.8460100859585401\n",
      "167/167 [==============================] - 0s 2ms/step - loss: 0.0042 - mse: 0.0042 - mae: 0.0416 - val_loss: 0.0036 - val_mse: 0.0036 - val_mae: 0.0374\n",
      "Epoch 134/200\n",
      "42/42 [==============================] - 0s 1ms/step loss: 0.0040 - mse: 0.0040 - mae: 0.04\n",
      "epoch  133 - r2 score: 0.845214428017173\n",
      "167/167 [==============================] - 0s 2ms/step - loss: 0.0042 - mse: 0.0042 - mae: 0.0408 - val_loss: 0.0036 - val_mse: 0.0036 - val_mae: 0.0356\n",
      "Epoch 135/200\n",
      "42/42 [==============================] - 0s 1ms/step loss: 0.0039 - mse: 0.0039 - mae: 0.\n",
      "epoch  134 - r2 score: 0.8451751216019587\n",
      "167/167 [==============================] - 0s 2ms/step - loss: 0.0041 - mse: 0.0041 - mae: 0.0413 - val_loss: 0.0036 - val_mse: 0.0036 - val_mae: 0.0350\n",
      "Epoch 136/200\n",
      "42/42 [==============================] - 0s 760us/steposs: 0.0040 - mse: 0.0040 - mae: 0.04\n",
      "epoch  135 - r2 score: 0.8462802450137461\n",
      "167/167 [==============================] - 0s 2ms/step - loss: 0.0040 - mse: 0.0040 - mae: 0.0406 - val_loss: 0.0036 - val_mse: 0.0036 - val_mae: 0.0358\n",
      "Epoch 137/200\n",
      "42/42 [==============================] - 0s 1ms/step loss: 0.0041 - mse: 0.0041 - mae: 0.04\n",
      "epoch  136 - r2 score: 0.8425442492093742\n",
      "167/167 [==============================] - 0s 2ms/step - loss: 0.0042 - mse: 0.0042 - mae: 0.0413 - val_loss: 0.0037 - val_mse: 0.0037 - val_mae: 0.0351\n",
      "Epoch 138/200\n",
      "42/42 [==============================] - 0s 1ms/step loss: 0.0039 - mse: 0.0039 - mae: 0.04\n",
      "epoch  137 - r2 score: 0.845340481066728\n",
      "167/167 [==============================] - 0s 2ms/step - loss: 0.0040 - mse: 0.0040 - mae: 0.0409 - val_loss: 0.0036 - val_mse: 0.0036 - val_mae: 0.0380\n",
      "Epoch 139/200\n",
      "42/42 [==============================] - 0s 845us/steposs: 0.0041 - mse: 0.0041 - mae: 0.04\n",
      "epoch  138 - r2 score: 0.8444663043892451\n",
      "167/167 [==============================] - 0s 2ms/step - loss: 0.0042 - mse: 0.0042 - mae: 0.0410 - val_loss: 0.0036 - val_mse: 0.0036 - val_mae: 0.0386\n",
      "Epoch 140/200\n",
      "42/42 [==============================] - 0s 1ms/step loss: 0.0041 - mse: 0.0041 - mae: 0.04\n",
      "epoch  139 - r2 score: 0.8452294350130026\n",
      "167/167 [==============================] - 0s 2ms/step - loss: 0.0042 - mse: 0.0042 - mae: 0.0416 - val_loss: 0.0036 - val_mse: 0.0036 - val_mae: 0.0373\n",
      "Epoch 141/200\n",
      "42/42 [==============================] - 0s 895us/steposs: 0.0039 - mse: 0.0039 - mae: 0.04\n",
      "epoch  140 - r2 score: 0.844812377422\n",
      "167/167 [==============================] - 0s 2ms/step - loss: 0.0041 - mse: 0.0041 - mae: 0.0407 - val_loss: 0.0036 - val_mse: 0.0036 - val_mae: 0.0372\n",
      "Epoch 142/200\n",
      "42/42 [==============================] - 0s 935us/steposs: 0.0040 - mse: 0.0040 - mae: 0.04\n",
      "epoch  141 - r2 score: 0.840588273253043\n",
      "167/167 [==============================] - 0s 2ms/step - loss: 0.0041 - mse: 0.0041 - mae: 0.0408 - val_loss: 0.0037 - val_mse: 0.0037 - val_mae: 0.0405\n",
      "Epoch 143/200\n",
      "129/167 [======================>.......] - ETA: 0s - loss: 0.0042 - mse: 0.0042 - mae: 0.0412"
     ]
    },
    {
     "name": "stderr",
     "output_type": "stream",
     "text": [
      "WARNING:absl:Found untraced functions such as _update_step_xla while saving (showing 1 of 1). These functions will not be directly callable after loading.\n"
     ]
    },
    {
     "name": "stdout",
     "output_type": "stream",
     "text": [
      "INFO:tensorflow:Assets written to: models\\model-143.model\\assets\n"
     ]
    },
    {
     "name": "stderr",
     "output_type": "stream",
     "text": [
      "INFO:tensorflow:Assets written to: models\\model-143.model\\assets\n"
     ]
    },
    {
     "name": "stdout",
     "output_type": "stream",
     "text": [
      "42/42 [==============================] - 0s 804us/step\n",
      "epoch  142 - r2 score: 0.8468573564130627\n",
      "167/167 [==============================] - 2s 12ms/step - loss: 0.0041 - mse: 0.0041 - mae: 0.0413 - val_loss: 0.0036 - val_mse: 0.0036 - val_mae: 0.0352\n",
      "Epoch 144/200\n",
      "42/42 [==============================] - 0s 1ms/step loss: 0.0039 - mse: 0.0039 - mae: 0.04\n",
      "epoch  143 - r2 score: 0.84435686471217\n",
      "167/167 [==============================] - 0s 2ms/step - loss: 0.0039 - mse: 0.0039 - mae: 0.0403 - val_loss: 0.0036 - val_mse: 0.0036 - val_mae: 0.0386\n",
      "Epoch 145/200\n",
      "42/42 [==============================] - 0s 850us/steposs: 0.0041 - mse: 0.0041 - mae: 0.04\n",
      "epoch  144 - r2 score: 0.8412102490545904\n",
      "167/167 [==============================] - 0s 2ms/step - loss: 0.0040 - mse: 0.0040 - mae: 0.0407 - val_loss: 0.0037 - val_mse: 0.0037 - val_mae: 0.0359\n",
      "Epoch 146/200\n",
      "42/42 [==============================] - 0s 757us/steposs: 0.0039 - mse: 0.0039 - mae: 0.04\n",
      "epoch  145 - r2 score: 0.8458178971905271\n",
      "167/167 [==============================] - 0s 2ms/step - loss: 0.0040 - mse: 0.0040 - mae: 0.0405 - val_loss: 0.0036 - val_mse: 0.0036 - val_mae: 0.0361\n",
      "Epoch 147/200\n",
      "161/167 [===========================>..] - ETA: 0s - loss: 0.0040 - mse: 0.0040 - mae: 0.0410"
     ]
    },
    {
     "name": "stderr",
     "output_type": "stream",
     "text": [
      "WARNING:absl:Found untraced functions such as _update_step_xla while saving (showing 1 of 1). These functions will not be directly callable after loading.\n"
     ]
    },
    {
     "name": "stdout",
     "output_type": "stream",
     "text": [
      "INFO:tensorflow:Assets written to: models\\model-147.model\\assets\n"
     ]
    },
    {
     "name": "stderr",
     "output_type": "stream",
     "text": [
      "INFO:tensorflow:Assets written to: models\\model-147.model\\assets\n"
     ]
    },
    {
     "name": "stdout",
     "output_type": "stream",
     "text": [
      "42/42 [==============================] - 0s 1ms/step\n",
      "epoch  146 - r2 score: 0.847349391925222\n",
      "167/167 [==============================] - 2s 12ms/step - loss: 0.0041 - mse: 0.0041 - mae: 0.0410 - val_loss: 0.0036 - val_mse: 0.0036 - val_mae: 0.0357\n",
      "Epoch 148/200\n",
      "42/42 [==============================] - 0s 1ms/step loss: 0.0041 - mse: 0.0041 - mae: 0.04\n",
      "epoch  147 - r2 score: 0.845405740093346\n",
      "167/167 [==============================] - 0s 2ms/step - loss: 0.0041 - mse: 0.0041 - mae: 0.0412 - val_loss: 0.0036 - val_mse: 0.0036 - val_mae: 0.0354\n",
      "Epoch 149/200\n",
      "42/42 [==============================] - 0s 1ms/step loss: 0.0041 - mse: 0.0041 - mae: 0.\n",
      "epoch  148 - r2 score: 0.8403943568579302\n",
      "167/167 [==============================] - 0s 3ms/step - loss: 0.0040 - mse: 0.0040 - mae: 0.0406 - val_loss: 0.0037 - val_mse: 0.0037 - val_mae: 0.0395\n",
      "Epoch 150/200\n",
      "42/42 [==============================] - 0s 919us/steposs: 0.0040 - mse: 0.0040 - mae: 0.04\n",
      "epoch  149 - r2 score: 0.8468772178579673\n",
      "167/167 [==============================] - 0s 3ms/step - loss: 0.0040 - mse: 0.0040 - mae: 0.0406 - val_loss: 0.0036 - val_mse: 0.0036 - val_mae: 0.0351\n",
      "Epoch 151/200\n",
      "42/42 [==============================] - 0s 1ms/step loss: 0.0038 - mse: 0.0038 - mae: 0.04\n",
      "epoch  150 - r2 score: 0.8429801259899906\n",
      "167/167 [==============================] - 0s 3ms/step - loss: 0.0038 - mse: 0.0038 - mae: 0.0397 - val_loss: 0.0037 - val_mse: 0.0037 - val_mae: 0.0398\n",
      "Epoch 152/200\n",
      "42/42 [==============================] - 0s 1ms/step loss: 0.0041 - mse: 0.0041 - mae: 0.04\n",
      "epoch  151 - r2 score: 0.8449739461138042\n",
      "167/167 [==============================] - 0s 3ms/step - loss: 0.0041 - mse: 0.0041 - mae: 0.0412 - val_loss: 0.0036 - val_mse: 0.0036 - val_mae: 0.0371\n",
      "Epoch 153/200\n",
      "42/42 [==============================] - 0s 1ms/step loss: 0.0038 - mse: 0.0038 - mae: 0.\n",
      "epoch  152 - r2 score: 0.846803610296508\n",
      "167/167 [==============================] - 0s 3ms/step - loss: 0.0040 - mse: 0.0040 - mae: 0.0401 - val_loss: 0.0036 - val_mse: 0.0036 - val_mae: 0.0376\n",
      "Epoch 154/200\n",
      "42/42 [==============================] - 0s 1ms/step loss: 0.0041 - mse: 0.0041 - mae: 0.04\n",
      "epoch  153 - r2 score: 0.8464059892146548\n",
      "167/167 [==============================] - 0s 2ms/step - loss: 0.0040 - mse: 0.0040 - mae: 0.0409 - val_loss: 0.0036 - val_mse: 0.0036 - val_mae: 0.0359\n",
      "Epoch 155/200\n",
      "42/42 [==============================] - 0s 806us/steposs: 0.0039 - mse: 0.0039 - mae: 0.04\n",
      "epoch  154 - r2 score: 0.8452903047989625\n",
      "167/167 [==============================] - 0s 3ms/step - loss: 0.0039 - mse: 0.0039 - mae: 0.0400 - val_loss: 0.0036 - val_mse: 0.0036 - val_mae: 0.0352\n",
      "Epoch 156/200\n",
      "42/42 [==============================] - 0s 954us/steposs: 0.0039 - mse: 0.0039 - mae: 0.04\n",
      "epoch  155 - r2 score: 0.8461382130559228\n",
      "167/167 [==============================] - 0s 3ms/step - loss: 0.0040 - mse: 0.0040 - mae: 0.0405 - val_loss: 0.0036 - val_mse: 0.0036 - val_mae: 0.0349\n",
      "Epoch 157/200\n",
      "42/42 [==============================] - 0s 1ms/step loss: 0.0042 - mse: 0.0042 - mae: 0.04\n",
      "epoch  156 - r2 score: 0.8356028353738224\n",
      "167/167 [==============================] - 0s 2ms/step - loss: 0.0041 - mse: 0.0041 - mae: 0.0410 - val_loss: 0.0039 - val_mse: 0.0039 - val_mae: 0.0362\n",
      "Epoch 158/200\n",
      "156/167 [===========================>..] - ETA: 0s - loss: 0.0041 - mse: 0.0041 - mae: 0.0411"
     ]
    },
    {
     "name": "stderr",
     "output_type": "stream",
     "text": [
      "WARNING:absl:Found untraced functions such as _update_step_xla while saving (showing 1 of 1). These functions will not be directly callable after loading.\n"
     ]
    },
    {
     "name": "stdout",
     "output_type": "stream",
     "text": [
      "INFO:tensorflow:Assets written to: models\\model-158.model\\assets\n"
     ]
    },
    {
     "name": "stderr",
     "output_type": "stream",
     "text": [
      "INFO:tensorflow:Assets written to: models\\model-158.model\\assets\n"
     ]
    },
    {
     "name": "stdout",
     "output_type": "stream",
     "text": [
      "42/42 [==============================] - 0s 988us/step\n",
      "epoch  157 - r2 score: 0.8482681689463001\n",
      "167/167 [==============================] - 2s 13ms/step - loss: 0.0041 - mse: 0.0041 - mae: 0.0410 - val_loss: 0.0036 - val_mse: 0.0036 - val_mae: 0.0353\n",
      "Epoch 159/200\n",
      "42/42 [==============================] - 0s 1ms/step loss: 0.0038 - mse: 0.0038 - mae: 0.03\n",
      "epoch  158 - r2 score: 0.8425802464268413\n",
      "167/167 [==============================] - 0s 2ms/step - loss: 0.0040 - mse: 0.0040 - mae: 0.0407 - val_loss: 0.0037 - val_mse: 0.0037 - val_mae: 0.0349\n",
      "Epoch 160/200\n",
      "42/42 [==============================] - 0s 1ms/step loss: 0.0038 - mse: 0.0038 - mae: 0.03\n",
      "epoch  159 - r2 score: 0.8461631617475691\n",
      "167/167 [==============================] - 0s 2ms/step - loss: 0.0040 - mse: 0.0040 - mae: 0.0405 - val_loss: 0.0036 - val_mse: 0.0036 - val_mae: 0.0387\n",
      "Epoch 161/200\n",
      "157/167 [===========================>..] - ETA: 0s - loss: 0.0039 - mse: 0.0039 - mae: 0.0399"
     ]
    },
    {
     "name": "stderr",
     "output_type": "stream",
     "text": [
      "WARNING:absl:Found untraced functions such as _update_step_xla while saving (showing 1 of 1). These functions will not be directly callable after loading.\n"
     ]
    },
    {
     "name": "stdout",
     "output_type": "stream",
     "text": [
      "INFO:tensorflow:Assets written to: models\\model-161.model\\assets\n"
     ]
    },
    {
     "name": "stderr",
     "output_type": "stream",
     "text": [
      "INFO:tensorflow:Assets written to: models\\model-161.model\\assets\n"
     ]
    },
    {
     "name": "stdout",
     "output_type": "stream",
     "text": [
      "42/42 [==============================] - 0s 1ms/step\n",
      "epoch  160 - r2 score: 0.8485040794855602\n",
      "167/167 [==============================] - 3s 16ms/step - loss: 0.0039 - mse: 0.0039 - mae: 0.0402 - val_loss: 0.0036 - val_mse: 0.0036 - val_mae: 0.0364\n",
      "Epoch 162/200\n",
      "42/42 [==============================] - 0s 810us/steposs: 0.0040 - mse: 0.0040 - mae: 0.04\n",
      "epoch  161 - r2 score: 0.8482613620795604\n",
      "167/167 [==============================] - 0s 2ms/step - loss: 0.0040 - mse: 0.0040 - mae: 0.0406 - val_loss: 0.0036 - val_mse: 0.0036 - val_mae: 0.0366\n",
      "Epoch 163/200\n",
      "42/42 [==============================] - 0s 1ms/step loss: 0.0041 - mse: 0.0041 - mae: 0.04\n",
      "epoch  162 - r2 score: 0.8424435479872344\n",
      "167/167 [==============================] - 0s 2ms/step - loss: 0.0040 - mse: 0.0040 - mae: 0.0410 - val_loss: 0.0037 - val_mse: 0.0037 - val_mae: 0.0353\n",
      "Epoch 164/200\n",
      "42/42 [==============================] - 0s 899us/steposs: 0.0038 - mse: 0.0038 - mae: 0.03\n",
      "epoch  163 - r2 score: 0.8406862790552311\n",
      "167/167 [==============================] - 0s 2ms/step - loss: 0.0038 - mse: 0.0038 - mae: 0.0396 - val_loss: 0.0037 - val_mse: 0.0037 - val_mae: 0.0413\n",
      "Epoch 165/200\n",
      "42/42 [==============================] - 0s 1ms/step loss: 0.0040 - mse: 0.0040 - mae: 0.04\n",
      "epoch  164 - r2 score: 0.8457250967873287\n",
      "167/167 [==============================] - 0s 2ms/step - loss: 0.0040 - mse: 0.0040 - mae: 0.0407 - val_loss: 0.0036 - val_mse: 0.0036 - val_mae: 0.0371\n",
      "Epoch 166/200\n",
      "42/42 [==============================] - 0s 1ms/step loss: 0.0040 - mse: 0.0040 - mae: 0.04\n",
      "epoch  165 - r2 score: 0.8465198536635318\n",
      "167/167 [==============================] - 0s 2ms/step - loss: 0.0040 - mse: 0.0040 - mae: 0.0404 - val_loss: 0.0036 - val_mse: 0.0036 - val_mae: 0.0349\n",
      "Epoch 167/200\n",
      "42/42 [==============================] - 0s 1ms/step loss: 0.0040 - mse: 0.0040 - mae: 0.\n",
      "epoch  166 - r2 score: 0.8426135860915853\n",
      "167/167 [==============================] - 0s 2ms/step - loss: 0.0040 - mse: 0.0040 - mae: 0.0403 - val_loss: 0.0037 - val_mse: 0.0037 - val_mae: 0.0385\n",
      "Epoch 168/200\n",
      "149/167 [=========================>....] - ETA: 0s - loss: 0.0040 - mse: 0.0040 - mae: 0.0402"
     ]
    },
    {
     "name": "stderr",
     "output_type": "stream",
     "text": [
      "WARNING:absl:Found untraced functions such as _update_step_xla while saving (showing 1 of 1). These functions will not be directly callable after loading.\n"
     ]
    },
    {
     "name": "stdout",
     "output_type": "stream",
     "text": [
      "INFO:tensorflow:Assets written to: models\\model-168.model\\assets\n"
     ]
    },
    {
     "name": "stderr",
     "output_type": "stream",
     "text": [
      "INFO:tensorflow:Assets written to: models\\model-168.model\\assets\n"
     ]
    },
    {
     "name": "stdout",
     "output_type": "stream",
     "text": [
      "42/42 [==============================] - 0s 823us/step\n",
      "epoch  167 - r2 score: 0.8486632619070608\n",
      "167/167 [==============================] - 2s 13ms/step - loss: 0.0040 - mse: 0.0040 - mae: 0.0401 - val_loss: 0.0035 - val_mse: 0.0035 - val_mae: 0.0353\n",
      "Epoch 169/200\n",
      "42/42 [==============================] - 0s 1ms/step loss: 0.0039 - mse: 0.0039 - mae: 0.03\n",
      "epoch  168 - r2 score: 0.845772552708956\n",
      "167/167 [==============================] - 0s 2ms/step - loss: 0.0039 - mse: 0.0039 - mae: 0.0399 - val_loss: 0.0036 - val_mse: 0.0036 - val_mae: 0.0378\n",
      "Epoch 170/200\n",
      "42/42 [==============================] - 0s 871us/steposs: 0.0040 - mse: 0.0040 - mae: 0.04\n",
      "epoch  169 - r2 score: 0.8414008486006385\n",
      "167/167 [==============================] - 0s 2ms/step - loss: 0.0040 - mse: 0.0040 - mae: 0.0407 - val_loss: 0.0037 - val_mse: 0.0037 - val_mae: 0.0351\n",
      "Epoch 171/200\n",
      "42/42 [==============================] - 0s 1ms/step loss: 0.0038 - mse: 0.0038 - mae: 0.03\n",
      "epoch  170 - r2 score: 0.8484535034464094\n",
      "167/167 [==============================] - 0s 2ms/step - loss: 0.0038 - mse: 0.0038 - mae: 0.0400 - val_loss: 0.0036 - val_mse: 0.0036 - val_mae: 0.0353\n",
      "Epoch 172/200\n",
      "42/42 [==============================] - 0s 1ms/step loss: 0.0039 - mse: 0.0039 - mae: 0.0401   \n",
      "epoch  171 - r2 score: 0.8451101527026543\n",
      "167/167 [==============================] - 0s 2ms/step - loss: 0.0039 - mse: 0.0039 - mae: 0.0399 - val_loss: 0.0036 - val_mse: 0.0036 - val_mae: 0.0365\n",
      "Epoch 173/200\n",
      "42/42 [==============================] - 0s 1ms/step loss: 0.0039 - mse: 0.0039 - mae: 0.03\n",
      "epoch  172 - r2 score: 0.8440839607257486\n",
      "167/167 [==============================] - 0s 2ms/step - loss: 0.0039 - mse: 0.0039 - mae: 0.0398 - val_loss: 0.0037 - val_mse: 0.0037 - val_mae: 0.0355\n",
      "Epoch 174/200\n",
      "42/42 [==============================] - 0s 907us/steposs: 0.0040 - mse: 0.0040 - mae: 0.04\n",
      "epoch  173 - r2 score: 0.8475224725668971\n",
      "167/167 [==============================] - 0s 2ms/step - loss: 0.0040 - mse: 0.0040 - mae: 0.0402 - val_loss: 0.0036 - val_mse: 0.0036 - val_mae: 0.0356\n",
      "Epoch 175/200\n",
      "42/42 [==============================] - 0s 811us/steposs: 0.0038 - mse: 0.0038 - mae: 0.04\n",
      "epoch  174 - r2 score: 0.8484118652762715\n",
      "167/167 [==============================] - 0s 2ms/step - loss: 0.0039 - mse: 0.0039 - mae: 0.0403 - val_loss: 0.0036 - val_mse: 0.0036 - val_mae: 0.0362\n",
      "Epoch 176/200\n",
      "42/42 [==============================] - 0s 1ms/step loss: 0.0039 - mse: 0.0039 - mae: 0.0401   \n",
      "epoch  175 - r2 score: 0.8436416762880015\n",
      "167/167 [==============================] - 0s 2ms/step - loss: 0.0039 - mse: 0.0039 - mae: 0.0402 - val_loss: 0.0037 - val_mse: 0.0037 - val_mae: 0.0361\n",
      "Epoch 177/200\n",
      "42/42 [==============================] - 0s 1ms/step loss: 0.0040 - mse: 0.0040 - mae: 0.04\n",
      "epoch  176 - r2 score: 0.843791179499605\n",
      "167/167 [==============================] - 0s 2ms/step - loss: 0.0040 - mse: 0.0040 - mae: 0.0410 - val_loss: 0.0037 - val_mse: 0.0037 - val_mae: 0.0354\n",
      "Epoch 178/200\n",
      "42/42 [==============================] - 0s 1ms/step loss: 0.0040 - mse: 0.0040 - mae: 0.04\n",
      "epoch  177 - r2 score: 0.8472220475921722\n",
      "167/167 [==============================] - 0s 2ms/step - loss: 0.0040 - mse: 0.0040 - mae: 0.0407 - val_loss: 0.0036 - val_mse: 0.0036 - val_mae: 0.0347\n",
      "Epoch 179/200\n",
      "42/42 [==============================] - 0s 1ms/step loss: 0.0041 - mse: 0.0041 - mae: 0.04\n",
      "epoch  178 - r2 score: 0.8463450588650157\n",
      "167/167 [==============================] - 0s 2ms/step - loss: 0.0040 - mse: 0.0040 - mae: 0.0405 - val_loss: 0.0036 - val_mse: 0.0036 - val_mae: 0.0367\n",
      "Epoch 180/200\n",
      "42/42 [==============================] - 0s 997us/steposs: 0.0039 - mse: 0.0039 - mae: 0.04\n",
      "epoch  179 - r2 score: 0.8451579161583086\n",
      "167/167 [==============================] - 0s 2ms/step - loss: 0.0040 - mse: 0.0040 - mae: 0.0407 - val_loss: 0.0036 - val_mse: 0.0036 - val_mae: 0.0352\n",
      "Epoch 181/200\n",
      "42/42 [==============================] - 0s 939us/steposs: 0.0038 - mse: 0.0038 - mae: 0.03\n",
      "epoch  180 - r2 score: 0.8441078523819363\n",
      "167/167 [==============================] - 0s 2ms/step - loss: 0.0039 - mse: 0.0039 - mae: 0.0396 - val_loss: 0.0037 - val_mse: 0.0037 - val_mae: 0.0386\n",
      "Epoch 182/200\n",
      "42/42 [==============================] - 0s 1ms/step loss: 0.0040 - mse: 0.0040 - mae: 0.04\n",
      "epoch  181 - r2 score: 0.8466487297418007\n",
      "167/167 [==============================] - 0s 2ms/step - loss: 0.0040 - mse: 0.0040 - mae: 0.0405 - val_loss: 0.0036 - val_mse: 0.0036 - val_mae: 0.0353\n",
      "Epoch 183/200\n",
      "42/42 [==============================] - 0s 962us/steposs: 0.0039 - mse: 0.0039 - mae: 0.03\n",
      "epoch  182 - r2 score: 0.8464439258197882\n",
      "167/167 [==============================] - 0s 2ms/step - loss: 0.0039 - mse: 0.0039 - mae: 0.0401 - val_loss: 0.0036 - val_mse: 0.0036 - val_mae: 0.0380\n",
      "Epoch 184/200\n",
      "42/42 [==============================] - 0s 775us/steposs: 0.0040 - mse: 0.0040 - mae: 0.04\n",
      "epoch  183 - r2 score: 0.8457700997014731\n",
      "167/167 [==============================] - 0s 2ms/step - loss: 0.0040 - mse: 0.0040 - mae: 0.0404 - val_loss: 0.0036 - val_mse: 0.0036 - val_mae: 0.0371\n",
      "Epoch 185/200\n",
      "42/42 [==============================] - 0s 1ms/step loss: 0.0039 - mse: 0.0039 - mae: 0.\n",
      "epoch  184 - r2 score: 0.848358816320157\n",
      "167/167 [==============================] - 0s 2ms/step - loss: 0.0039 - mse: 0.0039 - mae: 0.0400 - val_loss: 0.0036 - val_mse: 0.0036 - val_mae: 0.0361\n",
      "Epoch 186/200\n",
      "42/42 [==============================] - 0s 960us/steposs: 0.0039 - mse: 0.0039 - mae: 0.04\n",
      "epoch  185 - r2 score: 0.8481546812520069\n",
      "167/167 [==============================] - 0s 2ms/step - loss: 0.0039 - mse: 0.0039 - mae: 0.0400 - val_loss: 0.0036 - val_mse: 0.0036 - val_mae: 0.0351\n",
      "Epoch 187/200\n",
      "42/42 [==============================] - 0s 1ms/step loss: 0.0039 - mse: 0.0039 - mae: 0.04\n",
      "epoch  186 - r2 score: 0.8474034691502912\n",
      "167/167 [==============================] - 0s 2ms/step - loss: 0.0040 - mse: 0.0040 - mae: 0.0402 - val_loss: 0.0036 - val_mse: 0.0036 - val_mae: 0.0377\n",
      "Epoch 188/200\n",
      "42/42 [==============================] - 0s 1ms/step loss: 0.0040 - mse: 0.0040 - mae: 0.04\n",
      "epoch  187 - r2 score: 0.8450959677204372\n",
      "167/167 [==============================] - 0s 2ms/step - loss: 0.0040 - mse: 0.0040 - mae: 0.0401 - val_loss: 0.0036 - val_mse: 0.0036 - val_mae: 0.0351\n",
      "Epoch 189/200\n",
      "42/42 [==============================] - 0s 1ms/step loss: 0.0038 - mse: 0.0038 - mae: 0.03\n",
      "epoch  188 - r2 score: 0.8470706134981325\n",
      "167/167 [==============================] - 0s 2ms/step - loss: 0.0038 - mse: 0.0038 - mae: 0.0394 - val_loss: 0.0036 - val_mse: 0.0036 - val_mae: 0.0352\n",
      "Epoch 190/200\n",
      "42/42 [==============================] - 0s 794us/steposs: 0.0038 - mse: 0.0038 - mae: 0.03\n",
      "epoch  189 - r2 score: 0.8433180924528944\n",
      "167/167 [==============================] - 0s 2ms/step - loss: 0.0039 - mse: 0.0039 - mae: 0.0399 - val_loss: 0.0037 - val_mse: 0.0037 - val_mae: 0.0357\n",
      "Epoch 191/200\n",
      "42/42 [==============================] - 0s 868us/steposs: 0.0038 - mse: 0.0038 - mae: 0.03\n",
      "epoch  190 - r2 score: 0.8479972793280356\n",
      "167/167 [==============================] - 0s 2ms/step - loss: 0.0038 - mse: 0.0038 - mae: 0.0391 - val_loss: 0.0036 - val_mse: 0.0036 - val_mae: 0.0367\n",
      "Epoch 192/200\n",
      "42/42 [==============================] - 0s 837us/steposs: 0.0039 - mse: 0.0039 - mae: 0.04\n",
      "epoch  191 - r2 score: 0.8446953318536703\n",
      "167/167 [==============================] - 0s 2ms/step - loss: 0.0039 - mse: 0.0039 - mae: 0.0403 - val_loss: 0.0036 - val_mse: 0.0036 - val_mae: 0.0356\n",
      "Epoch 193/200\n",
      "154/167 [==========================>...] - ETA: 0s - loss: 0.0038 - mse: 0.0038 - mae: 0.0391"
     ]
    },
    {
     "name": "stderr",
     "output_type": "stream",
     "text": [
      "WARNING:absl:Found untraced functions such as _update_step_xla while saving (showing 1 of 1). These functions will not be directly callable after loading.\n"
     ]
    },
    {
     "name": "stdout",
     "output_type": "stream",
     "text": [
      "INFO:tensorflow:Assets written to: models\\model-193.model\\assets\n"
     ]
    },
    {
     "name": "stderr",
     "output_type": "stream",
     "text": [
      "INFO:tensorflow:Assets written to: models\\model-193.model\\assets\n"
     ]
    },
    {
     "name": "stdout",
     "output_type": "stream",
     "text": [
      "42/42 [==============================] - 0s 849us/step\n",
      "epoch  192 - r2 score: 0.8491613208058749\n",
      "167/167 [==============================] - 2s 14ms/step - loss: 0.0039 - mse: 0.0039 - mae: 0.0396 - val_loss: 0.0035 - val_mse: 0.0035 - val_mae: 0.0360\n",
      "Epoch 194/200\n",
      "42/42 [==============================] - 0s 1ms/step loss: 0.0039 - mse: 0.0039 - mae: 0.04\n",
      "epoch  193 - r2 score: 0.8455519023945983\n",
      "167/167 [==============================] - 0s 2ms/step - loss: 0.0038 - mse: 0.0038 - mae: 0.0399 - val_loss: 0.0036 - val_mse: 0.0036 - val_mae: 0.0351\n",
      "Epoch 195/200\n",
      "42/42 [==============================] - 0s 885us/steposs: 0.0038 - mse: 0.0038 - mae: 0.03\n",
      "epoch  194 - r2 score: 0.8479988106874783\n",
      "167/167 [==============================] - 0s 2ms/step - loss: 0.0039 - mse: 0.0039 - mae: 0.0396 - val_loss: 0.0036 - val_mse: 0.0036 - val_mae: 0.0370\n",
      "Epoch 196/200\n",
      "42/42 [==============================] - 0s 778us/steposs: 0.0040 - mse: 0.0040 - mae: 0.04\n",
      "epoch  195 - r2 score: 0.8457887555273755\n",
      "167/167 [==============================] - 0s 2ms/step - loss: 0.0040 - mse: 0.0040 - mae: 0.0402 - val_loss: 0.0036 - val_mse: 0.0036 - val_mae: 0.0363\n",
      "Epoch 197/200\n",
      "42/42 [==============================] - 0s 945us/steposs: 0.0039 - mse: 0.0039 - mae: 0.03\n",
      "epoch  196 - r2 score: 0.8462997855282715\n",
      "167/167 [==============================] - 0s 2ms/step - loss: 0.0040 - mse: 0.0040 - mae: 0.0402 - val_loss: 0.0036 - val_mse: 0.0036 - val_mae: 0.0376\n",
      "Epoch 198/200\n",
      "42/42 [==============================] - 0s 1ms/step loss: 0.0039 - mse: 0.0039 - mae: 0.\n",
      "epoch  197 - r2 score: 0.8468900082808132\n",
      "167/167 [==============================] - 0s 2ms/step - loss: 0.0039 - mse: 0.0039 - mae: 0.0400 - val_loss: 0.0036 - val_mse: 0.0036 - val_mae: 0.0370\n",
      "Epoch 199/200\n",
      "42/42 [==============================] - 0s 940us/steposs: 0.0039 - mse: 0.0039 - mae: 0.03\n",
      "epoch  198 - r2 score: 0.8446208448195177\n",
      "167/167 [==============================] - 0s 2ms/step - loss: 0.0039 - mse: 0.0039 - mae: 0.0400 - val_loss: 0.0036 - val_mse: 0.0036 - val_mae: 0.0382\n",
      "Epoch 200/200\n",
      "42/42 [==============================] - 0s 843us/steposs: 0.0038 - mse: 0.0038 - mae: 0.03\n",
      "epoch  199 - r2 score: 0.8476873985186102\n",
      "167/167 [==============================] - 0s 2ms/step - loss: 0.0038 - mse: 0.0038 - mae: 0.0394 - val_loss: 0.0036 - val_mse: 0.0036 - val_mae: 0.0359\n"
     ]
    }
   ],
   "source": [
    "history=model.fit(train_data,train_target,epochs=200,validation_data=(test_data,test_target),callbacks=[checkpoint,CustomCallback()])"
   ]
  },
  {
   "cell_type": "code",
   "execution_count": 14,
   "metadata": {},
   "outputs": [
    {
     "data": {
      "image/png": "[encoded data removed]",
      "text/plain": [
       "<Figure size 640x480 with 1 Axes>"
      ]
     },
     "metadata": {},
     "output_type": "display_data"
    }
   ],
   "source": [
    "from matplotlib import pyplot as plt\n",
    "\n",
    "plt.plot(model.history.history['loss'])\n",
    "plt.plot(model.history.history['val_loss'])\n",
    "plt.xlabel('# epochs')\n",
    "plt.ylabel('loss')\n",
    "plt.show()"
   ]
  },
  {
   "cell_type": "code",
   "execution_count": 33,
   "metadata": {},
   "outputs": [
    {
     "name": "stdout",
     "output_type": "stream",
     "text": [
      "actual: [[0.05158265 0.003517   0.10785463 0.03868699 0.27901524 0.27432591\n",
      "  0.11840563 0.01172333 0.007034   0.38335287]]\n",
      "predicted: [[0.04715577 0.0166785  0.14114821 0.06271999 0.18513197 0.37826183\n",
      "  0.12288661 0.01596179 0.02159651 0.06493733]]\n"
     ]
    }
   ],
   "source": [
    "print('actual:',test_target[:10].T)\n",
    "print('predicted:',predicted_result[:10].T)"
   ]
  },
  {
   "cell_type": "code",
   "execution_count": 34,
   "metadata": {},
   "outputs": [
    {
     "name": "stdout",
     "output_type": "stream",
     "text": [
      "actual inverse scaled: [[ 4.5  0.4  9.3  3.4 23.9 23.5 10.2  1.1  0.7 32.8]]\n",
      "predicted inverse scaled: [[ 4.122387   1.5226758 12.139942   5.4500155 15.891757  32.365734\n",
      "  10.582228   1.4615408  1.942182   5.6391544]]\n"
     ]
    }
   ],
   "source": [
    "print('actual inverse scaled:',scaler_target.inverse_transform(test_target[:10]).T)\n",
    "print('predicted inverse scaled:',scaler_target.inverse_transform(predicted_result[:10]).T)"
   ]
  },
  {
   "cell_type": "markdown",
   "metadata": {},
   "source": [
    "# Save all the models"
   ]
  },
  {
   "cell_type": "code",
   "execution_count": 19,
   "metadata": {},
   "outputs": [
    {
     "data": {
      "text/plain": [
       "['scaler_target.sav']"
      ]
     },
     "execution_count": 19,
     "metadata": {},
     "output_type": "execute_result"
    }
   ],
   "source": [
    "import joblib\n",
    "\n",
    "joblib.dump(scaler_data,'scaler_data.sav')\n",
    "joblib.dump(scaler_target,'scaler_target.sav')"
   ]
  },
  {
   "cell_type": "code",
   "execution_count": null,
   "metadata": {},
   "outputs": [],
   "source": []
  }
 ],
 "metadata": {
  "kernelspec": {
   "display_name": "Python 3",
   "language": "python",
   "name": "python3"
  },
  "language_info": {
   "codemirror_mode": {
    "name": "ipython",
    "version": 3
   },
   "file_extension": ".py",
   "mimetype": "text/x-python",
   "name": "python",
   "nbconvert_exporter": "python",
   "pygments_lexer": "ipython3",
   "version": "3.8.8"
  }
 },
 "nbformat": 4,
 "nbformat_minor": 2
}
